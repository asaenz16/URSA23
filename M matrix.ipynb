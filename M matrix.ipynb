{
 "cells": [
  {
   "cell_type": "code",
   "execution_count": 1,
   "metadata": {},
   "outputs": [],
   "source": [
    "import torch\n"
   ]
  },
  {
   "cell_type": "code",
   "execution_count": 37,
   "metadata": {},
   "outputs": [],
   "source": [
    "L = 2\n",
    "n = 2\n",
    "z = [1,2]\n",
    "d=0.1\n"
   ]
  },
  {
   "cell_type": "code",
   "execution_count": 53,
   "metadata": {},
   "outputs": [],
   "source": [
    "def W(zi,zj,d):\n",
    "    w = (d*(1+zi**2+d*zi))/((1+zi*zj+d*zi)*(1+zi*zj-d*zj))\n",
    "    return w"
   ]
  },
  {
   "cell_type": "code",
   "execution_count": 46,
   "metadata": {},
   "outputs": [],
   "source": [
    "def create_M_matrix(z):\n",
    "    # Create Laplacian weight matrix\n",
    "    Lap = []\n",
    "    for i in range(n):\n",
    "        row = []\n",
    "        for j in range(n):\n",
    "            if i ==j:\n",
    "                diag = 0\n",
    "                for k in range(n):\n",
    "                    if i!=k:\n",
    "                        diag += W(z[i],z[k],d)\n",
    "                row.append(diag)\n",
    "            if i!=j:\n",
    "                row.append(-W(z[i],z[j],d))\n",
    "        Lap.append(row)\n",
    "    \n",
    "    # Create lambda matrix\n",
    "    Lam = torch.zeros(n,n)\n",
    "    for i in range(n):\n",
    "        Lam[i,i] = L/z[i]\n",
    "\n",
    "    # Create M matrix\n",
    "    M = Lam + torch.Tensor(Lap)\n",
    "\n",
    "    return M"
   ]
  },
  {
   "cell_type": "code",
   "execution_count": 47,
   "metadata": {},
   "outputs": [],
   "source": [
    "def get_coeff(M,z):\n",
    "    new_z = torch.tensor(z)\n",
    "    coeff = ((torch.prod(new_z).item())/L**len(z))*torch.linalg.det(M)\n",
    "    return coeff\n"
   ]
  },
  {
   "cell_type": "code",
   "execution_count": 55,
   "metadata": {},
   "outputs": [
    {
     "name": "stdout",
     "output_type": "stream",
     "text": [
      "1.0681312084197998\n"
     ]
    }
   ],
   "source": [
    "M = create_M_matrix(z)\n",
    "c = get_coeff(M,z).item()\n",
    "print(c)"
   ]
  },
  {
   "cell_type": "code",
   "execution_count": null,
   "metadata": {},
   "outputs": [],
   "source": []
  }
 ],
 "metadata": {
  "kernelspec": {
   "display_name": "base",
   "language": "python",
   "name": "python3"
  },
  "language_info": {
   "codemirror_mode": {
    "name": "ipython",
    "version": 3
   },
   "file_extension": ".py",
   "mimetype": "text/x-python",
   "name": "python",
   "nbconvert_exporter": "python",
   "pygments_lexer": "ipython3",
   "version": "3.7.4"
  },
  "orig_nbformat": 4
 },
 "nbformat": 4,
 "nbformat_minor": 2
}
