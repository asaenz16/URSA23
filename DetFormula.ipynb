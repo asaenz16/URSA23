{
 "cells": [
  {
   "cell_type": "code",
   "execution_count": 32,
   "metadata": {},
   "outputs": [],
   "source": [
    "import numpy as np\n",
    "import scipy.special as sp\n",
    "import random\n",
    "from matplotlib import pyplot as plt\n",
    "from itertools import permutations"
   ]
  },
  {
   "cell_type": "markdown",
   "metadata": {},
   "source": [
    "z is a list that contains the solutions to the Bethe equations:\\\\\n",
    "\n",
    "$z_i^L = \\prod_{j=1}^N\\left( - \\frac{1 + z_i z_j - \\Delta z_i}{1 + z_i z_j - \\Delta z_j}\\right), \\quad i =1, 2, \\dots, N$\n",
    "\n",
    "So, $z  = [z_1, z_2, \\dots, z_N]$"
   ]
  },
  {
   "cell_type": "code",
   "execution_count": 31,
   "metadata": {},
   "outputs": [],
   "source": [
    "def M(z, i, j, d):\n",
    "    return ( 1 + z[j]*z[j] - d*z[j] )/((1 + z[i]*z[j] - d*z[j])*(1 + z[i]*z[j] - d*z[i]))"
   ]
  },
  {
   "cell_type": "markdown",
   "metadata": {},
   "source": [
    "The following function gives the matrix for the coefficients"
   ]
  },
  {
   "cell_type": "code",
   "execution_count": 27,
   "metadata": {},
   "outputs": [],
   "source": [
    "def Cmat(z, d, L):\n",
    "    n = len(z)\n",
    "    diag =0\n",
    "    mat = [[ - M(z, i, j, d) for i in range(n)] for j in range(n) ]\n",
    "    for i in range(n):\n",
    "        diag = sum(mat[i]) + M(z, i, i, d)\n",
    "        mat[i][i] = -diag + (L/z[i])\n",
    "    return(mat)"
   ]
  },
  {
   "cell_type": "code",
   "execution_count": 39,
   "metadata": {},
   "outputs": [],
   "source": [
    "def Coeff(y, z, d, L):\n",
    "    n = len(z)\n",
    "    terms = [ z[i]**(y[i]) for i in range(n)] \n",
    "    coeff = np.prod(terms)\n",
    "    coeff = coeff*np.linalg.det(Cmat(z, d, L))\n",
    "    coeff = 1/coeff\n",
    "    return coeff"
   ]
  },
  {
   "cell_type": "code",
   "execution_count": 43,
   "metadata": {},
   "outputs": [
    {
     "data": {
      "text/plain": [
       "0.0002352885814451425"
      ]
     },
     "execution_count": 43,
     "metadata": {},
     "output_type": "execute_result"
    }
   ],
   "source": [
    "z = [1,2,3]\n",
    "y = [1,2,3]\n",
    "d = 1\n",
    "L = 2\n",
    "Coeff(y, z, d, L)"
   ]
  },
  {
   "cell_type": "code",
   "execution_count": 29,
   "metadata": {},
   "outputs": [
    {
     "data": {
      "text/plain": [
       "[[10.833333333333334, -0.5, -0.3333333333333333],\n",
       " [-2.0, 7.8, -0.8],\n",
       " [-3.0, -1.25, 7.583333333333334]]"
      ]
     },
     "execution_count": 29,
     "metadata": {},
     "output_type": "execute_result"
    }
   ],
   "source": [
    "Cmat([1,2,3], 1, 10)"
   ]
  },
  {
   "cell_type": "code",
   "execution_count": 34,
   "metadata": {},
   "outputs": [
    {
     "data": {
      "text/plain": [
       "[(0, 1, 2), (0, 2, 1), (1, 0, 2), (1, 2, 0), (2, 0, 1), (2, 1, 0)]"
      ]
     },
     "execution_count": 34,
     "metadata": {},
     "output_type": "execute_result"
    }
   ],
   "source": [
    "list(permutations(range(3)))"
   ]
  },
  {
   "cell_type": "code",
   "execution_count": 35,
   "metadata": {},
   "outputs": [],
   "source": [
    "def inversions(s):\n",
    "    n = len(s)\n",
    "    inv = []\n",
    "    for i in range(n):\n",
    "        for j in range(i+1, n):\n",
    "            if s[i] > s[j]:\n",
    "                inv.append((i,j))\n",
    "    return inv"
   ]
  },
  {
   "cell_type": "code",
   "execution_count": 36,
   "metadata": {},
   "outputs": [
    {
     "data": {
      "text/plain": [
       "[(1, 2)]"
      ]
     },
     "execution_count": 36,
     "metadata": {},
     "output_type": "execute_result"
    }
   ],
   "source": [
    "inversions((0,2,1))"
   ]
  },
  {
   "cell_type": "code",
   "execution_count": 37,
   "metadata": {},
   "outputs": [],
   "source": [
    "def A(z, s, d):\n",
    "    n = len(z)\n",
    "    inv = inversions(s)\n",
    "    terms = [ -(1 + z[i[0]]*z[i[1]] - d*z[i[1]])/(1 + z[i[0]]*z[i[1]] - d*z[i[0]]) for i in inv]\n",
    "    return np.prod(terms)"
   ]
  },
  {
   "cell_type": "code",
   "execution_count": 38,
   "metadata": {},
   "outputs": [
    {
     "data": {
      "text/plain": [
       "-0.8"
      ]
     },
     "execution_count": 38,
     "metadata": {},
     "output_type": "execute_result"
    }
   ],
   "source": [
    "z = [1,2,3]\n",
    "s = (0,2,1)\n",
    "d=1\n",
    "A(z, s, d)"
   ]
  },
  {
   "cell_type": "code",
   "execution_count": 40,
   "metadata": {},
   "outputs": [],
   "source": [
    "def eigenfun(x, z, d):\n",
    "    n = len(z)\n",
    "    per = list(permutations(range(n)))\n",
    "    final_term=0\n",
    "    term = 0\n",
    "    for s in per:\n",
    "        term = A(z, s,d)\n",
    "        for i in range(n):\n",
    "            term = term*(z[s[i]]**(x[i]))\n",
    "        final_term = final_term + term\n",
    "    return final_term"
   ]
  },
  {
   "cell_type": "code",
   "execution_count": 41,
   "metadata": {},
   "outputs": [
    {
     "data": {
      "text/plain": [
       "30.6"
      ]
     },
     "execution_count": 41,
     "metadata": {},
     "output_type": "execute_result"
    }
   ],
   "source": [
    "z=[1,2,3]\n",
    "x=[1,2,3]\n",
    "d=1\n",
    "eigenfun(x, z, d)"
   ]
  },
  {
   "cell_type": "code",
   "execution_count": 19,
   "metadata": {},
   "outputs": [
    {
     "name": "stdout",
     "output_type": "stream",
     "text": [
      "[[-1.0, -2.0, -3.0], [-0.5, -1.0, -1.25], [-0.3333333333333333, -0.8, -1.0]]\n",
      "[-0.5, -1.0, -1.25]\n"
     ]
    },
    {
     "data": {
      "text/plain": [
       "-2.75"
      ]
     },
     "execution_count": 19,
     "metadata": {},
     "output_type": "execute_result"
    }
   ],
   "source": [
    "z= [1,2,3]\n",
    "n = len(z)\n",
    "d=1\n",
    "mat = [[W(z, i, j, d) for j in range(n)] for i in range(n)]\n",
    "np.linalg.det(mat)\n",
    "print(mat)\n",
    "print(mat[1])\n",
    "sum(mat[1])\n"
   ]
  },
  {
   "cell_type": "code",
   "execution_count": null,
   "metadata": {},
   "outputs": [],
   "source": []
  }
 ],
 "metadata": {
  "kernelspec": {
   "display_name": "Python 3",
   "language": "python",
   "name": "python3"
  },
  "language_info": {
   "codemirror_mode": {
    "name": "ipython",
    "version": 3
   },
   "file_extension": ".py",
   "mimetype": "text/x-python",
   "name": "python",
   "nbconvert_exporter": "python",
   "pygments_lexer": "ipython3",
   "version": "3.12.1"
  },
  "orig_nbformat": 4
 },
 "nbformat": 4,
 "nbformat_minor": 2
}
