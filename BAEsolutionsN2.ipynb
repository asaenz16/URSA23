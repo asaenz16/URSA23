{
 "cells": [
  {
   "attachments": {},
   "cell_type": "markdown",
   "metadata": {},
   "source": [
    "# Numerical Solutions for the Bethe Equations"
   ]
  },
  {
   "attachments": {},
   "cell_type": "markdown",
   "metadata": {},
   "source": [
    "## Goal\n",
    "\n",
    "Solve the system of equations\n",
    "\n",
    "$z_1^L = -\\frac{1 + z_1 z_2 - \\Delta z_1}{1 + z_1 z_2 - \\Delta z_2}$\n",
    "\n",
    "\n",
    "$z_2^L = -\\frac{1 + z_1 z_2 - \\Delta z_2}{1 + z_1 z_2 - \\Delta z_1}$\n",
    "\n",
    "and check the identity\n",
    "\n",
    "$\\mathbf{1}((x_1 < x_2) = (y_1 < y_2) \\mod L) = \\sum_{z \\in Sol} \\frac{B_1(z_1, z_2)B_2(z_1, z_2)}{z_1^{y_1+1}z_2^{y_2+1}}\\left(z_1^{x_1} z_2^{x_2} +A(z_1, z_2) z_1^{x_2} z_2^{x_1} \\right)$\n",
    "\n",
    "with \n",
    "\n",
    "$B_1(z_1, z_2) =\\left( Lz_1^{L-1} + \\frac{\\Delta z_2 (z_1-z_2)}{(1 + z_1 z_2 -\\Delta z_2)^2} -\\frac{\\Delta}{(1 + z_1 z_2 -\\Delta  z_2)}   \\right)^{-1}$\n",
    "\n",
    "$B_2(z_1, z_2) =\\left( Lz_2^{L-1} + \\frac{\\Delta z_1 (z_2-z_1)}{(1 + z_1 z_2 -\\Delta z_1)^2} -\\frac{\\Delta}{(1 + z_1 z_2 -\\Delta z_1 )}   \\right)^{-1}$\n",
    "\n",
    "$A(z_1, z_2) = -\\frac{1 + z_1 z_2 - \\Delta z_2}{1 + z_1 z_2 - \\Delta z_1}$\n",
    "\n",
    "so that $Sol$ is the set of all the solution to the system of equations above."
   ]
  },
  {
   "cell_type": "code",
   "execution_count": 1,
   "metadata": {},
   "outputs": [
    {
     "name": "stderr",
     "output_type": "stream",
     "text": [
      "/tmp/ipykernel_1051/3156728878.py:4: MatplotlibDeprecationWarning: The seaborn styles shipped by Matplotlib are deprecated since 3.6, as they no longer correspond to the styles shipped by seaborn. However, they will remain available as 'seaborn-v0_8-<style>'. Alternatively, directly use the seaborn API instead.\n",
      "  plt.style.use('seaborn-poster')\n"
     ]
    }
   ],
   "source": [
    "import numpy as np\n",
    "from mpl_toolkits import mplot3d\n",
    "import matplotlib.pyplot as plt\n",
    "plt.style.use('seaborn-poster')"
   ]
  },
  {
   "attachments": {},
   "cell_type": "markdown",
   "metadata": {},
   "source": [
    "### Example: Finding roots\n",
    "\n",
    "The code below finds the roots of the polynomial $z^2-1$."
   ]
  },
  {
   "cell_type": "code",
   "execution_count": 2,
   "metadata": {},
   "outputs": [
    {
     "name": "stdout",
     "output_type": "stream",
     "text": [
      "[-1.  1.]\n"
     ]
    }
   ],
   "source": [
    "coeff = [1, 0, -1]\n",
    "sol = np.roots(coeff)\n",
    "print(sol)"
   ]
  },
  {
   "attachments": {},
   "cell_type": "markdown",
   "metadata": {},
   "source": [
    "## Numerical Solutions\n",
    "\n",
    "We solve the system of equations by a fix point method: \n",
    "\n",
    "$(z_{1,n}, z_{2,n}) \\rightarrow (z_1, z_2)$ as $n\\rightarrow \\infty$.\n",
    "\n",
    "The sequence converges to a solution. We define the sequence as follows:\n",
    "\n",
    "$z_{1, n+1} = A^{-1/L}(z_{1, n}, z_{2,n})$ and $z_{2, n+1} = A^{1/L}(z_{1, n}, z_{2,n})$.\n",
    "\n",
    "Since there are $L$ roots of unity, we have to make a choice of which root to pick and we pick the one that is closest to the previous one. That is, we are looking for the roots of the polynomials\n",
    "\n",
    "$z_{1, n+1}^{L} - A^{-1}(z_{1, n}, z_{2,n})$ and $z_{2, n+1}^L - A(z_{1, n}, z_{2,n})$\n",
    "\n",
    "with respect to $z_{n+1}$."
   ]
  },
  {
   "attachments": {},
   "cell_type": "markdown",
   "metadata": {},
   "source": [
    "### Defining the constant coefficient\n",
    "\n",
    "We define the $A(z_1, z_2)$ and $A^{-1}(z_1, z_2)$ as the coefficients $c1$ and $c2$ for the pair of polynomial equations."
   ]
  },
  {
   "cell_type": "code",
   "execution_count": 3,
   "metadata": {},
   "outputs": [],
   "source": [
    "def c2(z1, z2, d):\n",
    "    return -(1 + z1*z2 - d*z2)/(1+ z1*z2 - d*z1)\n",
    "\n",
    "def c1(z1, z2, d):\n",
    "    return -(1 + z1*z2 - d*z1)/(1+z1*z2 - d*z2)"
   ]
  },
  {
   "cell_type": "code",
   "execution_count": 4,
   "metadata": {},
   "outputs": [
    {
     "data": {
      "text/plain": [
       "-0.2"
      ]
     },
     "execution_count": 4,
     "metadata": {},
     "output_type": "execute_result"
    }
   ],
   "source": [
    "c1(2, 3, 4)"
   ]
  },
  {
   "cell_type": "code",
   "execution_count": 5,
   "metadata": {},
   "outputs": [
    {
     "data": {
      "text/plain": [
       "-5.0"
      ]
     },
     "execution_count": 5,
     "metadata": {},
     "output_type": "execute_result"
    }
   ],
   "source": [
    "c2(2,3,4)"
   ]
  },
  {
   "cell_type": "code",
   "execution_count": 6,
   "metadata": {},
   "outputs": [
    {
     "data": {
      "text/plain": [
       "1.0"
      ]
     },
     "execution_count": 6,
     "metadata": {},
     "output_type": "execute_result"
    }
   ],
   "source": [
    "c1(2, 3, 4)*c2(2, 3, 4)"
   ]
  },
  {
   "attachments": {},
   "cell_type": "markdown",
   "metadata": {},
   "source": [
    "### Defining the polynomial\n",
    "\n",
    "A polynomial is defined as a list of coefficients. The polynimials that we are trying to solve\n",
    "\n",
    "$z_1^L - c1 =0$  and $z_2^L - c_2=0$\n",
    "\n",
    "corresponds to the list\n",
    "\n",
    "[1, 0, ... , 0, -c1] and [1, 0, ... , -c2].\n",
    "\n",
    "We define a functions below to give such lists."
   ]
  },
  {
   "cell_type": "code",
   "execution_count": 7,
   "metadata": {},
   "outputs": [],
   "source": [
    "def pol_coeff1(l, z1, z2, d):\n",
    "    coeff = [1]\n",
    "    for i in range(l-1):\n",
    "        coeff.append(0)\n",
    "    coeff.append(-c1(z1, z2, d))\n",
    "    return coeff"
   ]
  },
  {
   "cell_type": "code",
   "execution_count": 8,
   "metadata": {},
   "outputs": [
    {
     "data": {
      "text/plain": [
       "array([-0.72477966+0.j        , -0.22396923+0.68930642j,\n",
       "       -0.22396923-0.68930642j,  0.58635907+0.4260148j ,\n",
       "        0.58635907-0.4260148j ])"
      ]
     },
     "execution_count": 8,
     "metadata": {},
     "output_type": "execute_result"
    }
   ],
   "source": [
    "pol_coeff1(5, 2, 3, 4)\n",
    "np.roots(pol_coeff1(5, 2, 3, 4))"
   ]
  },
  {
   "cell_type": "code",
   "execution_count": 9,
   "metadata": {},
   "outputs": [],
   "source": [
    "def pol_coeff2(l, z1, z2, d):\n",
    "    coeff = [1]\n",
    "    for i in range(l-1):\n",
    "        coeff.append(0)\n",
    "    coeff.append(-c2(z1, z2, d))\n",
    "    return coeff"
   ]
  },
  {
   "cell_type": "code",
   "execution_count": 10,
   "metadata": {},
   "outputs": [
    {
     "data": {
      "text/plain": [
       "[1, 0, 0, 0, 0, 5.0]"
      ]
     },
     "execution_count": 10,
     "metadata": {},
     "output_type": "execute_result"
    }
   ],
   "source": [
    "pol_coeff2(5, 2, 3, 4)"
   ]
  },
  {
   "cell_type": "code",
   "execution_count": 11,
   "metadata": {},
   "outputs": [
    {
     "data": {
      "text/plain": [
       "[1, 0, 1.0]"
      ]
     },
     "execution_count": 11,
     "metadata": {},
     "output_type": "execute_result"
    }
   ],
   "source": [
    "pol_coeff2(2, 1, 1, 0)"
   ]
  },
  {
   "attachments": {},
   "cell_type": "markdown",
   "metadata": {},
   "source": [
    "### Finding close solutions\n",
    "\n",
    "When we obtain the solutions of the polynomial equations, we obtain $L$ solutions but we are only interested in the solution that is closest to the previous element of the sequence $(z_{1,n}, z_{2,n})$. The code below solves the polynomials and returns the \"closest\" solutions."
   ]
  },
  {
   "cell_type": "code",
   "execution_count": 12,
   "metadata": {},
   "outputs": [],
   "source": [
    "def close_sol1(l, z1, z2, d, s ):\n",
    "    sols = np.roots(pol_coeff1(l, z1, z2, d))\n",
    "    sols = [x-s for x in sols]\n",
    "    return min(sols, key=np.abs) + s\n"
   ]
  },
  {
   "cell_type": "code",
   "execution_count": 13,
   "metadata": {},
   "outputs": [
    {
     "data": {
      "text/plain": [
       "(0.049937616943892205+0.9987523388778446j)"
      ]
     },
     "execution_count": 13,
     "metadata": {},
     "output_type": "execute_result"
    }
   ],
   "source": [
    "close_sol1(2, 1j, -1j, 0.1, 1j)"
   ]
  },
  {
   "cell_type": "code",
   "execution_count": 14,
   "metadata": {},
   "outputs": [],
   "source": [
    "def close_sol2(l, z1, z2, d, s ):\n",
    "    sols = np.roots(pol_coeff2(l, z1, z2, d))\n",
    "    sols = [x-s for x in sols]\n",
    "    return min(sols, key=np.abs) + s"
   ]
  },
  {
   "cell_type": "code",
   "execution_count": 15,
   "metadata": {},
   "outputs": [
    {
     "data": {
      "text/plain": [
       "(-0.04993761694389226+0.9987523388778448j)"
      ]
     },
     "execution_count": 15,
     "metadata": {},
     "output_type": "execute_result"
    }
   ],
   "source": [
    "close_sol2(2, 1j, -1j, 0.1, 1j)"
   ]
  },
  {
   "attachments": {},
   "cell_type": "markdown",
   "metadata": {},
   "source": [
    "### Setting up a recursion\n",
    "\n",
    "We now set up a recursion to give us the an arbitrary element of the sequence $(z_{1,n}, z_{2,n})$. The starting point of the recursion is label by an index $(k_1, k_2)$ so that $k_i \\in \\{1, \\dots, L\\}$ and \n",
    "\n",
    "$(z_{1,0}, z_{2,0}) = (e^{2 \\pi i k_1/L}, e^{2\\pi i k_2/L})$,\n",
    "\n",
    "i.e. the solutions of the system of equations with $\\Delta = 0$.\n",
    "\n",
    "Notation: n= trails."
   ]
  },
  {
   "cell_type": "code",
   "execution_count": 16,
   "metadata": {},
   "outputs": [
    {
     "name": "stdout",
     "output_type": "stream",
     "text": [
      "[-1.        +0.j         -0.30901699+0.95105652j -0.30901699-0.95105652j\n",
      "  0.80901699+0.58778525j  0.80901699-0.58778525j]\n",
      "[(-0.3090169943749479+0.9510565162951541j), (-0.3090169943749479-0.9510565162951541j)]\n"
     ]
    }
   ],
   "source": [
    "l=5\n",
    "sol = np.roots(pol_coeff1(l, 0, 0, 0))\n",
    "print(sol)\n",
    "z= [sol[1], sol[2]]\n",
    "print(z)\n"
   ]
  },
  {
   "cell_type": "code",
   "execution_count": 17,
   "metadata": {},
   "outputs": [
    {
     "name": "stdout",
     "output_type": "stream",
     "text": [
      "[(-0.2911619922237325+0.9566737658597665j), (-0.2911619922237325-0.9566737658597665j)]\n"
     ]
    }
   ],
   "source": [
    "d=.1\n",
    "z= [close_sol1(l , z[0], z[1], d, z[0]), close_sol2(l, z[0], z[1], d, z[1])]\n",
    "print(z)"
   ]
  },
  {
   "cell_type": "code",
   "execution_count": 18,
   "metadata": {},
   "outputs": [],
   "source": [
    "def sol_sys(l, d, k1, k2, trails):\n",
    "    sol = np.roots(pol_coeff1(l, 0, 0, 0))\n",
    "    z = [sol[k1], sol[k2]]\n",
    "    for i in range(trails):\n",
    "        z=[close_sol1(l , z[0], z[1], d, z[0]), close_sol2(l, z[0], z[1], d, z[1])]\n",
    "    return (z[0], z[1])"
   ]
  },
  {
   "cell_type": "code",
   "execution_count": 19,
   "metadata": {},
   "outputs": [
    {
     "data": {
      "text/plain": [
       "((-0.2910397456371135+0.956710962861556j),\n",
       " (-0.2910397456371135-0.956710962861556j))"
      ]
     },
     "execution_count": 19,
     "metadata": {},
     "output_type": "execute_result"
    }
   ],
   "source": [
    "sol_sys(5, 0.1, 1, 2, 30)"
   ]
  },
  {
   "cell_type": "code",
   "execution_count": 20,
   "metadata": {},
   "outputs": [
    {
     "data": {
      "text/plain": [
       "((-0.9999004932239454-0.01410686536793182j),\n",
       " (-0.2955698188574211+0.955321140863423j))"
      ]
     },
     "execution_count": 20,
     "metadata": {},
     "output_type": "execute_result"
    }
   ],
   "source": [
    "sol_sys(5, 0.1, 0, 1, 30)"
   ]
  },
  {
   "cell_type": "code",
   "execution_count": 21,
   "metadata": {},
   "outputs": [
    {
     "data": {
      "text/plain": [
       "((-0.9434203418185536-0.33159924403255625j),\n",
       " (0.023836703374754385+0.9997158654198816j))"
      ]
     },
     "execution_count": 21,
     "metadata": {},
     "output_type": "execute_result"
    }
   ],
   "source": [
    "sol_sys(5, 10, 0, 1, 30)"
   ]
  },
  {
   "attachments": {},
   "cell_type": "markdown",
   "metadata": {},
   "source": [
    "### Checking the solution\n",
    "\n",
    "We check the solution by showing that \n",
    "\n",
    "$z_{1,n}^L - A^{-1}(z_n)$ and $z_{2,n}^{L} - A(z_n)$\n",
    "\n",
    "are close to zero.\n",
    "\n",
    "Notation: n= trails."
   ]
  },
  {
   "cell_type": "code",
   "execution_count": 22,
   "metadata": {},
   "outputs": [
    {
     "name": "stdout",
     "output_type": "stream",
     "text": [
      "(-6.661338147750939e-16-2.789435349370706e-15j)\n",
      "(-8.881784197001252e-16-8.604228440844963e-16j)\n"
     ]
    }
   ],
   "source": [
    "l=5\n",
    "d=0.1\n",
    "k1=1\n",
    "k2=4\n",
    "trails=30\n",
    "z= sol_sys(l, d, k1, k2, trails)\n",
    "print(z[0]**l - c1(z[0], z[1], d))\n",
    "print(z[1]**l- c2(z[0], z[1], d))"
   ]
  },
  {
   "attachments": {},
   "cell_type": "markdown",
   "metadata": {},
   "source": [
    "### Checking that all solutions are different\n",
    "\n",
    "We check that all the solutions labelled by the indexes $(k_1, k_2)$ with $k_i \\in \\{1, \\dots, L\\}$ are distinct. This proves that we have found all the different solutions."
   ]
  },
  {
   "cell_type": "code",
   "execution_count": 23,
   "metadata": {},
   "outputs": [
    {
     "data": {
      "text/plain": [
       "[(0, 1),\n",
       " (0, 2),\n",
       " (0, 3),\n",
       " (0, 4),\n",
       " (1, 2),\n",
       " (1, 3),\n",
       " (1, 4),\n",
       " (2, 3),\n",
       " (2, 4),\n",
       " (3, 4)]"
      ]
     },
     "execution_count": 23,
     "metadata": {},
     "output_type": "execute_result"
    }
   ],
   "source": [
    "[(i,j) for i in range(l) for j in range(i+1, l)]"
   ]
  },
  {
   "cell_type": "code",
   "execution_count": 24,
   "metadata": {},
   "outputs": [
    {
     "name": "stdout",
     "output_type": "stream",
     "text": [
      "[((-0.9999004932239464-0.014106865367932042j), (-0.29556981885742145+0.9553211408634232j)), ((-0.9999004932239464+0.014106865367932042j), (-0.29556981885742145-0.9553211408634232j)), ((-0.9982161702461371-0.05970324496318047j), (0.8426665326923638+0.5384358036760087j)), ((-0.9982161702461371+0.05970324496318047j), (0.8426665326923638-0.5384358036760087j)), ((-0.29556981885742145+0.9553211408634232j), (-0.9999004932239464-0.014106865367932042j)), ((-0.2910397456371135+0.956710962861556j), (-0.2910397456371135-0.956710962861556j)), ((-0.2695024611955084+0.9629997006279731j), (0.7840690931242289+0.6206735512387719j)), ((-0.28631282465912894+0.9581361940954486j), (0.8227661423655492-0.5683800444921631j)), ((-0.29556981885742145-0.9553211408634232j), (-0.9999004932239464+0.014106865367932042j)), ((-0.2910397456371135-0.956710962861556j), (-0.2910397456371135+0.956710962861556j)), ((-0.28631282465912894-0.9581361940954486j), (0.8227661423655492+0.5683800444921631j)), ((-0.2695024611955084-0.9629997006279731j), (0.7840690931242289-0.6206735512387719j)), ((0.8426665326923638+0.5384358036760087j), (-0.9982161702461371-0.05970324496318047j)), ((0.7840690931242289+0.6206735512387719j), (-0.2695024611955084+0.9629997006279731j)), ((0.8227661423655492+0.5683800444921631j), (-0.28631282465912894-0.9581361940954486j)), ((0.8160397456371133+0.5779957902446311j), (0.8160397456371133-0.5779957902446311j)), ((0.8426665326923638-0.5384358036760087j), (-0.9982161702461371+0.05970324496318047j)), ((0.8227661423655492-0.5683800444921631j), (-0.28631282465912894+0.9581361940954486j)), ((0.7840690931242289-0.6206735512387719j), (-0.2695024611955084-0.9629997006279731j)), ((0.8160397456371133-0.5779957902446311j), (0.8160397456371133+0.5779957902446311j))]\n"
     ]
    }
   ],
   "source": [
    "l=5\n",
    "d=.1\n",
    "trails=300\n",
    "all_sol = [sol_sys(l, d, k1, k2, trails) for k1 in range(l) for k2 in range(l) if k1 != k2]\n",
    "print(all_sol)"
   ]
  },
  {
   "cell_type": "code",
   "execution_count": 25,
   "metadata": {},
   "outputs": [
    {
     "name": "stdout",
     "output_type": "stream",
     "text": [
      "[1.1777914280376254, 1.1777914280376254, 1.1777914280376254, 1.1777914280376254, 1.1777914280376254, 1.1777914280376254, 1.1777914280376254, 1.1777914280376254, 1.1822471185531238, 1.1822471185531238, 1.1822471185531238, 1.1822471185531238, 1.1822471185531238, 1.1822471185531238, 1.1822471185531238, 1.1822471185531238, 1.1841391914090127, 1.1841391914090127, 1.1841391914090127, 1.1841391914090127, 1.1841391914090127, 1.1841391914090127, 1.1841391914090127, 1.1841391914090127, 1.1844982406343079, 1.1844982406343079, 1.1844982406343079, 1.1844982406343079, 1.1844982406343079, 1.1844982406343079, 1.1844982406343079, 1.1844982406343079, 1.1962780972783784, 1.1962780972783784, 1.1962780972783784, 1.1962780972783784, 1.2071828873025654, 1.2071828873025654, 1.2071828873025654, 1.2071828873025654, 1.2071828873025654, 1.2071828873025654, 1.2071828873025654, 1.2071828873025654, 1.2578054257784657, 1.2578054257784657, 1.2578054257784657, 1.2578054257784657, 1.2578054257784657, 1.2578054257784657, 1.2578054257784657, 1.2578054257784657, 1.3567434466865336, 1.3567434466865336, 1.3567434466865336, 1.3567434466865336, 1.3567434466865336, 1.3567434466865336, 1.3567434466865336, 1.3567434466865336, 1.9147562466289758, 1.9147562466289758, 1.9147562466289758, 1.9147562466289758, 1.9147562466289758, 1.9147562466289758, 1.9147562466289758, 1.9147562466289758, 1.9207147386613457, 1.9207147386613457, 1.9207147386613457, 1.9207147386613457, 1.9207147386613457, 1.9207147386613457, 1.9207147386613457, 1.9207147386613457, 1.9313632815976227, 1.9313632815976227, 1.9313632815976227, 1.9313632815976227, 1.9313632815976227, 1.9313632815976227, 1.9313632815976227, 1.9313632815976227, 1.9345226727843905, 1.9345226727843905, 1.9345226727843905, 1.9345226727843905, 1.9345226727843905, 1.9345226727843905, 1.9345226727843905, 1.9345226727843905, 1.9382832252613493, 1.9382832252613493, 1.9382832252613493, 1.9382832252613493, 1.9382832252613493, 1.9382832252613493, 1.9382832252613493, 1.9382832252613493, 1.9388560124627106, 1.9388560124627106, 1.9388560124627106, 1.9388560124627106, 1.9518314027195713, 1.9518314027195713, 1.9518314027195713, 1.9518314027195713, 1.9518314027195713, 1.9518314027195713, 1.9518314027195713, 1.9518314027195713, 1.9862638213630557, 1.9862638213630557, 1.9862638213630557, 1.9862638213630557, 1.9862638213630557, 1.9862638213630557, 1.9862638213630557, 1.9862638213630557, 2.2155813797983996, 2.2155813797983996, 2.2155813797983996, 2.2155813797983996, 2.3119831609785244, 2.3119831609785244, 2.3211791456713553, 2.3211791456713553, 2.3211791456713553, 2.3211791456713553, 2.3211791456713553, 2.3211791456713553, 2.3211791456713553, 2.3211791456713553, 2.340128357137931, 2.340128357137931, 2.340128357137931, 2.340128357137931, 2.34909114897912, 2.34909114897912, 2.34909114897912, 2.34909114897912, 2.34909114897912, 2.34909114897912, 2.34909114897912, 2.34909114897912, 2.3502393804564674, 2.3502393804564674, 2.3502393804564674, 2.3502393804564674, 2.3502393804564674, 2.3502393804564674, 2.3502393804564674, 2.3502393804564674, 2.3506495691107863, 2.3506495691107863, 2.3506495691107863, 2.3506495691107863, 2.3506495691107863, 2.3506495691107863, 2.3506495691107863, 2.3506495691107863, 2.3508898292593, 2.3508898292593, 2.3508898292593, 2.3508898292593, 2.3508898292593, 2.3508898292593, 2.3508898292593, 2.3508898292593, 2.351141009169893, 2.351141009169893, 2.351141009169893, 2.351141009169893, 2.3511410091698934, 2.3511410091698934, 2.3511410091698934, 2.3511410091698934, 2.366768881175767, 2.366768881175767, 2.366768881175767, 2.366768881175767, 2.366768881175767, 2.366768881175767, 2.366768881175767, 2.366768881175767, 2.396557829988089, 2.396557829988089, 2.396557829988089, 2.396557829988089, 3.0033219749232725, 3.0033219749232725, 3.0033219749232725, 3.0033219749232725, 3.0033219749232725, 3.0033219749232725, 3.0033219749232725, 3.0033219749232725, 3.0371315790445665, 3.0371315790445665, 3.0371315790445665, 3.0371315790445665, 3.0371315790445665, 3.0371315790445665, 3.0371315790445665, 3.0371315790445665, 3.039815526290141, 3.039815526290141, 3.039815526290141, 3.039815526290141, 3.039815526290141, 3.039815526290141, 3.039815526290141, 3.039815526290141, 3.046232892576171, 3.046232892576171, 3.046232892576171, 3.046232892576171, 3.046232892576171, 3.046232892576171, 3.046232892576171, 3.046232892576171, 3.0530324771752233, 3.0530324771752233, 3.0530324771752233, 3.0530324771752233, 3.0540687778973075, 3.0540687778973075, 3.0540687778973075, 3.0540687778973075, 3.0540687778973075, 3.0540687778973075, 3.0540687778973075, 3.0540687778973075, 3.068815834482985, 3.068815834482985, 3.068815834482985, 3.068815834482985, 3.068815834482985, 3.068815834482985, 3.068815834482985, 3.068815834482985, 3.0753795039846157, 3.0753795039846157, 3.0753795039846157, 3.0753795039846157, 3.0753795039846157, 3.0753795039846157, 3.0753795039846157, 3.0753795039846157, 3.095163139473705, 3.095163139473705, 3.095163139473705, 3.095163139473705, 3.095163139473705, 3.095163139473705, 3.095163139473705, 3.095163139473705, 3.096075234651088, 3.096075234651088, 3.096075234651088, 3.096075234651088, 3.096075234651088, 3.096075234651088, 3.096075234651088, 3.096075234651088, 3.0981864667491847, 3.0981864667491847, 3.0981864667491847, 3.0981864667491847, 3.0981864667491847, 3.0981864667491847, 3.0981864667491847, 3.0981864667491847, 3.1077817298469306, 3.1077817298469306, 3.1077817298469306, 3.1077817298469306, 3.1077817298469306, 3.1077817298469306, 3.1077817298469306, 3.1077817298469306, 3.1141068587734164, 3.1141068587734164, 3.1141068587734164, 3.1141068587734164, 3.1141068587734164, 3.1141068587734164, 3.1141068587734164, 3.1141068587734164, 3.1145902323537378, 3.1145902323537378, 3.1145902323537378, 3.1145902323537378, 3.1145902323537378, 3.1145902323537378, 3.1145902323537378, 3.1145902323537378, 3.1581295499096496, 3.1581295499096496, 3.1581295499096496, 3.1581295499096496, 3.1581295499096496, 3.1581295499096496, 3.1581295499096496, 3.1581295499096496, 3.16734650373349, 3.16734650373349, 3.16734650373349, 3.16734650373349, 3.7369658518911355, 3.7369658518911355, 3.7369658518911355, 3.7369658518911355, 3.7369658518911355, 3.7369658518911355, 3.7369658518911355, 3.7369658518911355, 3.7737556793031515, 3.7737556793031515, 3.7737556793031515, 3.7737556793031515, 3.784679546820172, 3.784679546820172, 3.784679546820172, 3.784679546820172, 3.8009093217197596, 3.8009093217197596, 3.8009093217197596, 3.8009093217197596, 3.8009093217197596, 3.8009093217197596, 3.8009093217197596, 3.8009093217197596, 3.80276719927706, 3.80276719927706, 3.80276719927706, 3.80276719927706, 3.80276719927706, 3.80276719927706, 3.80276719927706, 3.80276719927706, 3.803361963176573, 3.803361963176573, 3.803361963176573, 3.803361963176573, 3.803361963176573, 3.803361963176573, 3.803361963176573, 3.803361963176573, 3.8039007601853108, 3.8039007601853108, 3.8039007601853108, 3.8039007601853108, 3.8039007601853108, 3.8039007601853108, 3.8039007601853108, 3.8039007601853108, 3.804226065180613, 3.804226065180613, 3.804226065180613, 3.804226065180613, 3.804226065180616, 3.804226065180616, 3.804226065180616, 3.804226065180616, 3.826843851446224, 3.826843851446224, 3.826959453482357, 3.826959453482357, 3.826959453482357, 3.826959453482357, 3.826959453482357, 3.826959453482357, 3.826959453482357, 3.826959453482357, 3.871237242786939, 3.871237242786939, 3.871237242786939, 3.871237242786939]\n"
     ]
    }
   ],
   "source": [
    "diff =[abs(x[0]-y[0])+abs(x[1]-y[1]) for x in all_sol for y in all_sol if x != y]\n",
    "diff.sort()\n",
    "print(diff)"
   ]
  },
  {
   "attachments": {},
   "cell_type": "markdown",
   "metadata": {},
   "source": [
    "### Plotting the solutions\n",
    "\n",
    "We plot the solutions."
   ]
  },
  {
   "cell_type": "code",
   "execution_count": 26,
   "metadata": {},
   "outputs": [
    {
     "data": {
      "image/png": "[encoded data removed]",
      "text/plain": [
       "<Figure size 1280x880 with 1 Axes>"
      ]
     },
     "metadata": {},
     "output_type": "display_data"
    }
   ],
   "source": [
    "# import library\n",
    "import matplotlib.pyplot as plt\n",
    "\n",
    "\n",
    "# extract real part\n",
    "x = [ele[1].real for ele in all_sol]\n",
    "# extract imaginary part\n",
    "y = [ele[1].imag for ele in all_sol]\n",
    "\n",
    "# plot the complex numbers\n",
    "plt.scatter(x, y)\n",
    "plt.ylabel('Imaginary')\n",
    "plt.xlabel('Real')\n",
    "plt.xlim([-2,2])\n",
    "plt.show()\n"
   ]
  },
  {
   "attachments": {},
   "cell_type": "markdown",
   "metadata": {},
   "source": [
    "## Checking the initial conditons\n",
    "\n",
    "We check the identity\n",
    "\n",
    "$\\mathbf{1}((x_1 < x_2) = (y_1 < y_2) \\mod L) = \\sum_{z \\in Sol} \\frac{B_1(z_1, z_2)B_2(z_1, z_2)}{z_1^{y_1+1}z_2^{y_2+1}}\\left(z_1^{x_1} z_2^{x_2} +A(z_1, z_2) z_1^{x_2} z_2^{x_1} \\right)$\n",
    "\n",
    "with \n",
    "\n",
    "$B_1(z_1, z_2) =\\left( Lz_1^{L-1} + \\frac{\\Delta z_2 (z_1-z_2)}{(1 + z_1 z_2 -\\Delta z_2)^2} -\\frac{\\Delta}{(1 + z_1 z_2 -\\Delta  z_2)}   \\right)^{-1}$\n",
    "\n",
    "$B_2(z_1, z_2) =\\left( Lz_2^{L-1} + \\frac{\\Delta z_1 (z_2-z_1)}{(1 + z_1 z_2 -\\Delta z_1)^2} -\\frac{\\Delta}{(1 + z_1 z_2 -\\Delta z_1 )}   \\right)^{-1}$\n",
    "\n",
    "$A(z_1, z_2) = -\\frac{1 + z_1 z_2 - \\Delta z_2}{1 + z_1 z_2 - \\Delta z_1}$\n",
    "\n",
    "so that $Sol$ is the set of all the solution to the system of equations above."
   ]
  },
  {
   "attachments": {},
   "cell_type": "markdown",
   "metadata": {},
   "source": [
    "### Define A(z1, z2) function"
   ]
  },
  {
   "cell_type": "code",
   "execution_count": 27,
   "metadata": {},
   "outputs": [],
   "source": [
    "def A(z1, z2, d):\n",
    "    return (-1)* (1 + z1*z2 - d*z2)/(1 + z1 *z2 - d*z1)"
   ]
  },
  {
   "cell_type": "code",
   "execution_count": 28,
   "metadata": {},
   "outputs": [
    {
     "data": {
      "text/plain": [
       "-5.0"
      ]
     },
     "execution_count": 28,
     "metadata": {},
     "output_type": "execute_result"
    }
   ],
   "source": [
    "A(1,2,4)"
   ]
  },
  {
   "cell_type": "code",
   "execution_count": 29,
   "metadata": {},
   "outputs": [
    {
     "data": {
      "text/plain": [
       "(-0.9975133206205744-0.07047818942421406j)"
      ]
     },
     "execution_count": 29,
     "metadata": {},
     "output_type": "execute_result"
    }
   ],
   "source": [
    "d=0.1\n",
    "A(all_sol[1][0], all_sol[1][1], d)\n"
   ]
  },
  {
   "cell_type": "code",
   "execution_count": 30,
   "metadata": {},
   "outputs": [
    {
     "data": {
      "text/plain": [
       "[(-0.9975133206205744+0.07047818942421406j),\n",
       " (-0.9975133206205744-0.07047818942421406j),\n",
       " (-0.955721667149654+0.2942721443505743j),\n",
       " (-0.955721667149654-0.2942721443505743j),\n",
       " (-0.9975133206205743-0.07047818942421415j),\n",
       " (-0.9955637246025222-0.09408969261058067j),\n",
       " (-0.9787720322818798-0.20495196711132008j),\n",
       " (-0.9929379799478917-0.11863459856635383j),\n",
       " (-0.9975133206205743+0.07047818942421415j),\n",
       " (-0.9955637246025222+0.09408969261058067j),\n",
       " (-0.9929379799478917+0.11863459856635383j),\n",
       " (-0.9787720322818798+0.20495196711132008j),\n",
       " (-0.9557216671496547-0.2942721443505744j),\n",
       " (-0.9787720322818787+0.20495196711131983j),\n",
       " (-0.9929379799478918-0.11863459856635387j),\n",
       " (-0.9981861191474779-0.060203584123347934j),\n",
       " (-0.9557216671496547+0.2942721443505744j),\n",
       " (-0.9929379799478918+0.11863459856635387j),\n",
       " (-0.9787720322818787-0.20495196711131983j),\n",
       " (-0.9981861191474779+0.060203584123347934j)]"
      ]
     },
     "execution_count": 30,
     "metadata": {},
     "output_type": "execute_result"
    }
   ],
   "source": [
    "d=0.1\n",
    "[A(sol[0], sol[1],d) for sol in all_sol]"
   ]
  },
  {
   "attachments": {},
   "cell_type": "markdown",
   "metadata": {},
   "source": [
    "### Define B1 and B2 function"
   ]
  },
  {
   "cell_type": "code",
   "execution_count": 31,
   "metadata": {},
   "outputs": [],
   "source": [
    "def B1 (z1, z2 ,l, d):\n",
    "    b= -l* ((1+z1*z2- d*z1)/(1+z1*z2- d*z2))\n",
    "    b = b+ (d* z2*z1 *(z1-z2)/((1+z1*z2- d*z2) *(1+z1*z2- d*z2)))\n",
    "    b = b - ((d*z1)/(1+z1*z2- d*z2))\n",
    "    b= 1/b\n",
    "    return b"
   ]
  },
  {
   "cell_type": "code",
   "execution_count": 32,
   "metadata": {},
   "outputs": [
    {
     "data": {
      "text/plain": [
       "(-0.20046242430693717+0.014163448668486988j)"
      ]
     },
     "execution_count": 32,
     "metadata": {},
     "output_type": "execute_result"
    }
   ],
   "source": [
    "l=5\n",
    "d=0.1\n",
    "sol = all_sol[0]\n",
    "B1(sol[0], sol[1], l,d)"
   ]
  },
  {
   "cell_type": "code",
   "execution_count": 33,
   "metadata": {},
   "outputs": [
    {
     "data": {
      "text/plain": [
       "[(-0.20046242430693717+0.014163448668486988j),\n",
       " (-0.20046242430693717-0.014163448668486988j),\n",
       " (-0.17781807899531904+0.05475119923388591j),\n",
       " (-0.17781807899531904-0.05475119923388591j),\n",
       " (-0.20244745463856548-0.0143036987692458j),\n",
       " (-0.19977317853332502-0.01888035541626803j),\n",
       " (-0.1777028627565809-0.03721045359087801j),\n",
       " (-0.1961819128957976-0.023439492649474182j),\n",
       " (-0.20244745463856548+0.0143036987692458j),\n",
       " (-0.19977317853332502+0.01888035541626803j),\n",
       " (-0.1961819128957976+0.023439492649474182j),\n",
       " (-0.1777028627565809+0.03721045359087801j),\n",
       " (-0.21217143611525432-0.06532879354068258j),\n",
       " (-0.20480981299727366+0.04288656875455555j),\n",
       " (-0.19965308954978217-0.023854223133366003j),\n",
       " (-0.19799025823438787-0.01194138341394453j),\n",
       " (-0.21217143611525432+0.06532879354068258j),\n",
       " (-0.19965308954978217+0.023854223133366003j),\n",
       " (-0.20480981299727366-0.04288656875455555j),\n",
       " (-0.19799025823438787+0.01194138341394453j)]"
      ]
     },
     "execution_count": 33,
     "metadata": {},
     "output_type": "execute_result"
    }
   ],
   "source": [
    "l=5\n",
    "d=0.1\n",
    "[B1(sol[0], sol[1], l,d) for sol in all_sol]"
   ]
  },
  {
   "cell_type": "code",
   "execution_count": 34,
   "metadata": {},
   "outputs": [],
   "source": [
    "def B2 (z1, z2 ,l, d):\n",
    "    b= -l* ((1+z1*z2- d*z2)/(1+z1*z2- d*z1))\n",
    "    b = b+ (d* z1 *z2*(z2-z1)/((1+z1*z2- d*z1) *(1+z1*z2- d*z1)))\n",
    "    b = b - ((d*z2)/(1+z1*z2- d*z1))\n",
    "    b= 1/b\n",
    "    return b"
   ]
  },
  {
   "cell_type": "code",
   "execution_count": 35,
   "metadata": {},
   "outputs": [
    {
     "data": {
      "text/plain": [
       "[(-0.20244745463856548-0.0143036987692458j),\n",
       " (-0.20244745463856548+0.0143036987692458j),\n",
       " (-0.21217143611525432-0.06532879354068258j),\n",
       " (-0.21217143611525432+0.06532879354068258j),\n",
       " (-0.20046242430693717+0.014163448668486988j),\n",
       " (-0.19977317853332502+0.01888035541626803j),\n",
       " (-0.20480981299727366+0.04288656875455555j),\n",
       " (-0.19965308954978217+0.023854223133366003j),\n",
       " (-0.20046242430693717-0.014163448668486988j),\n",
       " (-0.19977317853332502-0.01888035541626803j),\n",
       " (-0.19965308954978217-0.023854223133366003j),\n",
       " (-0.20480981299727366-0.04288656875455555j),\n",
       " (-0.17781807899531904+0.05475119923388591j),\n",
       " (-0.1777028627565809-0.03721045359087801j),\n",
       " (-0.1961819128957976+0.023439492649474182j),\n",
       " (-0.19799025823438787+0.01194138341394453j),\n",
       " (-0.17781807899531904-0.05475119923388591j),\n",
       " (-0.1961819128957976-0.023439492649474182j),\n",
       " (-0.1777028627565809+0.03721045359087801j),\n",
       " (-0.19799025823438787-0.01194138341394453j)]"
      ]
     },
     "execution_count": 35,
     "metadata": {},
     "output_type": "execute_result"
    }
   ],
   "source": [
    "l=5\n",
    "d=0.1\n",
    "[B2(sol[0], sol[1], l,d) for sol in all_sol]"
   ]
  },
  {
   "attachments": {},
   "cell_type": "markdown",
   "metadata": {},
   "source": [
    "### Alternate definitions of B1 and B2"
   ]
  },
  {
   "cell_type": "code",
   "execution_count": 36,
   "metadata": {},
   "outputs": [],
   "source": [
    "def C1(z1, z2, l, d):\n",
    "    return - (z1/l)\n",
    "\n",
    "def C2(z1, z2, l, d):\n",
    "    c= (1/z1) + z1 -d\n",
    "    c= c+ (1/z2) + z2 -d \n",
    "    c = c/(1 + z1*z2 -d*z1)\n",
    "    c = c/(1+z1*z2 - d*z2)\n",
    "    c = c*d*z1\n",
    "    c= -c - (l/z2)\n",
    "    c=1/c\n",
    "    return c"
   ]
  },
  {
   "cell_type": "code",
   "execution_count": 37,
   "metadata": {},
   "outputs": [
    {
     "data": {
      "text/plain": [
       "[(0.19998009864478927+0.0028213730735864085j),\n",
       " (0.19998009864478927-0.0028213730735864085j),\n",
       " (0.19964323404922743+0.011940648992636095j),\n",
       " (0.19964323404922743-0.011940648992636095j),\n",
       " (0.05911396377148429-0.19106422817268465j),\n",
       " (0.0582079491274227-0.19134219257231122j),\n",
       " (0.053900492239101684-0.19259994012559464j),\n",
       " (0.05726256493182579-0.19162723881908972j),\n",
       " (0.05911396377148429+0.19106422817268465j),\n",
       " (0.0582079491274227+0.19134219257231122j),\n",
       " (0.05726256493182579+0.19162723881908972j),\n",
       " (0.053900492239101684+0.19259994012559464j),\n",
       " (-0.16853330653847276-0.10768716073520175j),\n",
       " (-0.15681381862484578-0.12413471024775438j),\n",
       " (-0.16455322847310985-0.11367600889843262j),\n",
       " (-0.16320794912742267-0.11559915804892623j),\n",
       " (-0.16853330653847276+0.10768716073520175j),\n",
       " (-0.16455322847310985+0.11367600889843262j),\n",
       " (-0.15681381862484578+0.12413471024775438j),\n",
       " (-0.16320794912742267+0.11559915804892623j)]"
      ]
     },
     "execution_count": 37,
     "metadata": {},
     "output_type": "execute_result"
    }
   ],
   "source": [
    "l=5\n",
    "d=0.1\n",
    "[C1(sol[0], sol[1], l,d) for sol in all_sol]"
   ]
  },
  {
   "cell_type": "code",
   "execution_count": 38,
   "metadata": {},
   "outputs": [
    {
     "data": {
      "text/plain": [
       "[(0.060279386189431614-0.19483102912078248j),\n",
       " (0.060279386189431614+0.19483102912078248j),\n",
       " (-0.17270607756916773-0.11035342222334897j),\n",
       " (-0.17270607756916773+0.11035342222334897j),\n",
       " (0.20392267456483573+0.002876995996151054j),\n",
       " (0.0585953720390914+0.19261573597115453j),\n",
       " (-0.14830566973472764-0.11739961122088693j),\n",
       " (-0.16342140653230405+0.11289412815255892j),\n",
       " (0.20392267456483573-0.002876995996151054j),\n",
       " (0.0585953720390914-0.19261573597115453j),\n",
       " (-0.16342140653230405-0.11289412815255892j),\n",
       " (-0.14830566973472764+0.11739961122088693j),\n",
       " (0.20458626590818343+0.012236291410313292j),\n",
       " (0.050976047077045845-0.1821501661121407j),\n",
       " (0.056868704367812294+0.19030919774895097j),\n",
       " (-0.16053711961190692+0.1137074263965372j),\n",
       " (0.20458626590818343-0.012236291410313292j),\n",
       " (0.056868704367812294-0.19030919774895097j),\n",
       " (0.050976047077045845+0.1821501661121407j),\n",
       " (-0.16053711961190692-0.1137074263965372j)]"
      ]
     },
     "execution_count": 38,
     "metadata": {},
     "output_type": "execute_result"
    }
   ],
   "source": [
    "l=5\n",
    "d=0.1\n",
    "[C2(sol[0], sol[1], l,d) for sol in all_sol]"
   ]
  },
  {
   "attachments": {},
   "cell_type": "markdown",
   "metadata": {},
   "source": [
    "### Alternate definitions of B1 and B2"
   ]
  },
  {
   "cell_type": "code",
   "execution_count": 39,
   "metadata": {},
   "outputs": [],
   "source": [
    "def D1(z1, z2, l, d):\n",
    "    x = 1 + z2*z2 - d* z2\n",
    "    x= x/(1 +z1 *z2 - d*z2)\n",
    "    x= x/(1+z1*z2 - d*z1)\n",
    "    x = x*d\n",
    "    x= 1/x\n",
    "    return x\n",
    "def D2(z1, z2, l, d):\n",
    "    x= l/(z1*z2*d)\n",
    "    x = x*(1+z1*z2 - d*z1)*(1+z1*z2- d*z2)\n",
    "    x = x/ (1 + z2*z2 - d*z2)\n",
    "    x= x + (1/z1)*((1 +z1*z1 - d*z1)/(1 +z2*z2 - d*z2)) + (1/z2)\n",
    "    x= (-l)*x\n",
    "    x= 1/x\n",
    "    return(x)\n"
   ]
  },
  {
   "cell_type": "code",
   "execution_count": 40,
   "metadata": {},
   "outputs": [
    {
     "data": {
      "text/plain": [
       "[(41.769283728345876+0.5892923006477796j),\n",
       " (41.769283728345876-0.5892923006477796j),\n",
       " (-2.6639275527295316-0.15932933565438662j),\n",
       " (-2.6639275527295316+0.15932933565438662j),\n",
       " (4.063946634032783-13.135218439556155j),\n",
       " (17.607200462477877-57.87869856358778j),\n",
       " (-0.5306067965248894+1.8959907970337562j),\n",
       " (-4.669725432534032+15.627078384370979j),\n",
       " (4.063946634032783+13.135218439556155j),\n",
       " (17.607200462477877+57.87869856358778j),\n",
       " (-4.669725432534032-15.627078384370979j),\n",
       " (-0.5306067965248894-1.8959907970337562j),\n",
       " (-1.7005649430950165-1.0866042690850457j),\n",
       " (-3.5467219194289563-2.8076052331265715j),\n",
       " (-30.83412390945379-21.300707232731185j),\n",
       " (19.620072264794743+13.896773084861188j),\n",
       " (-1.7005649430950165+1.0866042690850457j),\n",
       " (-30.83412390945379+21.300707232731185j),\n",
       " (-3.5467219194289563+2.8076052331265715j),\n",
       " (19.620072264794743-13.896773084861188j)]"
      ]
     },
     "execution_count": 40,
     "metadata": {},
     "output_type": "execute_result"
    }
   ],
   "source": [
    "l=5\n",
    "d=0.1\n",
    "[D1(sol[0], sol[1], l,d) for sol in all_sol]"
   ]
  },
  {
   "cell_type": "code",
   "execution_count": 41,
   "metadata": {},
   "outputs": [
    {
     "data": {
      "text/plain": [
       "[(-0.00028860149182374323+0.0009327985769647974j),\n",
       " (-0.00028860149182374323-0.0009327985769647974j),\n",
       " (-0.012943144730244894-0.008270237709165669j),\n",
       " (-0.012943144730244894+0.008270237709165669j),\n",
       " (-0.0029662489894577222-4.184863936523149e-05j),\n",
       " (-0.00019371145583434827-0.0006367716994216663j),\n",
       " (-0.015065296285130782-0.011925774179540098j),\n",
       " (-0.0020039569859096147+0.001384365620025277j),\n",
       " (-0.0029662489894577222+4.184863936523149e-05j),\n",
       " (-0.00019371145583434827+0.0006367716994216663j),\n",
       " (-0.0020039569859096147-0.001384365620025277j),\n",
       " (-0.015065296285130782+0.011925774179540098j),\n",
       " (-0.020275379664779335-0.0012126691541665547j),\n",
       " (-0.002253841373004599+0.00805353894668844j),\n",
       " (-0.0003034926152040659-0.0010156277827020042j),\n",
       " (-0.0013354147577578845+0.0009458658261945164j),\n",
       " (-0.020275379664779335+0.0012126691541665547j),\n",
       " (-0.0003034926152040659+0.0010156277827020042j),\n",
       " (-0.002253841373004599-0.00805353894668844j),\n",
       " (-0.0013354147577578845-0.0009458658261945164j)]"
      ]
     },
     "execution_count": 41,
     "metadata": {},
     "output_type": "execute_result"
    }
   ],
   "source": [
    "l=5\n",
    "d=0.1\n",
    "[D2(sol[0], sol[1], l,d) for sol in all_sol]"
   ]
  },
  {
   "cell_type": "code",
   "execution_count": 42,
   "metadata": {},
   "outputs": [
    {
     "data": {
      "text/plain": [
       "[(-0.012604368615870384+0.0387922577855527j),\n",
       " (-0.012604368615870384-0.0387922577855527j),\n",
       " (0.03316190838596019+0.024093536752217683j),\n",
       " (0.03316190838596019-0.024093536752217683j),\n",
       " (-0.01260436861587038+0.0387922577855527j),\n",
       " (-0.04026623367940394+5.204170427930421e-18j),\n",
       " (0.030604906692462384-0.022235766277709786j),\n",
       " (-0.012275661153956964-0.03778060024147514j),\n",
       " (-0.01260436861587038-0.0387922577855527j),\n",
       " (-0.04026623367940394-5.204170427930421e-18j),\n",
       " (-0.012275661153956964+0.03778060024147514j),\n",
       " (0.030604906692462384+0.022235766277709786j),\n",
       " (0.03316190838596019+0.024093536752217676j),\n",
       " (0.030604906692462387-0.02223576627770979j),\n",
       " (-0.01227566115395697+0.03778060024147516j),\n",
       " (-0.039345416806033005+3.469446951953614e-18j),\n",
       " (0.03316190838596019-0.024093536752217676j),\n",
       " (-0.01227566115395697-0.03778060024147516j),\n",
       " (0.030604906692462387+0.02223576627770979j),\n",
       " (-0.039345416806033005-3.469446951953614e-18j)]"
      ]
     },
     "execution_count": 42,
     "metadata": {},
     "output_type": "execute_result"
    }
   ],
   "source": [
    "l=5\n",
    "d=0.1\n",
    "[D1(sol[0], sol[1], l,d)*D2(sol[0], sol[1], l,d) for sol in all_sol]"
   ]
  },
  {
   "attachments": {},
   "cell_type": "markdown",
   "metadata": {},
   "source": [
    "### Alternate definitions of B1 and B2"
   ]
  },
  {
   "cell_type": "code",
   "execution_count": 54,
   "metadata": {},
   "outputs": [],
   "source": [
    "def E1(z1, z2, l, d):\n",
    "    e= 1 +z2*z2 - d*z2\n",
    "    e = e/((1 + z1 *z2 - d*z1)*(1 + z1*z2 - d*z2))\n",
    "    e = d*e\n",
    "    e = e + (l/z1)\n",
    "    e = -1/e\n",
    "    return e\n",
    "\n",
    "def E2(z1, z2, l, d):\n",
    "    e= (1 + z1 *z2 - d*z1)*(1 + z1*z2 - d*z2)\n",
    "    e = e/(1 + z1*z1 - d*z1)\n",
    "    e= e*(l/d) + z1*((1+ z2*z2 -d*z2)/(1+ z1*z1 -d*z1))\n",
    "    e= 1/e\n",
    "    e = e + (1/z2)\n",
    "    e = (-l)*e\n",
    "    e = 1/e\n",
    "    return e"
   ]
  },
  {
   "cell_type": "code",
   "execution_count": 55,
   "metadata": {},
   "outputs": [
    {
     "data": {
      "text/plain": [
       "[(0.012588135839343964-0.03874229843647471j),\n",
       " (0.012588135839343964+0.03874229843647471j),\n",
       " (-0.03242601102261063-0.023558876021497217j),\n",
       " (-0.03242601102261063+0.023558876021497217j),\n",
       " (0.01258813583934397-0.03874229843647472j),\n",
       " (0.04015039586435207-8.673617379884035e-19j),\n",
       " (-0.032426011022610605+0.023558876021497192j),\n",
       " (0.012204098483466146+0.03756035298862926j),\n",
       " (0.01258813583934397+0.03874229843647472j),\n",
       " (0.04015039586435207+8.673617379884035e-19j),\n",
       " (0.012204098483466146-0.03756035298862926j),\n",
       " (-0.032426011022610605-0.023558876021497192j),\n",
       " (-0.03242601102261062-0.02355887602149721j),\n",
       " (-0.03242601102261062+0.0235588760214972j),\n",
       " (0.012204098483466146-0.03756035298862927j),\n",
       " (0.03927729441353155-3.469446951953614e-18j),\n",
       " (-0.03242601102261062+0.02355887602149721j),\n",
       " (0.012204098483466146+0.03756035298862927j),\n",
       " (-0.03242601102261062-0.0235588760214972j),\n",
       " (0.03927729441353155+3.469446951953614e-18j)]"
      ]
     },
     "execution_count": 55,
     "metadata": {},
     "output_type": "execute_result"
    }
   ],
   "source": [
    "l=5\n",
    "d=0.1\n",
    "[E1(sol[0], sol[1], l,d)*E2(sol[0], sol[1], l,d) for sol in all_sol]"
   ]
  },
  {
   "attachments": {},
   "cell_type": "markdown",
   "metadata": {},
   "source": [
    "### Define a function for the terms inside the summation"
   ]
  },
  {
   "cell_type": "code",
   "execution_count": 84,
   "metadata": {},
   "outputs": [],
   "source": [
    "def term_ic(x1, x2, y1, y2, l, d, sol):\n",
    "    term =0\n",
    "    #term = B1(sol[0], sol[1], l, d)* B2(sol[0], sol[1], l, d)\n",
    "    #term = C1(sol[0], sol[1], l, d)* C2(sol[0], sol[1], l, d)\n",
    "    term = (D1(sol[0], sol[1], l, d)* D2(sol[0], sol[1], l, d))\n",
    "    #term = (E1(sol[0], sol[1], l, d)* E2(sol[0], sol[1], l, d))\n",
    "    term = term/((sol[0]**(y1+1)) *(sol[1]**(y2+1)))\n",
    "    term = term*((sol[0]**x1)*(sol[1]**x2) + A(sol[0], sol[1], d)*(sol[0]**x2)*(sol[1]**x1) )\n",
    "    return term"
   ]
  },
  {
   "cell_type": "code",
   "execution_count": 44,
   "metadata": {},
   "outputs": [
    {
     "data": {
      "text/plain": [
       "(-0.02655423565679818-0.03822423870662445j)"
      ]
     },
     "execution_count": 44,
     "metadata": {},
     "output_type": "execute_result"
    }
   ],
   "source": [
    "l=5\n",
    "d=0.1\n",
    "sol = all_sol[1]\n",
    "term_ic(1, 2, 1, 2, l, d, sol)"
   ]
  },
  {
   "cell_type": "code",
   "execution_count": 45,
   "metadata": {},
   "outputs": [
    {
     "data": {
      "text/plain": [
       "[(-0.02655423565679818+0.03822423870662445j),\n",
       " (-0.02655423565679818-0.03822423870662445j),\n",
       " (-0.06932627263138794+0.02961903905824441j),\n",
       " (-0.06932627263138794-0.02961903905824441j),\n",
       " (-0.026554235656798167-0.03822423870662449j),\n",
       " (-0.07145284072841439-0.025470867976866606j),\n",
       " (-0.030673727368612038+0.037146749865865025j),\n",
       " (-0.07344576434320182+0.020999218160124775j),\n",
       " (-0.026554235656798167+0.03822423870662449j),\n",
       " (-0.07145284072841439+0.025470867976866606j),\n",
       " (-0.07344576434320182-0.020999218160124775j),\n",
       " (-0.030673727368612038-0.037146749865865025j),\n",
       " (-0.06932627263138799-0.029619039058244482j),\n",
       " (-0.03067372736861207-0.03714674986586489j),\n",
       " (-0.07344576434320187+0.02099921816012478j),\n",
       " (-0.02854715927158561+0.03783463304778063j),\n",
       " (-0.06932627263138799+0.029619039058244482j),\n",
       " (-0.07344576434320187-0.02099921816012478j),\n",
       " (-0.03067372736861207+0.03714674986586489j),\n",
       " (-0.02854715927158561-0.03783463304778063j)]"
      ]
     },
     "execution_count": 45,
     "metadata": {},
     "output_type": "execute_result"
    }
   ],
   "source": [
    "l=5\n",
    "d=0.1\n",
    "[term_ic(1, 2, 1, 2, l, d, sol) for sol in all_sol]"
   ]
  },
  {
   "attachments": {},
   "cell_type": "markdown",
   "metadata": {},
   "source": [
    "### Define a function for the summation"
   ]
  },
  {
   "cell_type": "code",
   "execution_count": 46,
   "metadata": {},
   "outputs": [],
   "source": [
    "def F_ic(x1, x2, y1, y2, l, d, all_sol):\n",
    "    terms = [term_ic(x1, x2, y1, y2, l, d, sol) for sol in all_sol]\n",
    "    return sum(terms)"
   ]
  },
  {
   "cell_type": "code",
   "execution_count": 47,
   "metadata": {},
   "outputs": [
    {
     "data": {
      "text/plain": [
       "(-3.5388358909926865e-16-6.938893903907228e-18j)"
      ]
     },
     "execution_count": 47,
     "metadata": {},
     "output_type": "execute_result"
    }
   ],
   "source": [
    "l=5\n",
    "d=0.1\n",
    "x1=1\n",
    "x2=3\n",
    "y1=1\n",
    "y2=2\n",
    "F_ic(x1, x2, y1, y2, l,d, all_sol)"
   ]
  },
  {
   "attachments": {},
   "cell_type": "markdown",
   "metadata": {},
   "source": [
    "### We check the identity"
   ]
  },
  {
   "attachments": {},
   "cell_type": "markdown",
   "metadata": {},
   "source": [
    "We set the parameters. The last list is a list of all possible coordinates."
   ]
  },
  {
   "cell_type": "code",
   "execution_count": 125,
   "metadata": {},
   "outputs": [],
   "source": [
    "l=5\n",
    "d=.7125\n",
    "y1=1\n",
    "y2=2\n",
    "X= [(i+1, j+1) for i in range(l) for j in range(l) if i<j]\n"
   ]
  },
  {
   "attachments": {},
   "cell_type": "markdown",
   "metadata": {},
   "source": [
    "0 trails"
   ]
  },
  {
   "cell_type": "code",
   "execution_count": 59,
   "metadata": {},
   "outputs": [
    {
     "name": "stdout",
     "output_type": "stream",
     "text": [
      "[(1.0013289119482685-6.938893903907228e-18j), (-0.008420097221389158+6.938893903907228e-18j), (-0.03800824143022213-1.3877787807814457e-17j), (0.005895606660810421+0j), (-0.0010011908140309562+1.3877787807814457e-17j), (0.005261525773753287+0j), (0.0392400547916907+0j), (0.00041878158235508084-6.938893903907228e-18j), (-0.0020825711503803662-6.938893903907228e-18j), (0.00041878158235542084-6.938893903907228e-18j)]\n",
      "(1.0030515617232107-2.0816681711721685e-17j)\n"
     ]
    }
   ],
   "source": [
    "trails=0\n",
    "all_sol = [sol_sys(l, d, k1, k2, trails) for k1 in range(l) for k2 in range(l) if k1 != k2]\n",
    "values= [F_ic(x[0], x[1], y1, y2, l,d, all_sol) for x in X]\n",
    "print(values)\n",
    "print(sum(values))"
   ]
  },
  {
   "attachments": {},
   "cell_type": "markdown",
   "metadata": {},
   "source": [
    "1 trail"
   ]
  },
  {
   "cell_type": "code",
   "execution_count": 60,
   "metadata": {},
   "outputs": [
    {
     "name": "stdout",
     "output_type": "stream",
     "text": [
      "[(0.9987260267594582-6.938893903907228e-18j), (-0.0003926245824683386+6.938893903907228e-18j), (-0.0006976144868968207+6.938893903907228e-18j), (-0.0011503911929634202-6.938893903907228e-18j), (0.0008308153697949849+6.938893903907228e-18j), (0.001100011314496982-1.3877787807814457e-17j), (0.0002499523811176699-1.3877787807814457e-17j), (-0.00030399362490289225+0j), (-0.001734144587686462+0j), (-0.00030399362490336757-6.938893903907228e-18j)]\n",
      "(0.9963240437250465-2.7755575615628914e-17j)\n"
     ]
    }
   ],
   "source": [
    "trails=1\n",
    "all_sol = [sol_sys(l, d, k1, k2, trails) for k1 in range(l) for k2 in range(l) if k1 != k2]\n",
    "values= [F_ic(x[0], x[1], y1, y2, l,d, all_sol) for x in X]\n",
    "print(values)\n",
    "print(sum(values))"
   ]
  },
  {
   "attachments": {},
   "cell_type": "markdown",
   "metadata": {},
   "source": [
    "10 trails"
   ]
  },
  {
   "cell_type": "code",
   "execution_count": 61,
   "metadata": {},
   "outputs": [
    {
     "name": "stdout",
     "output_type": "stream",
     "text": [
      "[(1.0000000000000053+6.938893903907228e-18j), (1.2836953722228372e-15-1.3877787807814457e-17j), (-7.28583859910259e-16+0j), (6.102757188486407e-15+0j), (-4.496403249731884e-15-3.469446951953614e-17j), (-5.245803791353865e-15-1.3877787807814457e-17j), (5.273559366969494e-16+0j), (2.4875934645507414e-15-6.938893903907228e-18j), (4.891920202254596e-15+6.938893903907228e-18j), (2.293304435241339e-15+0j)]\n",
      "(1.0000000000000122-5.551115123125783e-17j)\n"
     ]
    }
   ],
   "source": [
    "trails=10\n",
    "all_sol = [sol_sys(l, d, k1, k2, trails) for k1 in range(l) for k2 in range(l) if k1 != k2]\n",
    "values= [F_ic(x[0], x[1], y1, y2, l,d, all_sol) for x in X]\n",
    "print(values)\n",
    "print(sum(values))"
   ]
  },
  {
   "attachments": {},
   "cell_type": "markdown",
   "metadata": {},
   "source": [
    "100 trails"
   ]
  },
  {
   "cell_type": "code",
   "execution_count": 126,
   "metadata": {},
   "outputs": [
    {
     "name": "stdout",
     "output_type": "stream",
     "text": [
      "[(-0.9999999999999992+6.938893903907228e-18j), (-9.08995101411847e-16-6.938893903907228e-18j), (-6.38378239159465e-16-1.3877787807814457e-17j), (2.3592239273284576e-16+6.938893903907228e-18j), (-1.2351231148954867e-15-2.0816681711721685e-17j), (7.771561172376096e-16+0j), (1.6930901125533637e-15+1.3877787807814457e-17j), (2.2343238370581275e-15-1.3877787807814457e-17j), (-1.734723475976807e-16-1.3877787807814457e-17j), (-9.43689570931383e-16+0j)]\n",
      "(-0.9999999999999987-4.163336342344337e-17j)\n"
     ]
    }
   ],
   "source": [
    "trails=900\n",
    "all_sol = [sol_sys(l, d, k1, k2, trails) for k1 in range(l) for k2 in range(l) if k1 != k2]\n",
    "values= [F_ic(x[0], x[1], y1, y2, l,d, all_sol) for x in X]\n",
    "print(values)\n",
    "print(sum(values))"
   ]
  },
  {
   "attachments": {},
   "cell_type": "markdown",
   "metadata": {},
   "source": [
    "1000 trails"
   ]
  },
  {
   "cell_type": "code",
   "execution_count": 122,
   "metadata": {},
   "outputs": [
    {
     "name": "stdout",
     "output_type": "stream",
     "text": [
      "[(-1.142265947632101+0j), (0.012293136235712543+0j), (-0.24343393342076242+6.938893903907228e-18j), (-0.437960701158908+1.3877787807814457e-17j), (0.11509539991171173+3.469446951953614e-17j), (-0.03218485784454411-6.938893903907228e-18j), (0.09298403268324942-6.938893903907228e-18j), (-0.0439623213738098+6.938893903907228e-18j), (0.03978305767984386-6.938893903907228e-18j), (-0.043962869704541205+6.938893903907228e-18j)]\n",
      "(-1.683615004624149+4.85722573273506e-17j)\n"
     ]
    }
   ],
   "source": [
    "trails=9000\n",
    "all_sol = [sol_sys(l, d, k1, k2, trails) for k1 in range(l) for k2 in range(l) if k1 != k2]\n",
    "values= [F_ic(x[0], x[1], y1, y2, l,d, all_sol) for x in X]\n",
    "print(values)\n",
    "print(sum(values))"
   ]
  },
  {
   "cell_type": "code",
   "execution_count": 123,
   "metadata": {},
   "outputs": [
    {
     "name": "stdout",
     "output_type": "stream",
     "text": [
      "[(-1.142263982360915-2.7755575615628914e-17j), (0.012739493278295017+6.938893903907228e-18j), (-0.2430490766153869-6.938893903907228e-18j), (-0.4382583657434396+1.3877787807814457e-17j), (0.11524334402681981+0j), (-0.0324626691974072+6.938893903907228e-18j), (0.09235682646663773+6.938893903907228e-18j), (-0.04420366525167574-6.938893903907228e-18j), (0.03978620884865433+6.938893903907228e-18j), (-0.0437203112222859-6.938893903907228e-18j)]\n",
      "(-1.6838321977707038-6.938893903907228e-18j)\n"
     ]
    }
   ],
   "source": [
    "trails=12000\n",
    "all_sol = [sol_sys(l, d, k1, k2, trails) for k1 in range(l) for k2 in range(l) if k1 != k2]\n",
    "values= [F_ic(x[0], x[1], y1, y2, l,d, all_sol) for x in X]\n",
    "print(values)\n",
    "print(sum(values))"
   ]
  },
  {
   "cell_type": "code",
   "execution_count": 124,
   "metadata": {},
   "outputs": [
    {
     "name": "stdout",
     "output_type": "stream",
     "text": [
      "[(-0.9999999999999993-1.3808398868775384e-15j), (5.828670879282072e-16-7.632783294297951e-16j), (-4.3021142204224816e-16+1.3739009929736312e-15j), (-1.8665624601510444e-15+2.9629076969683865e-15j), (-1.3183898417423734e-16+1.0200174038743626e-15j), (-2.0122792321330962e-16+1.2559397966072083e-15j), (-1.214306433183765e-15-3.5388358909926865e-16j), (-3.8163916471489756e-16-3.8163916471489756e-16j), (1.0685896612017132e-15-1.339206523454095e-15j), (3.8163916471489756e-16-2.2898349882893854e-16j)]\n",
      "(-1.0000000000000016+2.1649348980190553e-15j)\n"
     ]
    }
   ],
   "source": [
    "trails=20000\n",
    "all_sol = [sol_sys(l, d, k1, k2, trails) for k1 in range(l) for k2 in range(l) if k1 != k2]\n",
    "values= [F_ic(x[0], x[1], y1, y2, l,d, all_sol) for x in X]\n",
    "print(values)\n",
    "print(sum(values))"
   ]
  },
  {
   "cell_type": "code",
   "execution_count": null,
   "metadata": {},
   "outputs": [],
   "source": []
  }
 ],
 "metadata": {
  "kernelspec": {
   "display_name": "Python 3",
   "language": "python",
   "name": "python3"
  },
  "language_info": {
   "codemirror_mode": {
    "name": "ipython",
    "version": 3
   },
   "file_extension": ".py",
   "mimetype": "text/x-python",
   "name": "python",
   "nbconvert_exporter": "python",
   "pygments_lexer": "ipython3",
   "version": "3.10.4"
  },
  "orig_nbformat": 4
 },
 "nbformat": 4,
 "nbformat_minor": 2
}
