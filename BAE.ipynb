{
 "cells": [
  {
   "attachments": {},
   "cell_type": "markdown",
   "metadata": {},
   "source": [
    "Components of the Entire Python3 program:\n",
    "\n",
    "1. Find the numerical solutions, cn, for any \"n\" constants (represented by zn) and delta \"d.\"\n",
    "\n",
    "2. Define the polynomial as a list of coefficients.\n",
    "\n",
    "3. Find close solutions. When we obtain solutions of the polynomial equations, we are only interested in the previous element of the sequence\n",
    "   This part of the code returns the \"closest\" solutions.\n",
    "\n",
    "4. Setting up a recursion.\n",
    "\n",
    "5. Checking the solution is close to zero.\n",
    "\n",
    "6. Checking that all solutions are different.\n",
    "\n",
    "7. Define A(z1, z2) function. \n",
    "\n",
    "8. Define B1 and B2 function. \n",
    "\n",
    "9. Define a function for terms inside the summation. \n",
    "\n",
    "10. Define a function for the summation. \n",
    "\n",
    "11. We check the identity. \n",
    "\n",
    "12. Plotting the soltuion. "
   ]
  },
  {
   "cell_type": "code",
   "execution_count": 143,
   "metadata": {},
   "outputs": [
    {
     "name": "stderr",
     "output_type": "stream",
     "text": [
      "C:\\Users\\coe_user\\AppData\\Local\\Temp\\ipykernel_10788\\1170155103.py:5: MatplotlibDeprecationWarning: The seaborn styles shipped by Matplotlib are deprecated since 3.6, as they no longer correspond to the styles shipped by seaborn. However, they will remain available as 'seaborn-v0_8-<style>'. Alternatively, directly use the seaborn API instead.\n",
      "  plt.style.use('seaborn-poster')\n"
     ]
    }
   ],
   "source": [
    "#Import libraries for plotting (matplotlib) and advanced mathematical operations (using numpy)\n",
    "import numpy as np\n",
    "from mpl_toolkits import mplot3d\n",
    "import matplotlib.pyplot as plt\n",
    "plt.style.use('seaborn-poster')"
   ]
  },
  {
   "cell_type": "code",
   "execution_count": 144,
   "metadata": {},
   "outputs": [
    {
     "name": "stdout",
     "output_type": "stream",
     "text": [
      "\n",
      "Test examples for n = 2 and n = 4 cases : \n",
      "\n",
      "[-0.2, -5.0]\n",
      "1.0\n",
      "\n",
      "\n",
      "[-0.004784688995215311, -0.14285714285714285, -3.6666666666666665, -399.0]\n",
      "1.0\n"
     ]
    }
   ],
   "source": [
    "#Part 1: Find the numerical solutions for any n constants\n",
    "\n",
    "#FUNCTION DEFINITION: Accepts parameters delta \"d\" and *z as pointer allowing for any number of z values \n",
    "def compute_coefficient(d, *z):\n",
    "    n = len(z)\n",
    "\n",
    "    is_even = n % 2 == 0 #if there is no remainder when divided by two, is_even is set to true. Otherwise, set to false.\n",
    "\n",
    "    #create an empty list to store the coefficients \n",
    "    coeffs = []\n",
    "\n",
    "    for i in range(n):\n",
    "        #initalize numerator and denominator for each element in the computation before updating the values in the second loop \n",
    "        numerator = 1\n",
    "        denominator = 1\n",
    "        \n",
    "        for j in range(n):\n",
    "\n",
    "            #compute the numerical solutions for the Bethe equations for the numerator and denominator \n",
    "            numerator *= (1 + z[i]*z[j] - d*z[i])\n",
    "            denominator *= (1 + z[j]*z[i] - d*z[j])\n",
    "\n",
    "        #append numerical solutions to the result and return as apart of the list\n",
    "        if is_even:\n",
    "            coeffs.append(-numerator/denominator) #when n is even, sign should be negative\n",
    "        else:\n",
    "             coeffs.append(numerator/denominator) #when n is odd, sign should be positive\n",
    "\n",
    "    return coeffs\n",
    "\n",
    "#FUNCTION CALL : Initialize list z and int d, store returned list and print \n",
    "print(\"\\nTest examples for n = 2 and n = 4 cases : \\n\")\n",
    "\n",
    "#Works for when 'z' contains two elements\n",
    "z2 = [2, 3]\n",
    "d2 = 4\n",
    "\n",
    "coeffs2 = compute_coefficient(d2, *z2)\n",
    "print(coeffs2)\n",
    "\n",
    "#Check: Product of coefficients (all the elements in the list) should sum to one \n",
    "from functools import reduce\n",
    "import operator\n",
    "product2 = reduce(operator.mul, coeffs2)\n",
    "print(product2)\n",
    "\n",
    "print(\"\\n\")\n",
    "\n",
    "#Works for when 'z' contains four elements\n",
    "z4 = [2, 3, 4, 5]\n",
    "d4 = 6\n",
    "\n",
    "coeffs4 = compute_coefficient(d4, *z4)\n",
    "print(coeffs4)\n",
    "\n",
    "product4 = reduce(operator.mul, coeffs4)\n",
    "print(product4)"
   ]
  },
  {
   "cell_type": "code",
   "execution_count": 145,
   "metadata": {},
   "outputs": [
    {
     "name": "stdout",
     "output_type": "stream",
     "text": [
      "\n",
      "Test example from BAE solutions.ipynb : \n",
      "\n",
      "[[1, 0, 0, 0, 0, 0.2], [1, 0, 0, 0, 0, 5.0]]\n",
      "\n",
      "\n",
      "[[1, 0, 1.0], [1, 0, 1.0]]\n"
     ]
    }
   ],
   "source": [
    "\n",
    "\"\"\"\n",
    "Notes: For each coefficient, you want to create the list [1, 0, ..., 0, ci]\n",
    "       Corresponds to z1L - c1 = 0, . . .,\n",
    "       L roots depend on the ith coefficient \n",
    "       The solution of the polynomial will be stored in a Result list of length L with the roots \n",
    "       Once we have the solution above, we want to pick the closest solution \n",
    "\"\"\"\n",
    "\n",
    "#Part 2: Define the polynomial as the list of coefficients \n",
    "def pol_coeffs(l, d, *z):\n",
    "\n",
    "    c = compute_coefficient(d, *z) #c is a list that stores all the coefficients \n",
    "    #convert the list of n numbers to a list of n lists ; each number becomes its own list; each list is length l + 1\n",
    "    #first element of the list will be 1, last will be ci, everything in between is zero \n",
    "\n",
    "    coeffs = [] #list of lists \n",
    "    results = [1]\n",
    "\n",
    "    for i in c:\n",
    "        \n",
    "        for j in range (l-1):\n",
    "\n",
    "            results.append(0)\n",
    "\n",
    "        results.append(-i)\n",
    "        coeffs.append(results) #attempt at appending for a specific coefficient (error message here, why?)\n",
    "        results = [1] #creates a list of length l + 1  \n",
    "        \n",
    "    return coeffs\n",
    "\n",
    "#test example from BAEsolutionsN2.ipynb \n",
    "print(\"\\nTest example from BAE solutions.ipynb : \\n\")\n",
    "l1 = 5\n",
    "d1 = 4\n",
    "z1 = [2, 3]\n",
    "print(pol_coeffs(l1, d1, *z1))\n",
    "\n",
    "print(\"\\n\")\n",
    "l2 = 2\n",
    "d2 = 0\n",
    "z2 = [1, 1]\n",
    "print(pol_coeffs(l2, d2, *z2))"
   ]
  },
  {
   "cell_type": "code",
   "execution_count": 146,
   "metadata": {},
   "outputs": [
    {
     "name": "stdout",
     "output_type": "stream",
     "text": [
      "\n",
      "Printing closed solutions when 'cs_l = 2, cs_z = [1j, -1j], cs_d = 0.1, and cs_s = 1j': \n",
      "\n",
      "[(0.19852871119604185+0.24216609671861722j), (-2.024603544794088+2.4696193053976527j)]\n"
     ]
    }
   ],
   "source": [
    "#Part 3: Finding close solutions\n",
    "\n",
    "\"\"\"\n",
    "List of lists (for each sublists) -> array of roots -> pick the closest one \n",
    "Go back from n lists to n numbers \n",
    "\"\"\"\n",
    "\n",
    "def close_sols(l, *zs, d, s):\n",
    "    \n",
    "    result = [] #empty list to store the closest solution for each coefficient  \n",
    "\n",
    "    #iterate over each sublist \n",
    "    for sublist in pol_coeffs(l, *zs, d):\n",
    "\n",
    "        #calculate the roots\n",
    "        roots = (np.roots(sublist))\n",
    "\n",
    "        #move to the previous element zi  \n",
    "        roots = [x-s for x in roots]  \n",
    "\n",
    "        #find the solution with the minimum absolute value and add s\n",
    "        min_sol = min(roots, key=np.abs) + s  \n",
    "\n",
    "        #results should be n numbers\n",
    "        result.append(min_sol)\n",
    "\n",
    "    return result  #Possible error of output not matching N = 2 case\n",
    "\n",
    "cs_z = [1j, -1j]\n",
    "cs_d = 0.1\n",
    "cs_s = 1j\n",
    "cs_l = 2 \n",
    "\n",
    "print(\"\\nPrinting closed solutions when 'cs_l = 2, cs_z = [1j, -1j], cs_d = 0.1, and cs_s = 1j': \\n\")\n",
    "print(close_sols(cs_l, *cs_z, d=cs_d, s=cs_s))"
   ]
  },
  {
   "cell_type": "code",
   "execution_count": 147,
   "metadata": {},
   "outputs": [
    {
     "name": "stdout",
     "output_type": "stream",
     "text": [
      "\n",
      "Printing the solutions to the system: [[(0.9382951259780539+0j), (1.0657627566354742+0j)]]\n"
     ]
    }
   ],
   "source": [
    "#Part 4: Setting up a recursion \n",
    "\n",
    "trials = 30\n",
    "\n",
    "def sol_sys(l, d, *ks, trials):\n",
    "    z = []\n",
    "    for sublist in pol_coeffs(l, 0, 0, 0):\n",
    "        sol = np.roots(sublist)\n",
    "        z.append(sol)\n",
    "\n",
    "    for _ in range(trials):\n",
    "        z = [close_sols(l, *ks, d=d, s=s)]\n",
    "\n",
    "    return z\n",
    "\n",
    "l = 5\n",
    "s = 2\n",
    "ks = [1, 2]\n",
    "print(\"\\nPrinting the solutions to the system:\", sol_sys(l, 0.1, *ks, trials=trials))\n"
   ]
  },
  {
   "cell_type": "code",
   "execution_count": 148,
   "metadata": {},
   "outputs": [
    {
     "name": "stdout",
     "output_type": "stream",
     "text": [
      "\n",
      "Checking solutions are close to zero:\n",
      "(-3.3306690738754696e-15+0j) ,\n",
      "(-1.5000000000000004+0j) ,\n"
     ]
    }
   ],
   "source": [
    "#Part 5: Checking The Solution (Showing that all Solutions 'z' are Close to Zero) \n",
    "l = 5\n",
    "d = 0.1\n",
    "ks = [1, 4]\n",
    "trials = 30\n",
    "\n",
    "z = sol_sys(l, d, *ks, trials=trials)\n",
    "c = compute_coefficient(*ks, d)\n",
    "\n",
    "print(\"\\nChecking solutions are close to zero:\")\n",
    "\n",
    "#print z[i] ** l minus coefficient[i] \n",
    "for sublist, coefficient in zip(z, c):\n",
    "    for element in sublist:\n",
    "        print(element**l - coefficient, \",\")\n"
   ]
  },
  {
   "cell_type": "code",
   "execution_count": 149,
   "metadata": {},
   "outputs": [
    {
     "name": "stdout",
     "output_type": "stream",
     "text": [
      "\n",
      "Printing all solutions:  [[[(1.1486983549970347+0j), (0.8705505632961241+0j)]], [[(1.1486983549970347+0j), (0.8705505632961241+0j)]], [[(1.1486983549970347+0j), (0.8705505632961241+0j)]], [[(1.1486983549970347+0j), (0.8705505632961241+0j)]], [[(1.1486983549970347+0j), (0.8705505632961241+0j)]], [[(1.1486983549970347+0j), (0.8705505632961241+0j)]], [[(1.1486983549970347+0j), (0.8705505632961241+0j)]], [[(1.1486983549970347+0j), (0.8705505632961241+0j)]], [[(1.1486983549970347+0j), (0.8705505632961241+0j)]], [[(1.1486983549970347+0j), (0.8705505632961241+0j)]], [[(1.1486983549970347+0j), (0.8705505632961241+0j)]], [[(1.1486983549970347+0j), (0.8705505632961241+0j)]], [[(1.1486983549970347+0j), (0.8705505632961241+0j)]], [[(1.1486983549970347+0j), (0.8705505632961241+0j)]], [[(1.1486983549970347+0j), (0.8705505632961241+0j)]], [[(1.1486983549970347+0j), (0.8705505632961241+0j)]], [[(1.1486983549970347+0j), (0.8705505632961241+0j)]], [[(1.1486983549970347+0j), (0.8705505632961241+0j)]], [[(1.1486983549970347+0j), (0.8705505632961241+0j)]], [[(1.1486983549970347+0j), (0.8705505632961241+0j)]]]\n",
      "\n",
      "Printing different solutions:  []\n"
     ]
    }
   ],
   "source": [
    "#Part 6: Checking the Solution (Showing that all Solutions 'z' are Different) \n",
    "l = 5\n",
    "d = .1\n",
    "trails = 300\n",
    "all_sol = [sol_sys(l, d, *ks, trials = trials) for k1 in range(l) for k2 in range(l) if k1 != k2]\n",
    "print(\"\\nPrinting all solutions: \", all_sol)\n",
    "\n",
    "diff = [abs(x[0]-y[0])+abs(x[1]-y[1]) for x in all_sol for y in all_sol if x != y]\n",
    "diff.sort()\n",
    "print(\"\\nPrinting different solutions: \", diff)"
   ]
  },
  {
   "cell_type": "code",
   "execution_count": 150,
   "metadata": {},
   "outputs": [
    {
     "name": "stdout",
     "output_type": "stream",
     "text": [
      "\n",
      "Checking initial condition A:  -5.0\n"
     ]
    }
   ],
   "source": [
    "#Part 7: Checking the Initial Conditions \n",
    "\n",
    "def A(z1, z2, d):\n",
    "    return (-1)* (1 + z1*z2 - d*z2)/(1 + z1 *z2 - d*z1)\n",
    "\n",
    "print(\"\\nChecking initial condition A: \", A(1,2,4)) #expected -5.0\n"
   ]
  },
  {
   "cell_type": "code",
   "execution_count": 151,
   "metadata": {},
   "outputs": [],
   "source": [
    "#Part 8: Define B1 B2 Function\n"
   ]
  },
  {
   "cell_type": "code",
   "execution_count": 152,
   "metadata": {},
   "outputs": [],
   "source": [
    "#Part 9: Define a Function for terms inside the Summation"
   ]
  },
  {
   "cell_type": "code",
   "execution_count": 153,
   "metadata": {},
   "outputs": [],
   "source": [
    "#Part 10: Define a Function for the Summation"
   ]
  },
  {
   "cell_type": "code",
   "execution_count": 154,
   "metadata": {},
   "outputs": [],
   "source": [
    "#Part 11: We Check the Identity "
   ]
  },
  {
   "cell_type": "code",
   "execution_count": 155,
   "metadata": {},
   "outputs": [],
   "source": [
    "#Part 12: Plotting the Solution"
   ]
  }
 ],
 "metadata": {
  "kernelspec": {
   "display_name": "Python 3",
   "language": "python",
   "name": "python3"
  },
  "language_info": {
   "codemirror_mode": {
    "name": "ipython",
    "version": 3
   },
   "file_extension": ".py",
   "mimetype": "text/x-python",
   "name": "python",
   "nbconvert_exporter": "python",
   "pygments_lexer": "ipython3",
   "version": "3.11.3"
  },
  "orig_nbformat": 4
 },
 "nbformat": 4,
 "nbformat_minor": 2
}
