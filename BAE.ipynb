{
 "cells": [
  {
   "attachments": {},
   "cell_type": "markdown",
   "metadata": {},
   "source": [
    "Components of the Entire Python3 program:\n",
    "\n",
    "1. Find the numerical solutions, cn, for any \"n\" constants (represented by zn) and delta \"d.\"\n",
    "\n",
    "2. Define the polynomial as a list of coefficients.\n",
    "\n",
    "3. Find close solutions. When we obtain solutions of the polynomial equations, we are only interested in the previous element of the sequence\n",
    "   This part of the code returns the \"closest\" solutions.\n",
    "\n",
    "4. Setting up a recursion.\n",
    "\n",
    "5. Checking the solution is close to zero.\n",
    "\n",
    "6. Checking that all solutions are different.\n",
    "\n",
    "7. Define A(z1, z2) function. \n",
    "\n",
    "8. Define B1 and B2 function. \n",
    "\n",
    "9. Define a function for terms inside the summation. \n",
    "\n",
    "10. Define a function for the summation. \n",
    "\n",
    "11. We check the identity. \n",
    "\n",
    "12. Plotting the soltuion. "
   ]
  },
  {
   "cell_type": "code",
   "execution_count": 2,
   "metadata": {},
   "outputs": [
    {
     "name": "stdout",
     "output_type": "stream",
     "text": [
      "Looking in indexes: https://download.pytorch.org/whl/cu117\n",
      "Requirement already satisfied: torch in c:\\users\\nik20\\anaconda3\\lib\\site-packages (1.13.1)\n",
      "Requirement already satisfied: torchvision in c:\\users\\nik20\\anaconda3\\lib\\site-packages (0.14.1)\n",
      "Requirement already satisfied: torchaudio in c:\\users\\nik20\\anaconda3\\lib\\site-packages (0.13.1)\n",
      "Requirement already satisfied: typing-extensions in c:\\users\\nik20\\anaconda3\\lib\\site-packages (from torch) (4.6.2)\n",
      "Requirement already satisfied: numpy in c:\\users\\nik20\\anaconda3\\lib\\site-packages (from torchvision) (1.16.5)\n",
      "Requirement already satisfied: requests in c:\\users\\nik20\\anaconda3\\lib\\site-packages (from torchvision) (2.22.0)\n",
      "Requirement already satisfied: pillow!=8.3.*,>=5.3.0 in c:\\users\\nik20\\anaconda3\\lib\\site-packages (from torchvision) (6.2.0)\n",
      "Requirement already satisfied: chardet<3.1.0,>=3.0.2 in c:\\users\\nik20\\anaconda3\\lib\\site-packages (from requests->torchvision) (3.0.4)\n",
      "Requirement already satisfied: idna<2.9,>=2.5 in c:\\users\\nik20\\anaconda3\\lib\\site-packages (from requests->torchvision) (2.8)\n",
      "Requirement already satisfied: urllib3!=1.25.0,!=1.25.1,<1.26,>=1.21.1 in c:\\users\\nik20\\anaconda3\\lib\\site-packages (from requests->torchvision) (1.24.2)\n",
      "Requirement already satisfied: certifi>=2017.4.17 in c:\\users\\nik20\\anaconda3\\lib\\site-packages (from requests->torchvision) (2020.6.20)\n",
      "Note: you may need to restart the kernel to use updated packages.\n"
     ]
    }
   ],
   "source": [
    "pip install torch torchvision torchaudio --index-url https://download.pytorch.org/whl/cu117"
   ]
  },
  {
   "cell_type": "code",
   "execution_count": 3,
   "metadata": {},
   "outputs": [],
   "source": [
    "#Import libraries for plotting (matplotlib) and advanced mathematical operations (using numpy)\n",
    "import numpy as np\n",
    "from mpl_toolkits import mplot3d\n",
    "import matplotlib.pyplot as plt\n",
    "plt.style.use('seaborn-poster')\n",
    "import itertools as iter\n",
    "import torch"
   ]
  },
  {
   "cell_type": "code",
   "execution_count": 4,
   "metadata": {},
   "outputs": [
    {
     "name": "stdout",
     "output_type": "stream",
     "text": [
      "\n",
      "Test examples for n = 2 and n = 4 cases : \n",
      "\n",
      "[-0.2, -5.0]\n",
      "1.0\n",
      "\n",
      "\n",
      "[-0.004784688995215311, -0.14285714285714285, -3.6666666666666665, -399.0]\n",
      "1.0\n"
     ]
    }
   ],
   "source": [
    "#Part 1: Find the numerical solutions for any n constants\n",
    "\n",
    "#FUNCTION DEFINITION: Accepts parameters delta \"d\" and *z as pointer allowing for any number of z values \n",
    "def compute_coefficient(d, *z):\n",
    "    n = len(z)\n",
    "\n",
    "    is_even = n % 2 == 0 #if there is no remainder when divided by two, is_even is set to true. Otherwise, set to false.\n",
    "\n",
    "    #create an empty list to store the coefficients \n",
    "    coeffs = []\n",
    "\n",
    "    for i in range(n):\n",
    "        #initalize numerator and denominator for each element in the computation before updating the values in the second loop \n",
    "        numerator = 1\n",
    "        denominator = 1\n",
    "        \n",
    "        for j in range(n):\n",
    "\n",
    "            #compute the numerical solutions for the Bethe equations for the numerator and denominator \n",
    "            numerator *= (1 + z[i]*z[j] - d*z[i])\n",
    "            denominator *= (1 + z[j]*z[i] - d*z[j])\n",
    "\n",
    "        #append numerical solutions to the result and return as apart of the list\n",
    "        if is_even:\n",
    "            coeffs.append(-numerator/denominator) #when n is even, sign should be negative\n",
    "        else:\n",
    "             coeffs.append(numerator/denominator) #when n is odd, sign should be positive\n",
    "\n",
    "    return coeffs\n",
    "\n",
    "#FUNCTION CALL : Initialize list z and int d, store returned list and print \n",
    "print(\"\\nTest examples for n = 2 and n = 4 cases : \\n\")\n",
    "\n",
    "#Works for when 'z' contains two elements\n",
    "z2 = [2, 3]\n",
    "d2 = 4\n",
    "\n",
    "coeffs2 = compute_coefficient(d2, *z2)\n",
    "print(coeffs2)\n",
    "\n",
    "#Check: Product of coefficients (all the elements in the list) should sum to one \n",
    "from functools import reduce\n",
    "import operator\n",
    "product2 = reduce(operator.mul, coeffs2)\n",
    "print(product2)\n",
    "\n",
    "print(\"\\n\")\n",
    "\n",
    "#Works for when 'z' contains four elements\n",
    "z4 = [2, 3, 4, 5]\n",
    "d4 = 6\n",
    "\n",
    "coeffs4 = compute_coefficient(d4, *z4)\n",
    "print(coeffs4)\n",
    "\n",
    "product4 = reduce(operator.mul, coeffs4)\n",
    "print(product4)"
   ]
  },
  {
   "cell_type": "code",
   "execution_count": 47,
   "metadata": {},
   "outputs": [
    {
     "data": {
      "text/plain": [
       "[1.0385282887886154, 0.9931139122315593, 0.96957766642806]"
      ]
     },
     "execution_count": 47,
     "metadata": {},
     "output_type": "execute_result"
    }
   ],
   "source": [
    "compute_coefficient(0.1,2,3,4)"
   ]
  },
  {
   "cell_type": "code",
   "execution_count": 48,
   "metadata": {},
   "outputs": [
    {
     "name": "stdout",
     "output_type": "stream",
     "text": [
      "\n",
      "Test example from BAE solutions.ipynb : \n",
      "\n",
      "[[1, 0, (0.9950124688279302-0.09975062344139653j)], [1, 0, (0.9950124688279302+0.09975062344139653j)]]\n",
      "\n",
      "\n",
      "[[1, 0, 1.0], [1, 0, 1.0]]\n",
      "[[1, 0, 0, 0, 0, -1.0385282887886154], [1, 0, 0, 0, 0, -0.9931139122315593], [1, 0, 0, 0, 0, -0.96957766642806]]\n"
     ]
    }
   ],
   "source": [
    "\n",
    "\"\"\"\n",
    "Notes: For each coefficient, you want to create the list [1, 0, ..., 0, ci]\n",
    "       Corresponds to z1L - c1 = 0, . . .,\n",
    "       L roots depend on the ith coefficient \n",
    "       The solution of the polynomial will be stored in a Result list of length L with the roots \n",
    "       Once we have the solution above, we want to pick the closest solution \n",
    "\"\"\"\n",
    "\n",
    "#Part 2: Define the polynomial as the list of coefficients \n",
    "def pol_coeffs(l, d, *z):\n",
    "\n",
    "    c = compute_coefficient(d, *z) #c is a list that stores all the coefficients \n",
    "    #convert the list of n numbers to a list of n lists ; each number becomes its own list; each list is length l + 1\n",
    "    #first element of the list will be 1, last will be ci, everything in between is zero \n",
    "\n",
    "    coeffs = [] #list of lists \n",
    "    results = [1]\n",
    "\n",
    "    for i in c:\n",
    "        \n",
    "        for j in range (l-1):\n",
    "\n",
    "            results.append(0)\n",
    "\n",
    "        results.append(-i)\n",
    "        coeffs.append(results) #attempt at appending for a specific coefficient (error message here, why?)\n",
    "        results = [1] #creates a list of length l + 1  \n",
    "        \n",
    "    return coeffs\n",
    "\n",
    "#test example from BAEsolutionsN2.ipynb \n",
    "print(\"\\nTest example from BAE solutions.ipynb : \\n\")\n",
    "l1 = 2\n",
    "d1 = 0.1\n",
    "z1 = [1j, -1j]\n",
    "print(pol_coeffs(l1, d1, *z1))\n",
    "\n",
    "print(\"\\n\")\n",
    "l2 = 2\n",
    "d2 = 0\n",
    "z2 = [1, 1]\n",
    "print(pol_coeffs(l2, d2, *z2))\n",
    "\n",
    "print(pol_coeffs(5,0.1,2,3,4))"
   ]
  },
  {
   "cell_type": "code",
   "execution_count": 54,
   "metadata": {},
   "outputs": [
    {
     "name": "stdout",
     "output_type": "stream",
     "text": [
      "\n",
      "Printing closed solutions when 'cs_l = 2, cs_z = [1j, -1j], cs_d = 0.1, and cs_s = 1j': \n",
      "\n",
      "[(0.049937616943892094+0.9987523388778446j), (-0.04993761694389226+0.9987523388778448j)]\n",
      "[(1-9.790326495812671e-17j), (0.9835538253918807-0.18061526114090576j), (0.983553825391881+0.18061526114090581j)]\n"
     ]
    }
   ],
   "source": [
    "#Part 3: Finding close solutions\n",
    "\n",
    "\"\"\"\n",
    "List of lists (for each sublists) -> array of roots -> pick the closest one \n",
    "Go back from n lists to n numbers \n",
    "\"\"\"\n",
    "\n",
    "def close_sols(l, *zs, d, s):\n",
    "    \n",
    "    result = [] #empty list to store the closest solution for each coefficient  \n",
    "    i = 0 \n",
    "    #iterate over each sublist \n",
    "    for sublist in pol_coeffs(l, d, *zs):\n",
    "        \n",
    "        #calculate the roots\n",
    "        roots = np.roots(sublist)\n",
    "        \n",
    "        #move to the previous element zi  \n",
    "        roots = [x-s[i] for x in roots]  \n",
    "\n",
    "        #find the solution with the minimum absolute value and add s\n",
    "        min_sol = min(roots, key=np.abs) + s[i]  \n",
    "\n",
    "        #results should be n numbers\n",
    "        result.append(min_sol)\n",
    "\n",
    "        i += 1\n",
    "\n",
    "    return result  #Possible error of output not matching N = 2 case of E.Os of (0.049937616943892205+0.9987523388778446j) and (-0.04993761694389226+0.9987523388778448j)\n",
    "\n",
    "cs_l = 2 \n",
    "cs_z = [1j, -1j]\n",
    "cs_d = 0.1\n",
    "cs_s = [1j, 1j]\n",
    "\n",
    "print(\"\\nPrinting closed solutions when 'cs_l = 2, cs_z = [1j, -1j], cs_d = 0.1, and cs_s = 1j': \\n\")\n",
    "print(close_sols(cs_l, *cs_z, d=cs_d, s=cs_s))\n",
    "\n",
    "#print(close_sols(3,1,np.exp(2*np.pi*1j/3),np.exp(4*np.pi*1j/3),d=0.2,s=[1,1,1]))"
   ]
  },
  {
   "cell_type": "code",
   "execution_count": 59,
   "metadata": {},
   "outputs": [
    {
     "name": "stdout",
     "output_type": "stream",
     "text": [
      "\n",
      "Printing the solutions to the system: [(-0.7660397456371132+0.6427932078858847j), (-0.7660397456371132-0.6427932078858847j), (1+0j)]\n"
     ]
    },
    {
     "data": {
      "text/plain": [
       "[(-0.7660397456371132+0.6427932078858847j),\n",
       " (-0.7660397456371132-0.6427932078858847j),\n",
       " (1+0j)]"
      ]
     },
     "execution_count": 59,
     "metadata": {},
     "output_type": "execute_result"
    }
   ],
   "source": [
    "#Part 4: Setting up a recursion \n",
    "\n",
    "trials = 30\n",
    "\n",
    "def sol_sys(l, d, *ks, trials):\n",
    "\n",
    "    z = []\n",
    "    list = pol_coeffs(l, 0, 0, 0)[0]\n",
    "    sol = np.roots(list)\n",
    "\n",
    "    for k in ks:\n",
    "        z.append(sol[k])\n",
    "\n",
    "    for _ in range(trials):\n",
    "        z = close_sols(l, *z, d=d, s=z)\n",
    "\n",
    "    return z\n",
    "\n",
    "l = 5\n",
    "s = 2\n",
    "d = 0.1\n",
    "ks = [1, 2, 3]\n",
    "print(\"\\nPrinting the solutions to the system:\", sol_sys(l, d, *ks, trials=trials))\n",
    "\n",
    "sol_sys(5,0.1,1,2,3,trials=30)\n"
   ]
  },
  {
   "cell_type": "code",
   "execution_count": 8,
   "metadata": {},
   "outputs": [
    {
     "name": "stdout",
     "output_type": "stream",
     "text": [
      "\n",
      "Checking solutions are close to zero:\n"
     ]
    },
    {
     "ename": "TypeError",
     "evalue": "'numpy.complex128' object is not iterable",
     "output_type": "error",
     "traceback": [
      "\u001b[1;31m---------------------------------------------------------------------------\u001b[0m",
      "\u001b[1;31mTypeError\u001b[0m                                 Traceback (most recent call last)",
      "\u001b[1;32m<ipython-input-8-c9039df2e702>\u001b[0m in \u001b[0;36m<module>\u001b[1;34m\u001b[0m\n\u001b[0;32m     12\u001b[0m \u001b[1;31m#print z[i] ** l minus coefficient[i]\u001b[0m\u001b[1;33m\u001b[0m\u001b[1;33m\u001b[0m\u001b[1;33m\u001b[0m\u001b[0m\n\u001b[0;32m     13\u001b[0m \u001b[1;32mfor\u001b[0m \u001b[0msublist\u001b[0m\u001b[1;33m,\u001b[0m \u001b[0mcoefficient\u001b[0m \u001b[1;32min\u001b[0m \u001b[0mzip\u001b[0m\u001b[1;33m(\u001b[0m\u001b[0mz\u001b[0m\u001b[1;33m,\u001b[0m \u001b[0mc\u001b[0m\u001b[1;33m)\u001b[0m\u001b[1;33m:\u001b[0m\u001b[1;33m\u001b[0m\u001b[1;33m\u001b[0m\u001b[0m\n\u001b[1;32m---> 14\u001b[1;33m     \u001b[1;32mfor\u001b[0m \u001b[0melement\u001b[0m \u001b[1;32min\u001b[0m \u001b[0msublist\u001b[0m\u001b[1;33m:\u001b[0m\u001b[1;33m\u001b[0m\u001b[1;33m\u001b[0m\u001b[0m\n\u001b[0m\u001b[0;32m     15\u001b[0m         \u001b[0mprint\u001b[0m\u001b[1;33m(\u001b[0m\u001b[0melement\u001b[0m\u001b[1;33m**\u001b[0m\u001b[0ml\u001b[0m \u001b[1;33m-\u001b[0m \u001b[0mcoefficient\u001b[0m\u001b[1;33m,\u001b[0m \u001b[1;34m\",\"\u001b[0m\u001b[1;33m)\u001b[0m\u001b[1;33m\u001b[0m\u001b[1;33m\u001b[0m\u001b[0m\n",
      "\u001b[1;31mTypeError\u001b[0m: 'numpy.complex128' object is not iterable"
     ]
    }
   ],
   "source": [
    "#Part 5: Checking The Solution (Showing that all Solutions 'z' are Close to Zero) \n",
    "l = 5\n",
    "d = 0.1\n",
    "ks = [1, 4]\n",
    "trials = 30\n",
    "\n",
    "z = sol_sys(l, d, *ks, trials=trials)\n",
    "c = compute_coefficient(*ks, d)\n",
    "\n",
    "print(\"\\nChecking solutions are close to zero:\")\n",
    "\n",
    "#print z[i] ** l minus coefficient[i] \n",
    "for sublist, coefficient in zip(z, c):\n",
    "    for element in sublist:\n",
    "        print(element**l - coefficient, \",\")\n"
   ]
  },
  {
   "cell_type": "code",
   "execution_count": 9,
   "metadata": {},
   "outputs": [
    {
     "name": "stdout",
     "output_type": "stream",
     "text": [
      "\n",
      "Printing all solutions:  [[(-0.9999004932239459-0.014106865367932153j), (-0.29556981885742134+0.9553211408634229j)], [(-0.9999004932239459+0.014106865367932153j), (-0.29556981885742134-0.9553211408634229j)], [(-0.9982161702461365-0.059703244963181246j), (0.8426665326923637+0.5384358036760085j)], [(-0.9982161702461365+0.059703244963181246j), (0.8426665326923637-0.5384358036760085j)], [(-0.29556981885742134+0.9553211408634229j), (-0.9999004932239459-0.014106865367932153j)], [(-0.2910397456371127+0.956710962861555j), (-0.2910397456371127-0.956710962861555j)], [(-0.2695024611955076+0.9629997006279724j), (0.7840690931242293+0.6206735512387721j)], [(-0.2863128246591293+0.9581361940954488j), (0.822766142365549-0.568380044492163j)], [(-0.29556981885742134-0.9553211408634229j), (-0.9999004932239459+0.014106865367932153j)], [(-0.2910397456371127-0.956710962861555j), (-0.2910397456371127+0.956710962861555j)], [(-0.2863128246591293-0.9581361940954488j), (0.822766142365549+0.568380044492163j)], [(-0.2695024611955076-0.9629997006279724j), (0.7840690931242293-0.6206735512387721j)], [(0.8426665326923637+0.5384358036760085j), (-0.9982161702461365-0.059703244963181246j)], [(0.7840690931242293+0.6206735512387721j), (-0.2695024611955076+0.9629997006279724j)], [(0.822766142365549+0.568380044492163j), (-0.2863128246591293-0.9581361940954488j)], [(0.8160397456371133+0.577995790244631j), (0.8160397456371133-0.577995790244631j)], [(0.8426665326923637-0.5384358036760085j), (-0.9982161702461365+0.059703244963181246j)], [(0.822766142365549-0.568380044492163j), (-0.2863128246591293+0.9581361940954488j)], [(0.7840690931242293-0.6206735512387721j), (-0.2695024611955076-0.9629997006279724j)], [(0.8160397456371133-0.577995790244631j), (0.8160397456371133+0.577995790244631j)]]\n",
      "\n",
      "Printing different solutions:  [1.1777914280376258, 1.1777914280376258, 1.1777914280376258, 1.1777914280376258, 1.1777914280376258, 1.1777914280376258, 1.1777914280376258, 1.1777914280376258, 1.182247118553123, 1.182247118553123, 1.182247118553123, 1.182247118553123, 1.182247118553123, 1.182247118553123, 1.182247118553123, 1.182247118553123, 1.1841391914090122, 1.1841391914090122, 1.1841391914090122, 1.1841391914090122, 1.1841391914090122, 1.1841391914090122, 1.1841391914090122, 1.1841391914090122, 1.1844982406343059, 1.1844982406343059, 1.1844982406343059, 1.1844982406343059, 1.1844982406343059, 1.1844982406343059, 1.1844982406343059, 1.1844982406343059, 1.1962780972783795, 1.1962780972783795, 1.1962780972783795, 1.1962780972783795, 1.2071828873025663, 1.2071828873025663, 1.2071828873025663, 1.2071828873025663, 1.2071828873025663, 1.2071828873025663, 1.2071828873025663, 1.2071828873025663, 1.257805425778466, 1.257805425778466, 1.257805425778466, 1.257805425778466, 1.257805425778466, 1.257805425778466, 1.257805425778466, 1.257805425778466, 1.3567434466865338, 1.3567434466865338, 1.3567434466865338, 1.3567434466865338, 1.3567434466865338, 1.3567434466865338, 1.3567434466865338, 1.3567434466865338, 1.914756246628975, 1.914756246628975, 1.914756246628975, 1.914756246628975, 1.914756246628975, 1.914756246628975, 1.914756246628975, 1.914756246628975, 1.9207147386613461, 1.9207147386613461, 1.9207147386613461, 1.9207147386613461, 1.9207147386613461, 1.9207147386613461, 1.9207147386613461, 1.9207147386613461, 1.9313632815976218, 1.9313632815976218, 1.9313632815976218, 1.9313632815976218, 1.9313632815976218, 1.9313632815976218, 1.9313632815976218, 1.9313632815976218, 1.9345226727843898, 1.9345226727843898, 1.9345226727843898, 1.9345226727843898, 1.9345226727843898, 1.9345226727843898, 1.9345226727843898, 1.9345226727843898, 1.9382832252613482, 1.9382832252613482, 1.9382832252613482, 1.9382832252613482, 1.9382832252613482, 1.9382832252613482, 1.9382832252613482, 1.9382832252613482, 1.93885601246271, 1.93885601246271, 1.93885601246271, 1.93885601246271, 1.9518314027195718, 1.9518314027195718, 1.9518314027195718, 1.9518314027195718, 1.9518314027195718, 1.9518314027195718, 1.9518314027195718, 1.9518314027195718, 1.986263821363055, 1.986263821363055, 1.986263821363055, 1.986263821363055, 1.986263821363055, 1.986263821363055, 1.986263821363055, 1.986263821363055, 2.2155813797983983, 2.2155813797983983, 2.2155813797983983, 2.2155813797983983, 2.311983160978524, 2.311983160978524, 2.321179145671354, 2.321179145671354, 2.321179145671354, 2.321179145671354, 2.321179145671354, 2.321179145671354, 2.321179145671354, 2.321179145671354, 2.340128357137929, 2.340128357137929, 2.340128357137929, 2.340128357137929, 2.34909114897912, 2.34909114897912, 2.34909114897912, 2.34909114897912, 2.34909114897912, 2.34909114897912, 2.34909114897912, 2.34909114897912, 2.3502393804564674, 2.3502393804564674, 2.3502393804564674, 2.3502393804564674, 2.3502393804564674, 2.3502393804564674, 2.3502393804564674, 2.3502393804564674, 2.3506495691107836, 2.3506495691107836, 2.3506495691107836, 2.3506495691107836, 2.3506495691107836, 2.3506495691107836, 2.3506495691107836, 2.3506495691107836, 2.350889829259299, 2.350889829259299, 2.350889829259299, 2.350889829259299, 2.350889829259299, 2.350889829259299, 2.350889829259299, 2.350889829259299, 2.351141009169892, 2.351141009169892, 2.351141009169892, 2.351141009169892, 2.351141009169894, 2.351141009169894, 2.351141009169894, 2.351141009169894, 2.3667688811757666, 2.3667688811757666, 2.3667688811757666, 2.3667688811757666, 2.3667688811757666, 2.3667688811757666, 2.3667688811757666, 2.3667688811757666, 2.396557829988088, 2.396557829988088, 2.396557829988088, 2.396557829988088, 3.0033219749232716, 3.0033219749232716, 3.0033219749232716, 3.0033219749232716, 3.0033219749232716, 3.0033219749232716, 3.0033219749232716, 3.0033219749232716, 3.0371315790445665, 3.0371315790445665, 3.0371315790445665, 3.0371315790445665, 3.0371315790445665, 3.0371315790445665, 3.0371315790445665, 3.0371315790445665, 3.0398155262901403, 3.0398155262901403, 3.0398155262901403, 3.0398155262901403, 3.0398155262901403, 3.0398155262901403, 3.0398155262901403, 3.0398155262901403, 3.046232892576169, 3.046232892576169, 3.046232892576169, 3.046232892576169, 3.046232892576169, 3.046232892576169, 3.046232892576169, 3.046232892576169, 3.0530324771752237, 3.0530324771752237, 3.0530324771752237, 3.0530324771752237, 3.0540687778973057, 3.0540687778973057, 3.0540687778973057, 3.0540687778973057, 3.0540687778973057, 3.0540687778973057, 3.0540687778973057, 3.0540687778973057, 3.068815834482985, 3.068815834482985, 3.068815834482985, 3.068815834482985, 3.068815834482985, 3.068815834482985, 3.068815834482985, 3.068815834482985, 3.075379503984615, 3.075379503984615, 3.075379503984615, 3.075379503984615, 3.075379503984615, 3.075379503984615, 3.075379503984615, 3.075379503984615, 3.0951631394737045, 3.0951631394737045, 3.0951631394737045, 3.0951631394737045, 3.0951631394737045, 3.0951631394737045, 3.0951631394737045, 3.0951631394737045, 3.096075234651087, 3.096075234651087, 3.096075234651087, 3.096075234651087, 3.096075234651087, 3.096075234651087, 3.096075234651087, 3.096075234651087, 3.098186466749184, 3.098186466749184, 3.098186466749184, 3.098186466749184, 3.098186466749184, 3.098186466749184, 3.098186466749184, 3.098186466749184, 3.1077817298469306, 3.1077817298469306, 3.1077817298469306, 3.1077817298469306, 3.1077817298469306, 3.1077817298469306, 3.1077817298469306, 3.1077817298469306, 3.1141068587734146, 3.1141068587734146, 3.1141068587734146, 3.1141068587734146, 3.1141068587734146, 3.1141068587734146, 3.1141068587734146, 3.1141068587734146, 3.1145902323537364, 3.1145902323537364, 3.1145902323537364, 3.1145902323537364, 3.1145902323537364, 3.1145902323537364, 3.1145902323537364, 3.1145902323537364, 3.158129549909649, 3.158129549909649, 3.158129549909649, 3.158129549909649, 3.158129549909649, 3.158129549909649, 3.158129549909649, 3.158129549909649, 3.167346503733489, 3.167346503733489, 3.167346503733489, 3.167346503733489, 3.7369658518911333, 3.7369658518911333, 3.7369658518911333, 3.7369658518911333, 3.7369658518911333, 3.7369658518911333, 3.7369658518911333, 3.7369658518911333, 3.773755679303152, 3.773755679303152, 3.773755679303152, 3.773755679303152, 3.7846795468201693, 3.7846795468201693, 3.7846795468201693, 3.7846795468201693, 3.800909321719759, 3.800909321719759, 3.800909321719759, 3.800909321719759, 3.800909321719759, 3.800909321719759, 3.800909321719759, 3.800909321719759, 3.8027671992770586, 3.8027671992770586, 3.8027671992770586, 3.8027671992770586, 3.8027671992770586, 3.8027671992770586, 3.8027671992770586, 3.8027671992770586, 3.803361963176571, 3.803361963176571, 3.803361963176571, 3.803361963176571, 3.803361963176571, 3.803361963176571, 3.803361963176571, 3.803361963176571, 3.80390076018531, 3.80390076018531, 3.80390076018531, 3.80390076018531, 3.80390076018531, 3.80390076018531, 3.80390076018531, 3.80390076018531, 3.8042260651806115, 3.8042260651806115, 3.8042260651806115, 3.8042260651806115, 3.8042260651806146, 3.8042260651806146, 3.8042260651806146, 3.8042260651806146, 3.82684385144622, 3.82684385144622, 3.8269594534823557, 3.8269594534823557, 3.8269594534823557, 3.8269594534823557, 3.8269594534823557, 3.8269594534823557, 3.8269594534823557, 3.8269594534823557, 3.871237242786938, 3.871237242786938, 3.871237242786938, 3.871237242786938]\n"
     ]
    }
   ],
   "source": [
    "#Part 6: Checking the Solution (Showing that all Solutions 'z' are Different) \n",
    "l = 5\n",
    "d = .1\n",
    "trials = 300\n",
    "\n",
    "#make sure it works for any number of ks ; make the list before passing each element k \n",
    "all_sol = [sol_sys(l, d, k1, k2, trials = trials) for k1 in range(l) for k2 in range(l) if k1 != k2]\n",
    "print(\"\\nPrinting all solutions: \", all_sol)\n",
    "\n",
    "diff = [abs(x[0]-y[0])+abs(x[1]-y[1]) for x in all_sol for y in all_sol if x != y]\n",
    "diff.sort()\n",
    "print(\"\\nPrinting different solutions: \", diff)"
   ]
  },
  {
   "cell_type": "code",
   "execution_count": null,
   "metadata": {},
   "outputs": [],
   "source": []
  },
  {
   "cell_type": "code",
   "execution_count": 26,
   "metadata": {},
   "outputs": [],
   "source": [
    "#Weight function\n",
    "def W(zi,zj,d):\n",
    "    w = (d*(1+zj**2-d*zj))/((1+zi*zj-d*zi)*(1+zi*zj-d*zj))\n",
    "    return w"
   ]
  },
  {
   "cell_type": "code",
   "execution_count": 27,
   "metadata": {},
   "outputs": [],
   "source": [
    "def create_M_matrix(z,d,l):\n",
    "    n = len(z)\n",
    "    # Create Laplacian weight matrix\n",
    "    Lap = []\n",
    "    for i in range(n):\n",
    "        row = []\n",
    "        for j in range(n):\n",
    "            if i == j:\n",
    "                diag = 0\n",
    "                for k in range(n):\n",
    "                    if i!=k:\n",
    "                        diag += W(z[i],z[k],d)\n",
    "                row.append(diag)\n",
    "            if i!=j:\n",
    "                row.append(-W(z[i],z[j],d))\n",
    "        Lap.append(row)\n",
    "    \n",
    "  \n",
    "    # Create lambda matrix\n",
    "    Lam = np.zeros((n,n),dtype=complex)\n",
    "    for i in range(n):\n",
    "        Lam[i,i] = l/z[i]\n",
    "\n",
    "    Lap = np.array(Lap,dtype=complex)\n",
    "    # Create M matrix\n",
    "    M = torch.from_numpy(Lam) + torch.tensor(Lap)\n",
    "\n",
    "    return M"
   ]
  },
  {
   "cell_type": "code",
   "execution_count": 28,
   "metadata": {},
   "outputs": [
    {
     "name": "stdout",
     "output_type": "stream",
     "text": [
      "tensor([[ 5.0591+0.j, -0.0591+0.j],\n",
      "        [-0.0234+0.j,  2.5234+0.j]], dtype=torch.complex128)\n"
     ]
    }
   ],
   "source": [
    "print(create_M_matrix([1,2],0.1,5))"
   ]
  },
  {
   "cell_type": "code",
   "execution_count": 29,
   "metadata": {},
   "outputs": [],
   "source": [
    "# get C(z)\n",
    "def get_coeff(z,d,l):\n",
    "    # Create M matrix\n",
    "    M = create_M_matrix(z,d,l)\n",
    "    # Convert list to tensor\n",
    "    new_z = torch.tensor(z)\n",
    "    # Product of determinant of M matrix and (product of z's)/L^n\n",
    "    coeff = (((torch.prod(new_z).item()))*torch.linalg.det(M)).item()\n",
    "    return coeff\n"
   ]
  },
  {
   "cell_type": "code",
   "execution_count": 30,
   "metadata": {},
   "outputs": [],
   "source": [
    "#Part 7: Checking the Initial Conditions \n",
    "\n",
    "# Product term furthest in the identity\n",
    "def term1(z,perm,x,y):\n",
    "    n = len(z)\n",
    "    output = 1\n",
    "    for i in range(n):\n",
    "        output *= z[perm[i]-1]**(x[i]-y[perm[i]-1]-1)\n",
    "\n",
    "    return output\n",
    "\n",
    "# Sum over permutations in the symmetric group\n",
    "def term2(z,x,y,d):\n",
    "    n = len(z)\n",
    "    # Identity permutation (ex. if n=3, id = (1 2 3))\n",
    "    id = range(1,n+1)\n",
    "    # Create set of permutations\n",
    "    perms = iter.permutations(id)\n",
    "    sum = 0\n",
    "\n",
    "    for perm in perms:\n",
    "        A = 1\n",
    "        # A_sigma term\n",
    "        for i in range(n):\n",
    "            for j in range(i,n):\n",
    "                if perm[i] > perm[j]:\n",
    "                    A *= (-1)*(1+z[i]*z[j]-d*z[j])/(1+z[i]*z[j]-d*z[i])\n",
    "        \n",
    "        sum += A*term1(z,perm,x,y)\n",
    "    \n",
    "    return sum\n",
    "\n",
    "\n",
    "def F_ic(all_sol,x,y,d,l):\n",
    "    tot = 0\n",
    "\n",
    "    for z in all_sol:\n",
    "       # C(z)\n",
    "       C = get_coeff(z,d,l)\n",
    "       tot += (1/C)*term2(z,x,y,d) \n",
    "    \n",
    "    return tot\n",
    "\n",
    "    "
   ]
  },
  {
   "cell_type": "code",
   "execution_count": 35,
   "metadata": {},
   "outputs": [
    {
     "name": "stdout",
     "output_type": "stream",
     "text": [
      "ic:  [0, 1]\n",
      "[(0.9999999999999999-6.938893903907228e-18j), (-3.469446951953614e-16+6.938893903907228e-18j), (3.400058012914542e-16-6.938893903907228e-18j), (7.979727989493313e-16+6.938893903907228e-18j), (-1.3530843112619095e-16+6.938893903907228e-18j), (-6.522560269672795e-16+2.0816681711721685e-17j), (6.453171330633722e-16-1.3877787807814457e-17j), (5.655198531684391e-16+0j), (-8.326672684688674e-16+0j), (-4.683753385137379e-16+6.938893903907228e-18j)]\n",
      "(0.9999999999999998+2.0816681711721685e-17j)\n"
     ]
    }
   ],
   "source": [
    "#check initial condition\n",
    "#N=2\n",
    "k=2\n",
    "l=5\n",
    "d=0.2\n",
    "trials = 30\n",
    "\n",
    "#make sure it works for any number of ks ; make the list before passing each element k \n",
    "all_sol = [sol_sys(l, d, k1, k2, trials = trials) for k1 in range(l) for k2 in range(l) if k1 != k2]\n",
    "\n",
    "\n",
    "y = list(range(0,k))\n",
    "X = [(i+1, j+1) for i in range(l) for j in range(l) if i<j]\n",
    "\n",
    "values = [F_ic(all_sol,x,y,d,l) for x in X ]\n",
    "\n",
    "print(\"ic: \", y)\n",
    "print(values)\n",
    "print(sum(values))"
   ]
  },
  {
   "cell_type": "code",
   "execution_count": 43,
   "metadata": {},
   "outputs": [
    {
     "name": "stdout",
     "output_type": "stream",
     "text": [
      "ic:  [0, 1, 2]\n",
      "all sols:  [[(-0.8021626023898193+0.5971056517294009j), (-0.8021626023898193+0.5971056517294009j), (-0.7952008389067593-0.6063461270610921j)], [(-0.8309475019311132+0.5563508326896291j), (-0.8309475019311132+0.5563508326896291j), (0.3809475019311122+0.9245966692414833j)], [(-0.82407017036398-0.5664877353626319j), (-0.7879305511761451+0.6157641159756354j), (0.3665304094587565-0.9304060720685331j)], [(-0.8021626023898186+0.5971056517294j), (-0.7952008389067593-0.6063461270610924j), (-0.8021626023898186+0.5971056517294j)], [(-0.82407017036398+0.5664877353626319j), (-0.7879305511761451-0.6157641159756354j), (0.3665304094587565+0.9304060720685331j)], [(-0.8309475019311132-0.5563508326896291j), (-0.8309475019311132-0.5563508326896291j), (0.3809475019311122-0.9245966692414833j)], [(-0.8309475019311119+0.5563508326896289j), (0.38094750193111265+0.9245966692414841j), (-0.8309475019311119+0.5563508326896289j)], [(-0.8240701703639792+0.5664877353626308j), (0.3665304094587566+0.9304060720685327j), (-0.7879305511761446-0.6157641159756352j)], [(-0.8170397658879835+0.5765813220680236j), (0.3621843956879104+0.9321064657646048j), (0.34930573264629844-0.9370088073974718j)], [(-0.8240701703639792-0.5664877353626308j), (0.3665304094587566-0.9304060720685327j), (-0.7879305511761446+0.6157641159756352j)], [(-0.8309475019311119-0.5563508326896289j), (0.38094750193111265-0.9245966692414841j), (-0.8309475019311119-0.5563508326896289j)], [(-0.8170397658879838+0.5765813220680234j), (0.3493057326462982-0.9370088073974718j), (0.3621843956879108+0.9321064657646053j)], [(-0.8021626023898193+0.5971056517294009j), (-0.8021626023898193+0.5971056517294009j), (-0.7952008389067593-0.6063461270610921j)], [(-0.8309475019311132+0.5563508326896291j), (-0.8309475019311132+0.5563508326896291j), (0.3809475019311122+0.9245966692414833j)], [(-0.7879305511761451+0.6157641159756354j), (-0.82407017036398-0.5664877353626319j), (0.3665304094587565-0.9304060720685331j)], [(-0.8021626023898203+0.5971056517294012j), (-0.7952008389067597-0.6063461270610921j), (-0.8021626023898195+0.5971056517294004j)], [(-0.7660397456371132+0.6427932078858847j), (-0.7660397456371132-0.6427932078858847j), (1+0j)], [(-0.7660397456371132+0.6427932078858847j), (-0.7660397456371132-0.6427932078858847j), (1+0j)], [(-0.8309475019311126+0.5563508326896287j), (0.3809475019311125+0.9245966692414833j), (-0.8309475019311126+0.5563508326896287j)], [(-0.7660397456371126+0.6427932078858851j), (1+0j), (-0.7660397456371126-0.6427932078858851j)], [(-0.7575320983451509+0.6527979166455686j), (0.9989929700212411+0.04486697948536217j), (0.3449924460303287-0.9386054614064477j)], [(-0.7879305511761454+0.6157641159756355j), (0.36653040945875626-0.9304060720685325j), (-0.8240701703639786-0.5664877353626308j)], [(-0.7660397456371126+0.6427932078858851j), (1+0j), (-0.7660397456371126-0.6427932078858851j)], [(-0.7575320983451498+0.6527979166455684j), (0.34499244603032864-0.9386054614064474j), (0.9989929700212412+0.044866979485362106j)], [(-0.7952008389067593-0.6063461270610924j), (-0.8021626023898186+0.5971056517294j), (-0.8021626023898186+0.5971056517294j)], [(-0.7879305511761451-0.6157641159756354j), (-0.82407017036398+0.5664877353626319j), (0.3665304094587565+0.9304060720685331j)], [(-0.8309475019311132-0.5563508326896291j), (-0.8309475019311132-0.5563508326896291j), (0.3809475019311122-0.9245966692414833j)], [(-0.7952008389067597-0.6063461270610921j), (-0.8021626023898203+0.5971056517294012j), (-0.8021626023898195+0.5971056517294004j)], [(-0.7660397456371132-0.6427932078858847j), (-0.7660397456371132+0.6427932078858847j), (1+0j)], [(-0.7660397456371132-0.6427932078858847j), (-0.7660397456371132+0.6427932078858847j), (1+0j)], [(-0.7879305511761454-0.6157641159756355j), (0.36653040945875626+0.9304060720685325j), (-0.8240701703639786+0.5664877353626308j)], [(-0.7660397456371126-0.6427932078858851j), (1+0j), (-0.7660397456371126+0.6427932078858851j)], [(-0.7575320983451498-0.6527979166455684j), (0.34499244603032864+0.9386054614064474j), (0.9989929700212412-0.044866979485362106j)], [(-0.8309475019311126-0.5563508326896287j), (0.3809475019311125-0.9245966692414833j), (-0.8309475019311126-0.5563508326896287j)], [(-0.7660397456371126-0.6427932078858851j), (1+0j), (-0.7660397456371126+0.6427932078858851j)], [(-0.7575320983451509-0.6527979166455686j), (0.9989929700212411-0.04486697948536217j), (0.3449924460303287+0.9386054614064477j)], [(0.38094750193111265+0.9245966692414841j), (-0.8309475019311119+0.5563508326896289j), (-0.8309475019311119+0.5563508326896289j)], [(0.3665304094587566+0.9304060720685327j), (-0.8240701703639792+0.5664877353626308j), (-0.7879305511761446-0.6157641159756352j)], [(0.3621843956879104+0.9321064657646048j), (-0.8170397658879835+0.5765813220680236j), (0.34930573264629844-0.9370088073974718j)], [(0.3809475019311125+0.9245966692414833j), (-0.8309475019311126+0.5563508326896287j), (-0.8309475019311126+0.5563508326896287j)], [(1+0j), (-0.7660397456371126+0.6427932078858851j), (-0.7660397456371126-0.6427932078858851j)], [(0.9989929700212411+0.04486697948536217j), (-0.7575320983451509+0.6527979166455686j), (0.3449924460303287-0.9386054614064477j)], [(0.36653040945875626+0.9304060720685325j), (-0.7879305511761454-0.6157641159756355j), (-0.8240701703639786+0.5664877353626308j)], [(1+0j), (-0.7660397456371126-0.6427932078858851j), (-0.7660397456371126+0.6427932078858851j)], [(0.34499244603032864+0.9386054614064474j), (-0.7575320983451498-0.6527979166455684j), (0.9989929700212412-0.044866979485362106j)], [(0.3621843956879104+0.9321064657646048j), (0.34930573264629844-0.9370088073974718j), (-0.8170397658879831+0.5765813220680234j)], [(0.9989929700212411+0.04486697948536214j), (0.3449924460303287-0.9386054614064477j), (-0.7575320983451505+0.6527979166455683j)], [(0.3449924460303287+0.9386054614064477j), (0.9989929700212411-0.04486697948536214j), (-0.7575320983451505-0.6527979166455683j)], [(0.3665304094587566-0.9304060720685327j), (-0.8240701703639792-0.5664877353626308j), (-0.7879305511761446+0.6157641159756352j)], [(0.38094750193111265-0.9245966692414841j), (-0.8309475019311119-0.5563508326896289j), (-0.8309475019311119-0.5563508326896289j)], [(0.3493057326462982-0.9370088073974718j), (-0.8170397658879838+0.5765813220680234j), (0.3621843956879108+0.9321064657646053j)], [(0.36653040945875626-0.9304060720685325j), (-0.7879305511761454+0.6157641159756355j), (-0.8240701703639786-0.5664877353626308j)], [(1+0j), (-0.7660397456371126+0.6427932078858851j), (-0.7660397456371126-0.6427932078858851j)], [(0.34499244603032864-0.9386054614064474j), (-0.7575320983451498+0.6527979166455684j), (0.9989929700212412+0.044866979485362106j)], [(0.3809475019311125-0.9245966692414833j), (-0.8309475019311126-0.5563508326896287j), (-0.8309475019311126-0.5563508326896287j)], [(1+0j), (-0.7660397456371126-0.6427932078858851j), (-0.7660397456371126+0.6427932078858851j)], [(0.9989929700212411-0.04486697948536217j), (-0.7575320983451509-0.6527979166455686j), (0.3449924460303287+0.9386054614064477j)], [(0.34930573264629844-0.9370088073974718j), (0.3621843956879104+0.9321064657646048j), (-0.8170397658879831+0.5765813220680234j)], [(0.3449924460303287-0.9386054614064477j), (0.9989929700212411+0.04486697948536214j), (-0.7575320983451505+0.6527979166455683j)], [(0.9989929700212411-0.04486697948536214j), (0.3449924460303287+0.9386054614064477j), (-0.7575320983451505-0.6527979166455683j)]]\n",
      "[(0.8281727947617531-3.8163916471489756e-17j), (-0.19823287628831865+0.09193938515483885j), (0.2852287378457504-0.07958716891033714j), (-0.08776799962846772+0.06256547589723319j), (-0.09108760259175648-0.05132051638818562j), (0.004783019310217396+0.12869884755032396j), (0.2916167539867983+0.08257477168570379j), (-0.24999469676276598-0.08619557418806359j), (-0.273407359942709-0.009293681369196774j), (-0.008277042679965955-0.1336087872007311j)]\n",
      "(0.5010337280105354+0.005772752231585521j)\n",
      "[(-0.7660397456371132+0.6427932078858847j), (-0.7660397456371132-0.6427932078858847j), (1+0j)]\n"
     ]
    }
   ],
   "source": [
    "#Check for N=3\n",
    "\n",
    "k=3\n",
    "l=5\n",
    "d=0.1\n",
    "trials = 100\n",
    "\n",
    "#make sure it works for any number of ks ; make the list before passing each element k \n",
    "all_sol = [sol_sys(l, d, k1, k2, k3, trials = trials) for k1 in range(l) for k2 in range(l) for k3 in range(l) if (k1 != k2 and k2 != k3 and k1 != k3)]\n",
    "\n",
    "\n",
    "y = list(range(0,k))\n",
    "X = [(i+1, j+1, m+1) for i in range(l) for j in range(l) for m in range(l) if i<j<m]\n",
    "\n",
    "values = [F_ic(all_sol,x,y,d,l) for x in X ]\n",
    "\n",
    "print(\"ic: \", y)\n",
    "print(\"all sols: \", all_sol)\n",
    "print(values)\n",
    "print(sum(values))\n",
    "\n",
    "print(sol_sys(5, 0.1, 1, 2, 3,trials = 30))"
   ]
  },
  {
   "cell_type": "code",
   "execution_count": null,
   "metadata": {},
   "outputs": [],
   "source": [
    "#Part 8: Define B1 B2 Function\n"
   ]
  },
  {
   "cell_type": "code",
   "execution_count": null,
   "metadata": {},
   "outputs": [],
   "source": [
    "#Part 9: Define a Function for terms inside the Summation"
   ]
  },
  {
   "cell_type": "code",
   "execution_count": null,
   "metadata": {},
   "outputs": [],
   "source": [
    "#Part 10: Define a Function for the Summation"
   ]
  },
  {
   "cell_type": "code",
   "execution_count": null,
   "metadata": {},
   "outputs": [],
   "source": [
    "#Part 11: We Check the Identity "
   ]
  },
  {
   "cell_type": "code",
   "execution_count": null,
   "metadata": {},
   "outputs": [],
   "source": [
    "#Part 12: Plotting the Solution"
   ]
  }
 ],
 "metadata": {
  "kernelspec": {
   "display_name": "Python 3",
   "language": "python",
   "name": "python3"
  },
  "language_info": {
   "codemirror_mode": {
    "name": "ipython",
    "version": 3
   },
   "file_extension": ".py",
   "mimetype": "text/x-python",
   "name": "python",
   "nbconvert_exporter": "python",
   "pygments_lexer": "ipython3",
   "version": "3.7.4"
  },
  "orig_nbformat": 4
 },
 "nbformat": 4,
 "nbformat_minor": 2
}
