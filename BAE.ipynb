{
 "cells": [
  {
   "attachments": {},
   "cell_type": "markdown",
   "metadata": {},
   "source": [
    "Components of the Entire Python3 program:\n",
    "\n",
    "1. Find the numerical solutions, cn, for any \"n\" constants (represented by zn) and delta \"d.\"\n",
    "\n",
    "2. Define the polynomial as a list of coefficients.\n",
    "\n",
    "3. Find close solutions. When we obtain solutions of the polynomial equations, we are only interested in the previous element of the sequence\n",
    "   This part of the code returns the \"closest\" solutions.\n",
    "\n",
    "4. Setting up a recursion.\n",
    "\n",
    "5. Checking the solution is close to zero.\n",
    "\n",
    "6. Checking that all solutions are different.\n",
    "\n",
    "7. Define A(z1, z2) function. \n",
    "\n",
    "8. Define B1 and B2 function. \n",
    "\n",
    "9. Define a function for terms inside the summation. \n",
    "\n",
    "10. Define a function for the summation. \n",
    "\n",
    "11. We check the identity. \n",
    "\n",
    "12. Plotting the soltuion. "
   ]
  },
  {
   "cell_type": "code",
   "execution_count": 30,
   "metadata": {},
   "outputs": [
    {
     "name": "stderr",
     "output_type": "stream",
     "text": [
      "C:\\Users\\coe_user\\AppData\\Local\\Temp\\ipykernel_5244\\1170155103.py:5: MatplotlibDeprecationWarning: The seaborn styles shipped by Matplotlib are deprecated since 3.6, as they no longer correspond to the styles shipped by seaborn. However, they will remain available as 'seaborn-v0_8-<style>'. Alternatively, directly use the seaborn API instead.\n",
      "  plt.style.use('seaborn-poster')\n"
     ]
    }
   ],
   "source": [
    "#Import libraries for plotting (matplotlib) and advanced mathematical operations (using numpy)\n",
    "import numpy as np\n",
    "from mpl_toolkits import mplot3d\n",
    "import matplotlib.pyplot as plt\n",
    "plt.style.use('seaborn-poster')\n",
    "import itertools as iter"
   ]
  },
  {
   "cell_type": "code",
   "execution_count": 31,
   "metadata": {},
   "outputs": [
    {
     "name": "stdout",
     "output_type": "stream",
     "text": [
      "\n",
      "Test examples for n = 2 and n = 4 cases : \n",
      "\n",
      "[-0.2, -5.0]\n",
      "1.0\n",
      "\n",
      "\n",
      "[-0.004784688995215311, -0.14285714285714285, -3.6666666666666665, -399.0]\n",
      "1.0\n"
     ]
    }
   ],
   "source": [
    "#Part 1: Find the numerical solutions for any n constants\n",
    "\n",
    "#FUNCTION DEFINITION: Accepts parameters delta \"d\" and *z as pointer allowing for any number of z values \n",
    "def compute_coefficient(d, *z):\n",
    "    n = len(z)\n",
    "\n",
    "    is_even = n % 2 == 0 #if there is no remainder when divided by two, is_even is set to true. Otherwise, set to false.\n",
    "\n",
    "    #create an empty list to store the coefficients \n",
    "    coeffs = []\n",
    "\n",
    "    for i in range(n):\n",
    "        #initalize numerator and denominator for each element in the computation before updating the values in the second loop \n",
    "        numerator = 1\n",
    "        denominator = 1\n",
    "        \n",
    "        for j in range(n):\n",
    "\n",
    "            #compute the numerical solutions for the Bethe equations for the numerator and denominator \n",
    "            numerator *= (1 + z[i]*z[j] - d*z[i])\n",
    "            denominator *= (1 + z[j]*z[i] - d*z[j])\n",
    "\n",
    "        #append numerical solutions to the result and return as apart of the list\n",
    "        if is_even:\n",
    "            coeffs.append(-numerator/denominator) #when n is even, sign should be negative\n",
    "        else:\n",
    "             coeffs.append(numerator/denominator) #when n is odd, sign should be positive\n",
    "\n",
    "    return coeffs\n",
    "\n",
    "#FUNCTION CALL : Initialize list z and int d, store returned list and print \n",
    "print(\"\\nTest examples for n = 2 and n = 4 cases : \\n\")\n",
    "\n",
    "#Works for when 'z' contains two elements\n",
    "z2 = [2, 3]\n",
    "d2 = 4\n",
    "\n",
    "coeffs2 = compute_coefficient(d2, *z2)\n",
    "print(coeffs2)\n",
    "\n",
    "#Check: Product of coefficients (all the elements in the list) should sum to one \n",
    "from functools import reduce\n",
    "import operator\n",
    "product2 = reduce(operator.mul, coeffs2)\n",
    "print(product2)\n",
    "\n",
    "print(\"\\n\")\n",
    "\n",
    "#Works for when 'z' contains four elements\n",
    "z4 = [2, 3, 4, 5]\n",
    "d4 = 6\n",
    "\n",
    "coeffs4 = compute_coefficient(d4, *z4)\n",
    "print(coeffs4)\n",
    "\n",
    "product4 = reduce(operator.mul, coeffs4)\n",
    "print(product4)"
   ]
  },
  {
   "cell_type": "code",
   "execution_count": 32,
   "metadata": {},
   "outputs": [
    {
     "name": "stdout",
     "output_type": "stream",
     "text": [
      "\n",
      "Test example from BAE solutions.ipynb : \n",
      "\n",
      "[[1, 0, (0.9950124688279302-0.09975062344139653j)], [1, 0, (0.9950124688279302+0.09975062344139653j)]]\n",
      "\n",
      "\n",
      "[[1, 0, 1.0], [1, 0, 1.0]]\n"
     ]
    }
   ],
   "source": [
    "\n",
    "\"\"\"\n",
    "Notes: For each coefficient, you want to create the list [1, 0, ..., 0, ci]\n",
    "       Corresponds to z1L - c1 = 0, . . .,\n",
    "       L roots depend on the ith coefficient \n",
    "       The solution of the polynomial will be stored in a Result list of length L with the roots \n",
    "       Once we have the solution above, we want to pick the closest solution \n",
    "\"\"\"\n",
    "\n",
    "#Part 2: Define the polynomial as the list of coefficients \n",
    "def pol_coeffs(l, d, *z):\n",
    "\n",
    "    c = compute_coefficient(d, *z) #c is a list that stores all the coefficients \n",
    "    #convert the list of n numbers to a list of n lists ; each number becomes its own list; each list is length l + 1\n",
    "    #first element of the list will be 1, last will be ci, everything in between is zero \n",
    "\n",
    "    coeffs = [] #list of lists \n",
    "    results = [1]\n",
    "\n",
    "    for i in c:\n",
    "        \n",
    "        for j in range (l-1):\n",
    "\n",
    "            results.append(0)\n",
    "\n",
    "        results.append(-i)\n",
    "        coeffs.append(results) #attempt at appending for a specific coefficient (error message here, why?)\n",
    "        results = [1] #creates a list of length l + 1  \n",
    "        \n",
    "    return coeffs\n",
    "\n",
    "#test example from BAEsolutionsN2.ipynb \n",
    "print(\"\\nTest example from BAE solutions.ipynb : \\n\")\n",
    "l1 = 2\n",
    "d1 = 0.1\n",
    "z1 = [1j, -1j]\n",
    "print(pol_coeffs(l1, d1, *z1))\n",
    "\n",
    "print(\"\\n\")\n",
    "l2 = 2\n",
    "d2 = 0\n",
    "z2 = [1, 1]\n",
    "print(pol_coeffs(l2, d2, *z2))"
   ]
  },
  {
   "cell_type": "code",
   "execution_count": 49,
   "metadata": {},
   "outputs": [
    {
     "name": "stdout",
     "output_type": "stream",
     "text": [
      "\n",
      "Printing closed solutions when 'cs_l = 2, cs_z = [1j, -1j], cs_d = 0.1, and cs_s = 1j': \n",
      "\n",
      "[(0.049937616943892094+0.9987523388778446j), (-0.04993761694389226+0.9987523388778448j)]\n"
     ]
    }
   ],
   "source": [
    "#Part 3: Finding close solutions\n",
    "\n",
    "\"\"\"\n",
    "List of lists (for each sublists) -> array of roots -> pick the closest one \n",
    "Go back from n lists to n numbers \n",
    "\"\"\"\n",
    "\n",
    "def close_sols(l, *zs, d, s):\n",
    "    \n",
    "    result = [] #empty list to store the closest solution for each coefficient  \n",
    "    i = 0 \n",
    "    #iterate over each sublist \n",
    "    for sublist in pol_coeffs(l, d, *zs):\n",
    "        \n",
    "        #calculate the roots\n",
    "        roots = np.roots(sublist)\n",
    "        \n",
    "        #move to the previous element zi  \n",
    "        roots = [x-s[i] for x in roots]  \n",
    "\n",
    "        #find the solution with the minimum absolute value and add s\n",
    "        min_sol = min(roots, key=np.abs) + s[i]  \n",
    "\n",
    "        #results should be n numbers\n",
    "        result.append(min_sol)\n",
    "\n",
    "        i += 1\n",
    "\n",
    "    return result  #Possible error of output not matching N = 2 case of E.Os of (0.049937616943892205+0.9987523388778446j) and (-0.04993761694389226+0.9987523388778448j)\n",
    "\n",
    "cs_l = 2 \n",
    "cs_z = [1j, -1j]\n",
    "cs_d = 0.1\n",
    "cs_s = [1j, 1j]\n",
    "\n",
    "print(\"\\nPrinting closed solutions when 'cs_l = 2, cs_z = [1j, -1j], cs_d = 0.1, and cs_s = 1j': \\n\")\n",
    "print(close_sols(cs_l, *cs_z, d=cs_d, s=cs_s))"
   ]
  },
  {
   "cell_type": "code",
   "execution_count": 51,
   "metadata": {},
   "outputs": [
    {
     "name": "stdout",
     "output_type": "stream",
     "text": [
      "\n",
      "Printing the solutions to the system: [(-0.2910397456371137+0.9567109628615555j), (-0.2910397456371137-0.9567109628615555j)]\n"
     ]
    }
   ],
   "source": [
    "#Part 4: Setting up a recursion \n",
    "\n",
    "trials = 30\n",
    "\n",
    "def sol_sys(l, d, *ks, trials):\n",
    "\n",
    "    z = []\n",
    "    list = pol_coeffs(l, 0, 0, 0)[0]\n",
    "    sol = np.roots(list)\n",
    "\n",
    "    for k in ks:\n",
    "        z.append(sol[k])\n",
    "\n",
    "    for _ in range(trials):\n",
    "        z = close_sols(l, *z, d=d, s=z)\n",
    "\n",
    "    return z\n",
    "\n",
    "l = 5\n",
    "s = 2\n",
    "d = 0.1\n",
    "ks = [1, 2]\n",
    "print(\"\\nPrinting the solutions to the system:\", sol_sys(l, d, *ks, trials=trials))\n"
   ]
  },
  {
   "cell_type": "code",
   "execution_count": 52,
   "metadata": {},
   "outputs": [
    {
     "name": "stdout",
     "output_type": "stream",
     "text": [
      "\n",
      "Checking solutions are close to zero:\n"
     ]
    },
    {
     "ename": "TypeError",
     "evalue": "'numpy.complex128' object is not iterable",
     "output_type": "error",
     "traceback": [
      "\u001b[1;31m---------------------------------------------------------------------------\u001b[0m",
      "\u001b[1;31mTypeError\u001b[0m                                 Traceback (most recent call last)",
      "Cell \u001b[1;32mIn[52], line 14\u001b[0m\n\u001b[0;32m     12\u001b[0m \u001b[39m#print z[i] ** l minus coefficient[i] \u001b[39;00m\n\u001b[0;32m     13\u001b[0m \u001b[39mfor\u001b[39;00m sublist, coefficient \u001b[39min\u001b[39;00m \u001b[39mzip\u001b[39m(z, c):\n\u001b[1;32m---> 14\u001b[0m     \u001b[39mfor\u001b[39;00m element \u001b[39min\u001b[39;00m sublist:\n\u001b[0;32m     15\u001b[0m         \u001b[39mprint\u001b[39m(element\u001b[39m*\u001b[39m\u001b[39m*\u001b[39ml \u001b[39m-\u001b[39m coefficient, \u001b[39m\"\u001b[39m\u001b[39m,\u001b[39m\u001b[39m\"\u001b[39m)\n",
      "\u001b[1;31mTypeError\u001b[0m: 'numpy.complex128' object is not iterable"
     ]
    }
   ],
   "source": [
    "#Part 5: Checking The Solution (Showing that all Solutions 'z' are Close to Zero) \n",
    "l = 5\n",
    "d = 0.1\n",
    "ks = [1, 4]\n",
    "trials = 30\n",
    "\n",
    "z = sol_sys(l, d, *ks, trials=trials)\n",
    "c = compute_coefficient(*ks, d)\n",
    "\n",
    "print(\"\\nChecking solutions are close to zero:\")\n",
    "\n",
    "#print z[i] ** l minus coefficient[i] \n",
    "for sublist, coefficient in zip(z, c):\n",
    "    for element in sublist:\n",
    "        print(element**l - coefficient, \",\")\n"
   ]
  },
  {
   "cell_type": "code",
   "execution_count": 68,
   "metadata": {},
   "outputs": [
    {
     "name": "stdout",
     "output_type": "stream",
     "text": [
      "\n",
      "Printing all solutions:  [[(-0.9999004932239475-0.014106865367931709j), (-0.29556981885742195+0.9553211408634239j)], [(-0.9999004932239475+0.014106865367931709j), (-0.29556981885742195-0.9553211408634239j)], [(-0.9982161702461364-0.05970324496318069j), (0.8426665326923637+0.5384358036760086j)], [(-0.9982161702461364+0.05970324496318069j), (0.8426665326923637-0.5384358036760086j)], [(-0.29556981885742195+0.9553211408634239j), (-0.9999004932239475-0.014106865367931709j)], [(-0.2910397456371137+0.9567109628615555j), (-0.2910397456371137-0.9567109628615555j)], [(-0.2695024611955076+0.9629997006279724j), (0.7840690931242292+0.6206735512387722j)], [(-0.2863128246591291+0.9581361940954479j), (0.8227661423655492-0.5683800444921631j)], [(-0.29556981885742195-0.9553211408634239j), (-0.9999004932239475+0.014106865367931709j)], [(-0.2910397456371137-0.9567109628615555j), (-0.2910397456371137+0.9567109628615555j)], [(-0.2863128246591291-0.9581361940954479j), (0.8227661423655492+0.5683800444921631j)], [(-0.2695024611955076-0.9629997006279724j), (0.7840690931242292-0.6206735512387722j)], [(0.8426665326923637+0.5384358036760086j), (-0.9982161702461364-0.05970324496318069j)], [(0.7840690931242292+0.6206735512387722j), (-0.2695024611955076+0.9629997006279724j)], [(0.8227661423655492+0.5683800444921631j), (-0.2863128246591291-0.9581361940954479j)], [(0.8160397456371133+0.5779957902446311j), (0.8160397456371133-0.5779957902446311j)], [(0.8426665326923637-0.5384358036760086j), (-0.9982161702461364+0.05970324496318069j)], [(0.8227661423655492-0.5683800444921631j), (-0.2863128246591291+0.9581361940954479j)], [(0.7840690931242292-0.6206735512387722j), (-0.2695024611955076-0.9629997006279724j)], [(0.8160397456371133-0.5779957902446311j), (0.8160397456371133+0.5779957902446311j)]]\n",
      "\n",
      "Printing different solutions:  [1.1777914280376254, 1.1777914280376254, 1.1777914280376254, 1.1777914280376254, 1.1777914280376254, 1.1777914280376254, 1.1777914280376254, 1.1777914280376254, 1.1822471185531227, 1.1822471185531227, 1.1822471185531227, 1.1822471185531227, 1.1822471185531227, 1.1822471185531227, 1.1822471185531227, 1.1822471185531227, 1.184139191409013, 1.184139191409013, 1.184139191409013, 1.184139191409013, 1.184139191409013, 1.184139191409013, 1.184139191409013, 1.184139191409013, 1.1844982406343079, 1.1844982406343079, 1.1844982406343079, 1.1844982406343079, 1.1844982406343079, 1.1844982406343079, 1.1844982406343079, 1.1844982406343079, 1.1962780972783786, 1.1962780972783786, 1.1962780972783786, 1.1962780972783786, 1.2071828873025665, 1.2071828873025665, 1.2071828873025665, 1.2071828873025665, 1.2071828873025665, 1.2071828873025665, 1.2071828873025665, 1.2071828873025665, 1.257805425778467, 1.257805425778467, 1.257805425778467, 1.257805425778467, 1.257805425778467, 1.257805425778467, 1.257805425778467, 1.257805425778467, 1.3567434466865333, 1.3567434466865333, 1.3567434466865333, 1.3567434466865333, 1.3567434466865333, 1.3567434466865333, 1.3567434466865333, 1.3567434466865333, 1.914756246628977, 1.914756246628977, 1.914756246628977, 1.914756246628977, 1.914756246628977, 1.914756246628977, 1.914756246628977, 1.914756246628977, 1.920714738661348, 1.920714738661348, 1.920714738661348, 1.920714738661348, 1.920714738661348, 1.920714738661348, 1.920714738661348, 1.920714738661348, 1.9313632815976238, 1.9313632815976238, 1.9313632815976238, 1.9313632815976238, 1.9313632815976238, 1.9313632815976238, 1.9313632815976238, 1.9313632815976238, 1.93452267278439, 1.93452267278439, 1.93452267278439, 1.93452267278439, 1.93452267278439, 1.93452267278439, 1.93452267278439, 1.93452267278439, 1.9382832252613484, 1.9382832252613484, 1.9382832252613484, 1.9382832252613484, 1.9382832252613484, 1.9382832252613484, 1.9382832252613484, 1.9382832252613484, 1.9388560124627112, 1.9388560124627112, 1.9388560124627112, 1.9388560124627112, 1.951831402719572, 1.951831402719572, 1.951831402719572, 1.951831402719572, 1.951831402719572, 1.951831402719572, 1.951831402719572, 1.951831402719572, 1.9862638213630543, 1.9862638213630543, 1.9862638213630543, 1.9862638213630543, 1.9862638213630543, 1.9862638213630543, 1.9862638213630543, 1.9862638213630543, 2.215581379798398, 2.215581379798398, 2.215581379798398, 2.215581379798398, 2.3119831609785244, 2.3119831609785244, 2.321179145671355, 2.321179145671355, 2.321179145671355, 2.321179145671355, 2.321179145671355, 2.321179145671355, 2.321179145671355, 2.321179145671355, 2.340128357137931, 2.340128357137931, 2.340128357137931, 2.340128357137931, 2.3490911489791193, 2.3490911489791193, 2.3490911489791193, 2.3490911489791193, 2.3490911489791193, 2.3490911489791193, 2.3490911489791193, 2.3490911489791193, 2.3502393804564683, 2.3502393804564683, 2.3502393804564683, 2.3502393804564683, 2.3502393804564683, 2.3502393804564683, 2.3502393804564683, 2.3502393804564683, 2.350649569110785, 2.350649569110785, 2.350649569110785, 2.350649569110785, 2.350649569110785, 2.350649569110785, 2.350649569110785, 2.350649569110785, 2.350889829259299, 2.350889829259299, 2.350889829259299, 2.350889829259299, 2.350889829259299, 2.350889829259299, 2.350889829259299, 2.350889829259299, 2.351141009169893, 2.351141009169893, 2.351141009169893, 2.351141009169893, 2.3511410091698957, 2.3511410091698957, 2.3511410091698957, 2.3511410091698957, 2.366768881175768, 2.366768881175768, 2.366768881175768, 2.366768881175768, 2.366768881175768, 2.366768881175768, 2.366768881175768, 2.366768881175768, 2.39655782998809, 2.39655782998809, 2.39655782998809, 2.39655782998809, 3.0033219749232716, 3.0033219749232716, 3.0033219749232716, 3.0033219749232716, 3.0033219749232716, 3.0033219749232716, 3.0033219749232716, 3.0033219749232716, 3.037131579044566, 3.037131579044566, 3.037131579044566, 3.037131579044566, 3.037131579044566, 3.037131579044566, 3.037131579044566, 3.037131579044566, 3.0398155262901403, 3.0398155262901403, 3.0398155262901403, 3.0398155262901403, 3.0398155262901403, 3.0398155262901403, 3.0398155262901403, 3.0398155262901403, 3.04623289257617, 3.04623289257617, 3.04623289257617, 3.04623289257617, 3.04623289257617, 3.04623289257617, 3.04623289257617, 3.04623289257617, 3.053032477175222, 3.053032477175222, 3.053032477175222, 3.053032477175222, 3.0540687778973084, 3.0540687778973084, 3.0540687778973084, 3.0540687778973084, 3.0540687778973084, 3.0540687778973084, 3.0540687778973084, 3.0540687778973084, 3.068815834482984, 3.068815834482984, 3.068815834482984, 3.068815834482984, 3.068815834482984, 3.068815834482984, 3.068815834482984, 3.068815834482984, 3.0753795039846175, 3.0753795039846175, 3.0753795039846175, 3.0753795039846175, 3.0753795039846175, 3.0753795039846175, 3.0753795039846175, 3.0753795039846175, 3.095163139473704, 3.095163139473704, 3.095163139473704, 3.095163139473704, 3.095163139473704, 3.095163139473704, 3.095163139473704, 3.095163139473704, 3.0960752346510882, 3.0960752346510882, 3.0960752346510882, 3.0960752346510882, 3.0960752346510882, 3.0960752346510882, 3.0960752346510882, 3.0960752346510882, 3.0981864667491834, 3.0981864667491834, 3.0981864667491834, 3.0981864667491834, 3.0981864667491834, 3.0981864667491834, 3.0981864667491834, 3.0981864667491834, 3.1077817298469332, 3.1077817298469332, 3.1077817298469332, 3.1077817298469332, 3.1077817298469332, 3.1077817298469332, 3.1077817298469332, 3.1077817298469332, 3.1141068587734164, 3.1141068587734164, 3.1141068587734164, 3.1141068587734164, 3.1141068587734164, 3.1141068587734164, 3.1141068587734164, 3.1141068587734164, 3.114590232353737, 3.114590232353737, 3.114590232353737, 3.114590232353737, 3.114590232353737, 3.114590232353737, 3.114590232353737, 3.114590232353737, 3.15812954990965, 3.15812954990965, 3.15812954990965, 3.15812954990965, 3.15812954990965, 3.15812954990965, 3.15812954990965, 3.15812954990965, 3.167346503733489, 3.167346503733489, 3.167346503733489, 3.167346503733489, 3.736965851891134, 3.736965851891134, 3.736965851891134, 3.736965851891134, 3.736965851891134, 3.736965851891134, 3.736965851891134, 3.736965851891134, 3.7737556793031506, 3.7737556793031506, 3.7737556793031506, 3.7737556793031506, 3.7846795468201715, 3.7846795468201715, 3.7846795468201715, 3.7846795468201715, 3.8009093217197587, 3.8009093217197587, 3.8009093217197587, 3.8009093217197587, 3.8009093217197587, 3.8009093217197587, 3.8009093217197587, 3.8009093217197587, 3.802767199277061, 3.802767199277061, 3.802767199277061, 3.802767199277061, 3.802767199277061, 3.802767199277061, 3.802767199277061, 3.802767199277061, 3.8033619631765716, 3.8033619631765716, 3.8033619631765716, 3.8033619631765716, 3.8033619631765716, 3.8033619631765716, 3.8033619631765716, 3.8033619631765716, 3.8039007601853125, 3.8039007601853125, 3.8039007601853125, 3.8039007601853125, 3.8039007601853125, 3.8039007601853125, 3.8039007601853125, 3.8039007601853125, 3.8042260651806115, 3.8042260651806115, 3.8042260651806115, 3.8042260651806115, 3.804226065180614, 3.804226065180614, 3.804226065180614, 3.804226065180614, 3.826843851446222, 3.826843851446222, 3.826959453482358, 3.826959453482358, 3.826959453482358, 3.826959453482358, 3.826959453482358, 3.826959453482358, 3.826959453482358, 3.826959453482358, 3.871237242786937, 3.871237242786937, 3.871237242786937, 3.871237242786937]\n"
     ]
    }
   ],
   "source": [
    "#Part 6: Checking the Solution (Showing that all Solutions 'z' are Different) \n",
    "l = 5\n",
    "d = .1\n",
    "trails = 300\n",
    "\n",
    "#make sure it works for any number of ks ; make the list before passing each element k \n",
    "all_sol = [sol_sys(l, d, k1, k2, trials = trials) for k1 in range(l) for k2 in range(l) if k1 != k2]\n",
    "print(\"\\nPrinting all solutions: \", all_sol)\n",
    "\n",
    "diff = [abs(x[0]-y[0])+abs(x[1]-y[1]) for x in all_sol for y in all_sol if x != y]\n",
    "diff.sort()\n",
    "print(\"\\nPrinting different solutions: \", diff)"
   ]
  },
  {
   "cell_type": "code",
   "execution_count": null,
   "metadata": {},
   "outputs": [
    {
     "name": "stdout",
     "output_type": "stream",
     "text": [
      "\n",
      "Checking initial condition A:  -5.0\n"
     ]
    }
   ],
   "source": [
    "#Part 7: Checking the Initial Conditions \n",
    "\n",
    "# Product term furthest in the identity\n",
    "def term1(z,perm,x,y):\n",
    "    output = 1\n",
    "    for i in range(n):\n",
    "        output *= z[perm[i]]**(x[i]-y[perm[i]]-1)\n",
    "\n",
    "    return output\n",
    "\n",
    "# Sum over permutations in the symmetric group\n",
    "def term2(z,x,y):\n",
    "    id = range(n) + 1\n",
    "    perms = iter.permutations(id)\n",
    "    sum = 0\n",
    "\n",
    "    for perm in perms:\n",
    "        A = 1\n",
    "        # A_sigma term\n",
    "        for i in range(len(z)):\n",
    "            for j in range(len(z)):\n",
    "                if i+1 < j+1 and perm[i] > perm[j]:\n",
    "                    A *= (-1)*(1+z[i]*z[j]-d*z[j])/(1+z[i]*z[j]-d*z[i])\n",
    "        \n",
    "        sum += A*term1(z,perm,x,y)\n",
    "\n",
    "    \n",
    "\"\"\"\n",
    "def A(z1, z2, d):\n",
    "    return (-1)* (1 + z1*z2 - d*z2)/(1 + z1 *z2 - d*z1)\n",
    "\n",
    "print(\"\\nChecking initial condition A: \", A(1,2,4)) #expected -5.0\n",
    "\"\"\""
   ]
  },
  {
   "cell_type": "code",
   "execution_count": null,
   "metadata": {},
   "outputs": [],
   "source": [
    "#Part 8: Define B1 B2 Function\n"
   ]
  },
  {
   "cell_type": "code",
   "execution_count": null,
   "metadata": {},
   "outputs": [],
   "source": [
    "#Part 9: Define a Function for terms inside the Summation"
   ]
  },
  {
   "cell_type": "code",
   "execution_count": null,
   "metadata": {},
   "outputs": [],
   "source": [
    "#Part 10: Define a Function for the Summation"
   ]
  },
  {
   "cell_type": "code",
   "execution_count": null,
   "metadata": {},
   "outputs": [],
   "source": [
    "#Part 11: We Check the Identity "
   ]
  },
  {
   "cell_type": "code",
   "execution_count": null,
   "metadata": {},
   "outputs": [],
   "source": [
    "#Part 12: Plotting the Solution"
   ]
  }
 ],
 "metadata": {
  "kernelspec": {
   "display_name": "Python 3",
   "language": "python",
   "name": "python3"
  },
  "language_info": {
   "codemirror_mode": {
    "name": "ipython",
    "version": 3
   },
   "file_extension": ".py",
   "mimetype": "text/x-python",
   "name": "python",
   "nbconvert_exporter": "python",
   "pygments_lexer": "ipython3",
   "version": "3.11.3"
  },
  "orig_nbformat": 4
 },
 "nbformat": 4,
 "nbformat_minor": 2
}
