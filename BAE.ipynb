{
 "cells": [
  {
   "attachments": {},
   "cell_type": "markdown",
   "metadata": {},
   "source": [
    "Components of the Entire Python3 program:\n",
    "\n",
    "1. Find the numerical solutions, cn, for any \"n\" constants (represented by zn) and delta \"d.\"\n",
    "\n",
    "2. Define the polynomial as a list of coefficients.\n",
    "\n",
    "3. Find close solutions. When we obtain solutions of the polynomial equations, we are only interested in the previous element of the sequence\n",
    "   This part of the code returns the \"closest\" solutions.\n",
    "\n",
    "4. Setting up a recursion.\n",
    "\n",
    "5. Checking the solution is close to zero.\n",
    "\n",
    "6. Checking that all solutions are different.\n",
    "\n",
    "7. Define A(z1, z2) function. \n",
    "\n",
    "8. Define B1 and B2 function. \n",
    "\n",
    "9. Define a function for terms inside the summation. \n",
    "\n",
    "10. Define a function for the summation. \n",
    "\n",
    "11. We check the identity. \n",
    "\n",
    "12. Plotting the soltuion. "
   ]
  },
  {
   "cell_type": "code",
   "execution_count": 3,
   "metadata": {},
   "outputs": [
    {
     "name": "stderr",
     "output_type": "stream",
     "text": [
      "C:\\Users\\coe_user\\AppData\\Local\\Temp\\ipykernel_8456\\1170155103.py:5: MatplotlibDeprecationWarning: The seaborn styles shipped by Matplotlib are deprecated since 3.6, as they no longer correspond to the styles shipped by seaborn. However, they will remain available as 'seaborn-v0_8-<style>'. Alternatively, directly use the seaborn API instead.\n",
      "  plt.style.use('seaborn-poster')\n"
     ]
    }
   ],
   "source": [
    "#Import libraries for plotting (matplotlib) and advanced mathematical operations (using numpy)\n",
    "import numpy as np\n",
    "from mpl_toolkits import mplot3d\n",
    "import matplotlib.pyplot as plt\n",
    "plt.style.use('seaborn-poster')"
   ]
  },
  {
   "cell_type": "code",
   "execution_count": 4,
   "metadata": {},
   "outputs": [
    {
     "name": "stdout",
     "output_type": "stream",
     "text": [
      "\n",
      "Test examples for n = 2 and n = 4 cases : \n",
      "\n",
      "[-0.2, -5.0]\n",
      "1.0\n",
      "\n",
      "\n",
      "[-0.004784688995215311, -0.14285714285714285, -3.6666666666666665, -399.0]\n",
      "1.0\n"
     ]
    }
   ],
   "source": [
    "#Part 1: Find the numerical solutions for any n constants\n",
    "\n",
    "#FUNCTION DEFINITION: Accepts parameters delta \"d\" and *z as pointer allowing for any number of z values \n",
    "def compute_coefficient(d, *z):\n",
    "    n = len(z)\n",
    "\n",
    "    is_even = n % 2 == 0 #if there is no remainder when divided by two, is_even is set to true. Otherwise, set to false.\n",
    "\n",
    "    #create an empty list to store the coefficients \n",
    "    coeffs = []\n",
    "\n",
    "    for i in range(n):\n",
    "        #initalize numerator and denominator for each element in the computation before updating the values in the second loop \n",
    "        numerator = 1\n",
    "        denominator = 1\n",
    "        \n",
    "        for j in range(n):\n",
    "\n",
    "            #compute the numerical solutions for the Bethe equations for the numerator and denominator \n",
    "            numerator *= (1 + z[i]*z[j] - d*z[i])\n",
    "            denominator *= (1 + z[j]*z[i] - d*z[j])\n",
    "\n",
    "        #append numerical solutions to the result and return as apart of the list\n",
    "        if is_even:\n",
    "            coeffs.append(-numerator/denominator) #when n is even, sign should be negative\n",
    "        else:\n",
    "             coeffs.append(numerator/denominator) #when n is odd, sign should be positive\n",
    "\n",
    "    return coeffs\n",
    "\n",
    "#FUNCTION CALL : Initialize list z and int d, store returned list and print \n",
    "print(\"\\nTest examples for n = 2 and n = 4 cases : \\n\")\n",
    "\n",
    "#Works for when 'z' contains two elements\n",
    "z2 = [2, 3]\n",
    "d2 = 4\n",
    "\n",
    "coeffs2 = compute_coefficient(d2, *z2)\n",
    "print(coeffs2)\n",
    "\n",
    "#Check: Product of coefficients (all the elements in the list) should sum to one \n",
    "from functools import reduce\n",
    "import operator\n",
    "product2 = reduce(operator.mul, coeffs2)\n",
    "print(product2)\n",
    "\n",
    "print(\"\\n\")\n",
    "\n",
    "#Works for when 'z' contains four elements\n",
    "z4 = [2, 3, 4, 5]\n",
    "d4 = 6\n",
    "\n",
    "coeffs4 = compute_coefficient(d4, *z4)\n",
    "print(coeffs4)\n",
    "\n",
    "product4 = reduce(operator.mul, coeffs4)\n",
    "print(product4)"
   ]
  },
  {
   "cell_type": "code",
   "execution_count": 5,
   "metadata": {},
   "outputs": [
    {
     "name": "stdout",
     "output_type": "stream",
     "text": [
      "\n",
      "Test example from BAE solutions.ipynb : \n",
      "\n",
      "[[1, 0, 0, 0, 0, 0.2], [1, 0, 0, 0, 0, 5.0]]\n",
      "\n",
      "\n",
      "[[1, 0, 1.0], [1, 0, 1.0]]\n"
     ]
    }
   ],
   "source": [
    "\n",
    "\"\"\"\n",
    "Notes: For each coefficient, you want to create the list [1, 0, ..., 0, ci]\n",
    "       Corresponds to z1L - c1 = 0, . . .,\n",
    "       L roots depend on the ith coefficient \n",
    "       The solution of the polynomial will be stored in a Result list of length L with the roots \n",
    "       Once we have the solution above, we want to pick the closest solution \n",
    "\"\"\"\n",
    "\n",
    "#Part 2: Define the polynomial as the list of coefficients \n",
    "def pol_coeffs(l, d, *z):\n",
    "\n",
    "    c = compute_coefficient(d, *z) #c is a list that stores all the coefficients \n",
    "    #convert the list of n numbers to a list of n lists ; each number becomes its own list; each list is length l + 1\n",
    "    #first element of the list will be 1, last will be ci, everything in between is zero \n",
    "\n",
    "    coeffs = [] #list of lists \n",
    "    results = [1]\n",
    "\n",
    "    for i in c:\n",
    "        \n",
    "        for j in range (l-1):\n",
    "\n",
    "            results.append(0)\n",
    "\n",
    "        results.append(-i)\n",
    "        coeffs.append(results) #attempt at appending for a specific coefficient (error message here, why?)\n",
    "        results = [1] #creates a list of length l + 1  \n",
    "        \n",
    "    return coeffs\n",
    "\n",
    "#Test example from BAEsolutionsN2.ipynb \n",
    "print(\"\\nTest example from BAE solutions.ipynb : \\n\")\n",
    "l1 = 5\n",
    "d1 = 4\n",
    "z1 = [2, 3]\n",
    "print(pol_coeffs(l1, d1, *z1))\n",
    "#print(np.roots(pol_coeffs(l1, d1, *z1))) ; Print the roots for each list\n",
    "\n",
    "print(\"\\n\")\n",
    "l2 = 2\n",
    "d2 = 0\n",
    "z2 = [1, 1]\n",
    "print(pol_coeffs(l2, d2, *z2))\n",
    "#print(np.roots(pol_coeffs(l2, d2, *z2)))"
   ]
  },
  {
   "cell_type": "code",
   "execution_count": 6,
   "metadata": {},
   "outputs": [
    {
     "name": "stdout",
     "output_type": "stream",
     "text": [
      "\n",
      "Printing closed solutions when 'cs_l = 2, cs_z = [1j, -1j], cs_d = 0.1, and cs_s = 1j': \n",
      "\n"
     ]
    },
    {
     "ename": "ValueError",
     "evalue": "Input must be a rank-1 array.",
     "output_type": "error",
     "traceback": [
      "\u001b[1;31m---------------------------------------------------------------------------\u001b[0m",
      "\u001b[1;31mValueError\u001b[0m                                Traceback (most recent call last)",
      "Cell \u001b[1;32mIn[6], line 20\u001b[0m\n\u001b[0;32m     17\u001b[0m     \u001b[39mreturn\u001b[39;00m \u001b[39mmin\u001b[39m(sols, key\u001b[39m=\u001b[39mnp\u001b[39m.\u001b[39mabs) \u001b[39m+\u001b[39m s\n\u001b[0;32m     19\u001b[0m \u001b[39mprint\u001b[39m(\u001b[39m\"\u001b[39m\u001b[39m\\n\u001b[39;00m\u001b[39mPrinting closed solutions when \u001b[39m\u001b[39m'\u001b[39m\u001b[39mcs_l = 2, cs_z = [1j, -1j], cs_d = 0.1, and cs_s = 1j\u001b[39m\u001b[39m'\u001b[39m\u001b[39m: \u001b[39m\u001b[39m\\n\u001b[39;00m\u001b[39m\"\u001b[39m)\n\u001b[1;32m---> 20\u001b[0m \u001b[39mprint\u001b[39m(close_sols(cs_l, \u001b[39m*\u001b[39;49mcs_z, d\u001b[39m=\u001b[39;49mcs_d, s\u001b[39m=\u001b[39;49mcs_s))\n",
      "Cell \u001b[1;32mIn[6], line 15\u001b[0m, in \u001b[0;36mclose_sols\u001b[1;34m(l, d, s, *zs)\u001b[0m\n\u001b[0;32m     13\u001b[0m \u001b[39mdef\u001b[39;00m \u001b[39mclose_sols\u001b[39m(l, \u001b[39m*\u001b[39mzs, d, s):\n\u001b[1;32m---> 15\u001b[0m     sols \u001b[39m=\u001b[39m np\u001b[39m.\u001b[39;49mroots(pol_coeffs(l, \u001b[39m*\u001b[39;49mzs, d))  \u001b[39m#now do a for loop where you go through each list of lists ; list of length n  \u001b[39;00m\n\u001b[0;32m     16\u001b[0m     sols \u001b[39m=\u001b[39m [x \u001b[39m-\u001b[39m s \u001b[39mfor\u001b[39;00m x \u001b[39min\u001b[39;00m sols]            \u001b[39m#calculates the previous element for zi\u001b[39;00m\n\u001b[0;32m     17\u001b[0m     \u001b[39mreturn\u001b[39;00m \u001b[39mmin\u001b[39m(sols, key\u001b[39m=\u001b[39mnp\u001b[39m.\u001b[39mabs) \u001b[39m+\u001b[39m s\n",
      "File \u001b[1;32m<__array_function__ internals>:200\u001b[0m, in \u001b[0;36mroots\u001b[1;34m(*args, **kwargs)\u001b[0m\n",
      "File \u001b[1;32m~\\AppData\\Local\\Packages\\PythonSoftwareFoundation.Python.3.11_qbz5n2kfra8p0\\LocalCache\\local-packages\\Python311\\site-packages\\numpy\\lib\\polynomial.py:230\u001b[0m, in \u001b[0;36mroots\u001b[1;34m(p)\u001b[0m\n\u001b[0;32m    228\u001b[0m p \u001b[39m=\u001b[39m atleast_1d(p)\n\u001b[0;32m    229\u001b[0m \u001b[39mif\u001b[39;00m p\u001b[39m.\u001b[39mndim \u001b[39m!=\u001b[39m \u001b[39m1\u001b[39m:\n\u001b[1;32m--> 230\u001b[0m     \u001b[39mraise\u001b[39;00m \u001b[39mValueError\u001b[39;00m(\u001b[39m\"\u001b[39m\u001b[39mInput must be a rank-1 array.\u001b[39m\u001b[39m\"\u001b[39m)\n\u001b[0;32m    232\u001b[0m \u001b[39m# find non-zero array entries\u001b[39;00m\n\u001b[0;32m    233\u001b[0m non_zero \u001b[39m=\u001b[39m NX\u001b[39m.\u001b[39mnonzero(NX\u001b[39m.\u001b[39mravel(p))[\u001b[39m0\u001b[39m]\n",
      "\u001b[1;31mValueError\u001b[0m: Input must be a rank-1 array."
     ]
    }
   ],
   "source": [
    "#Part 3: Finding close solutions\n",
    "\n",
    "cs_l = 2\n",
    "cs_z = [1j, -1j]\n",
    "cs_d = 0.1\n",
    "cs_s = 1j\n",
    "\n",
    "\"\"\"\n",
    "List of lists (for each sublists) -> array of roots -> pick the closest one \n",
    "Go back from n lists to n numbers \n",
    "\"\"\"\n",
    "\n",
    "def close_sols(l, *zs, d, s):\n",
    "    \n",
    "    sols = np.roots(pol_coeffs(l, *zs, d))  #now do a for loop where you go through each list of lists ; list of length n  \n",
    "    sols = [x - s for x in sols]            #calculates the previous element for zi\n",
    "    return min(sols, key=np.abs) + s\n",
    "\n",
    "print(\"\\nPrinting closed solutions when 'cs_l = 2, cs_z = [1j, -1j], cs_d = 0.1, and cs_s = 1j': \\n\")\n",
    "print(close_sols(cs_l, *cs_z, d=cs_d, s=cs_s))"
   ]
  },
  {
   "cell_type": "code",
   "execution_count": null,
   "metadata": {},
   "outputs": [
    {
     "ename": "ValueError",
     "evalue": "Input must be a rank-1 array.",
     "output_type": "error",
     "traceback": [
      "\u001b[1;31m---------------------------------------------------------------------------\u001b[0m",
      "\u001b[1;31mValueError\u001b[0m                                Traceback (most recent call last)",
      "Cell \u001b[1;32mIn[18], line 13\u001b[0m\n\u001b[0;32m     10\u001b[0m     \u001b[39mreturn\u001b[39;00m \u001b[39mtuple\u001b[39m(z)\n\u001b[0;32m     12\u001b[0m ks \u001b[39m=\u001b[39m [\u001b[39m1\u001b[39m, \u001b[39m2\u001b[39m]\n\u001b[1;32m---> 13\u001b[0m \u001b[39mprint\u001b[39m(\u001b[39m\"\u001b[39m\u001b[39m\\n\u001b[39;00m\u001b[39mPrinting the solutions to the system:\u001b[39m\u001b[39m\"\u001b[39m, sol_sys(\u001b[39m5\u001b[39;49m, \u001b[39m0.1\u001b[39;49m, \u001b[39m*\u001b[39;49mks, trials \u001b[39m=\u001b[39;49m trials))\n",
      "Cell \u001b[1;32mIn[18], line 6\u001b[0m, in \u001b[0;36msol_sys\u001b[1;34m(l, d, trials, *ks)\u001b[0m\n\u001b[0;32m      5\u001b[0m \u001b[39mdef\u001b[39;00m \u001b[39msol_sys\u001b[39m(l, d, \u001b[39m*\u001b[39mks, trials):\n\u001b[1;32m----> 6\u001b[0m     sol \u001b[39m=\u001b[39m np\u001b[39m.\u001b[39;49mroots(pol_coeffs(l, \u001b[39m0\u001b[39;49m, \u001b[39m0\u001b[39;49m, \u001b[39m0\u001b[39;49m))\n\u001b[0;32m      7\u001b[0m     z \u001b[39m=\u001b[39m [sol[k] \u001b[39mfor\u001b[39;00m k \u001b[39min\u001b[39;00m ks]\n\u001b[0;32m      8\u001b[0m     \u001b[39mfor\u001b[39;00m _ \u001b[39min\u001b[39;00m \u001b[39mrange\u001b[39m(trials):\n",
      "File \u001b[1;32m<__array_function__ internals>:200\u001b[0m, in \u001b[0;36mroots\u001b[1;34m(*args, **kwargs)\u001b[0m\n",
      "File \u001b[1;32m~\\AppData\\Local\\Packages\\PythonSoftwareFoundation.Python.3.11_qbz5n2kfra8p0\\LocalCache\\local-packages\\Python311\\site-packages\\numpy\\lib\\polynomial.py:230\u001b[0m, in \u001b[0;36mroots\u001b[1;34m(p)\u001b[0m\n\u001b[0;32m    228\u001b[0m p \u001b[39m=\u001b[39m atleast_1d(p)\n\u001b[0;32m    229\u001b[0m \u001b[39mif\u001b[39;00m p\u001b[39m.\u001b[39mndim \u001b[39m!=\u001b[39m \u001b[39m1\u001b[39m:\n\u001b[1;32m--> 230\u001b[0m     \u001b[39mraise\u001b[39;00m \u001b[39mValueError\u001b[39;00m(\u001b[39m\"\u001b[39m\u001b[39mInput must be a rank-1 array.\u001b[39m\u001b[39m\"\u001b[39m)\n\u001b[0;32m    232\u001b[0m \u001b[39m# find non-zero array entries\u001b[39;00m\n\u001b[0;32m    233\u001b[0m non_zero \u001b[39m=\u001b[39m NX\u001b[39m.\u001b[39mnonzero(NX\u001b[39m.\u001b[39mravel(p))[\u001b[39m0\u001b[39m]\n",
      "\u001b[1;31mValueError\u001b[0m: Input must be a rank-1 array."
     ]
    }
   ],
   "source": [
    "#Part 4: Setting up a recursion \n",
    "\n",
    "trials = 30\n",
    "\n",
    "def sol_sys(l, d, *ks, trials):\n",
    "    sol = np.roots(pol_coeffs(l, 0, 0, 0))\n",
    "    z = [sol[k] for k in ks]\n",
    "    for _ in range(trials):\n",
    "        z = [close_sols(l, *z, d=d, s=z_i) for z_i in z] \n",
    "    return tuple(z)\n",
    "\n",
    "ks = [1, 2]\n",
    "print(\"\\nPrinting the solutions to the system:\", sol_sys(5, 0.1, *ks, trials = trials))"
   ]
  },
  {
   "cell_type": "code",
   "execution_count": null,
   "metadata": {},
   "outputs": [
    {
     "ename": "IndexError",
     "evalue": "index 4 is out of bounds for axis 0 with size 4",
     "output_type": "error",
     "traceback": [
      "\u001b[1;31m---------------------------------------------------------------------------\u001b[0m",
      "\u001b[1;31mIndexError\u001b[0m                                Traceback (most recent call last)",
      "Cell \u001b[1;32mIn[100], line 7\u001b[0m\n\u001b[0;32m      4\u001b[0m ks \u001b[39m=\u001b[39m [\u001b[39m1\u001b[39m, \u001b[39m4\u001b[39m]\n\u001b[0;32m      5\u001b[0m trials \u001b[39m=\u001b[39m \u001b[39m30\u001b[39m\n\u001b[1;32m----> 7\u001b[0m z \u001b[39m=\u001b[39m sol_sys(l, d, trials \u001b[39m=\u001b[39;49m trials, \u001b[39m*\u001b[39;49mks)\n\u001b[0;32m      8\u001b[0m c \u001b[39m=\u001b[39m compute_coefficient(z[\u001b[39m0\u001b[39m], z[\u001b[39m1\u001b[39m], d)  \u001b[39m# Replace with the appropriate coefficient function\u001b[39;00m\n\u001b[0;32m     10\u001b[0m \u001b[39mprint\u001b[39m(\u001b[39m\"\u001b[39m\u001b[39m\\n\u001b[39;00m\u001b[39mChecking solutions are close to zero:\u001b[39m\u001b[39m\"\u001b[39m, (z[\u001b[39m0\u001b[39m]\u001b[39m*\u001b[39m\u001b[39m*\u001b[39ml \u001b[39m-\u001b[39m c),\u001b[39m\"\u001b[39m\u001b[39m,\u001b[39m\u001b[39m\"\u001b[39m, (z[\u001b[39m1\u001b[39m]\u001b[39m*\u001b[39m\u001b[39m*\u001b[39ml \u001b[39m-\u001b[39m c))\n",
      "Cell \u001b[1;32mIn[99], line 7\u001b[0m, in \u001b[0;36msol_sys\u001b[1;34m(l, d, trials, *ks)\u001b[0m\n\u001b[0;32m      5\u001b[0m \u001b[39mdef\u001b[39;00m \u001b[39msol_sys\u001b[39m(l, d, \u001b[39m*\u001b[39mks, trials):\n\u001b[0;32m      6\u001b[0m     sol \u001b[39m=\u001b[39m np\u001b[39m.\u001b[39mroots(pol_coeffs(l, \u001b[39m0\u001b[39m, \u001b[39m0\u001b[39m, \u001b[39m0\u001b[39m))\n\u001b[1;32m----> 7\u001b[0m     z \u001b[39m=\u001b[39m [sol[k] \u001b[39mfor\u001b[39;49;00m k \u001b[39min\u001b[39;49;00m ks]\n\u001b[0;32m      8\u001b[0m     \u001b[39mfor\u001b[39;00m _ \u001b[39min\u001b[39;00m \u001b[39mrange\u001b[39m(trials):\n\u001b[0;32m      9\u001b[0m         z \u001b[39m=\u001b[39m [close_sols(l, \u001b[39m*\u001b[39mz, d\u001b[39m=\u001b[39md, s\u001b[39m=\u001b[39mz_i) \u001b[39mfor\u001b[39;00m z_i \u001b[39min\u001b[39;00m z]\n",
      "Cell \u001b[1;32mIn[99], line 7\u001b[0m, in \u001b[0;36m<listcomp>\u001b[1;34m(.0)\u001b[0m\n\u001b[0;32m      5\u001b[0m \u001b[39mdef\u001b[39;00m \u001b[39msol_sys\u001b[39m(l, d, \u001b[39m*\u001b[39mks, trials):\n\u001b[0;32m      6\u001b[0m     sol \u001b[39m=\u001b[39m np\u001b[39m.\u001b[39mroots(pol_coeffs(l, \u001b[39m0\u001b[39m, \u001b[39m0\u001b[39m, \u001b[39m0\u001b[39m))\n\u001b[1;32m----> 7\u001b[0m     z \u001b[39m=\u001b[39m [sol[k] \u001b[39mfor\u001b[39;00m k \u001b[39min\u001b[39;00m ks]\n\u001b[0;32m      8\u001b[0m     \u001b[39mfor\u001b[39;00m _ \u001b[39min\u001b[39;00m \u001b[39mrange\u001b[39m(trials):\n\u001b[0;32m      9\u001b[0m         z \u001b[39m=\u001b[39m [close_sols(l, \u001b[39m*\u001b[39mz, d\u001b[39m=\u001b[39md, s\u001b[39m=\u001b[39mz_i) \u001b[39mfor\u001b[39;00m z_i \u001b[39min\u001b[39;00m z]\n",
      "\u001b[1;31mIndexError\u001b[0m: index 4 is out of bounds for axis 0 with size 4"
     ]
    }
   ],
   "source": [
    "#Part 5: Checking The Solution (Showing that all Solutions 'z' are Close to Zero) \n",
    "l = 5\n",
    "d = 0.1\n",
    "ks = [1, 4]\n",
    "trials = 30\n",
    "\n",
    "z = sol_sys(l, d, trials = trials, *ks)\n",
    "c = compute_coefficient(z[0], z[1], d)  # Replace with the appropriate coefficient function\n",
    "\n",
    "print(\"\\nChecking solutions are close to zero:\", (z[0]**l - c),\",\", (z[1]**l - c))"
   ]
  },
  {
   "cell_type": "code",
   "execution_count": null,
   "metadata": {},
   "outputs": [
    {
     "name": "stdout",
     "output_type": "stream",
     "text": [
      "\n",
      "Printing all solutions:  [((0.8816575400291621-0.8135306919683141j), (-1.1991792554873144+0.19612519177979773j)), ((0.8816575400291621-0.8135306919683141j), (-1.1991792554873144+0.19612519177979773j)), ((0.8816575400291621-0.8135306919683141j), (-1.1991792554873144+0.19612519177979773j)), ((0.8816575400291621-0.8135306919683141j), (-1.1991792554873144+0.19612519177979773j)), ((0.8816575400291621-0.8135306919683141j), (-1.1991792554873144+0.19612519177979773j)), ((0.8816575400291621-0.8135306919683141j), (-1.1991792554873144+0.19612519177979773j)), ((0.8816575400291621-0.8135306919683141j), (-1.1991792554873144+0.19612519177979773j)), ((0.8816575400291621-0.8135306919683141j), (-1.1991792554873144+0.19612519177979773j)), ((0.8816575400291621-0.8135306919683141j), (-1.1991792554873144+0.19612519177979773j)), ((0.8816575400291621-0.8135306919683141j), (-1.1991792554873144+0.19612519177979773j)), ((0.8816575400291621-0.8135306919683141j), (-1.1991792554873144+0.19612519177979773j)), ((0.8816575400291621-0.8135306919683141j), (-1.1991792554873144+0.19612519177979773j)), ((0.8816575400291621-0.8135306919683141j), (-1.1991792554873144+0.19612519177979773j)), ((0.8816575400291621-0.8135306919683141j), (-1.1991792554873144+0.19612519177979773j)), ((0.8816575400291621-0.8135306919683141j), (-1.1991792554873144+0.19612519177979773j)), ((0.8816575400291621-0.8135306919683141j), (-1.1991792554873144+0.19612519177979773j)), ((0.8816575400291621-0.8135306919683141j), (-1.1991792554873144+0.19612519177979773j)), ((0.8816575400291621-0.8135306919683141j), (-1.1991792554873144+0.19612519177979773j)), ((0.8816575400291621-0.8135306919683141j), (-1.1991792554873144+0.19612519177979773j)), ((0.8816575400291621-0.8135306919683141j), (-1.1991792554873144+0.19612519177979773j))]\n",
      "\n",
      "Printing different solutions:  []\n"
     ]
    }
   ],
   "source": [
    "#Part 6: Checking the Solution (Showing that all Solutions 'z' are Different) \n",
    "l = 5\n",
    "d = .1\n",
    "trails = 300\n",
    "all_sol = [sol_sys(l, d, *ks, trials = trials) for k1 in range(l) for k2 in range(l) if k1 != k2]\n",
    "print(\"\\nPrinting all solutions: \", all_sol)\n",
    "\n",
    "diff = [abs(x[0]-y[0])+abs(x[1]-y[1]) for x in all_sol for y in all_sol if x != y]\n",
    "diff.sort()\n",
    "print(\"\\nPrinting different solutions: \", diff)"
   ]
  },
  {
   "cell_type": "code",
   "execution_count": null,
   "metadata": {},
   "outputs": [
    {
     "name": "stdout",
     "output_type": "stream",
     "text": [
      "\n",
      "Checking initial condition A:  -5.0\n"
     ]
    }
   ],
   "source": [
    "#Part 7: Checking the Initial Conditions \n",
    "\n",
    "def A(z1, z2, d):\n",
    "    return (-1)* (1 + z1*z2 - d*z2)/(1 + z1 *z2 - d*z1)\n",
    "\n",
    "print(\"\\nChecking initial condition A: \", A(1,2,4)) #expected -5.0\n"
   ]
  },
  {
   "cell_type": "code",
   "execution_count": null,
   "metadata": {},
   "outputs": [],
   "source": [
    "#Part 8: Define B1 B2 Function\n"
   ]
  },
  {
   "cell_type": "code",
   "execution_count": null,
   "metadata": {},
   "outputs": [],
   "source": [
    "#Part 9: Define a Function for terms inside the Summation"
   ]
  },
  {
   "cell_type": "code",
   "execution_count": null,
   "metadata": {},
   "outputs": [],
   "source": [
    "#Part 10: Define a Function for the Summation"
   ]
  },
  {
   "cell_type": "code",
   "execution_count": null,
   "metadata": {},
   "outputs": [],
   "source": [
    "#Part 11: We Check the Identity "
   ]
  },
  {
   "cell_type": "code",
   "execution_count": null,
   "metadata": {},
   "outputs": [],
   "source": [
    "#Part 12: Plotting the Solution"
   ]
  }
 ],
 "metadata": {
  "kernelspec": {
   "display_name": "Python 3",
   "language": "python",
   "name": "python3"
  },
  "language_info": {
   "codemirror_mode": {
    "name": "ipython",
    "version": 3
   },
   "file_extension": ".py",
   "mimetype": "text/x-python",
   "name": "python",
   "nbconvert_exporter": "python",
   "pygments_lexer": "ipython3",
   "version": "3.11.3"
  },
  "orig_nbformat": 4
 },
 "nbformat": 4,
 "nbformat_minor": 2
}
