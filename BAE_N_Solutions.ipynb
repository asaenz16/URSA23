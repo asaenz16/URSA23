{
 "cells": [
  {
   "attachments": {},
   "cell_type": "markdown",
   "metadata": {},
   "source": [
    "Components of the entire Python3 program:\n",
    "\n",
    "QUESTION: ARE THE CODE SECTIONS FOR A JUPYTER NOTEBOOK DISTINCT OR IS A WAY TO COMBINE THEM?\n",
    "\n",
    "1. Find the numerical solutions, cn, for any \"n\" constants (represented by zn) and delta \"d.\"\n",
    "2. Define the polynomial as a list of coefficients.\n",
    "3. Find close solutions. When we obtain solutions of the polynomial equations, we are only interested in the previous element of the sequence. This part of the code returns the \"closest\" solutions.\n",
    "4. Setting up a recursion.\n",
    "5. Checking the solution.\n",
    "6. Checking that all solutions are different.\n",
    "7. Plotting the solutions.\n",
    "8. Define A(z1, z2) function #QUESTION: does it go to zn or just until z1 and z2?\n",
    "9. Define B1 and B2 function \n",
    "10. Define a function for terms inside the summation \n",
    "11. Define a function for the summation \n",
    "12. We check the identity. We set the parameters (the last list list is a list of all possible coordinates)"
   ]
  },
  {
   "cell_type": "code",
   "execution_count": 14,
   "metadata": {},
   "outputs": [
    {
     "name": "stdout",
     "output_type": "stream",
     "text": [
      "[-0.004784688995215311, -0.14285714285714285, -3.6666666666666665, -399.0]\n",
      "1.0\n"
     ]
    },
    {
     "name": "stderr",
     "output_type": "stream",
     "text": [
      "C:\\Users\\faksm\\AppData\\Local\\Temp\\ipykernel_18716\\491183736.py:5: MatplotlibDeprecationWarning: The seaborn styles shipped by Matplotlib are deprecated since 3.6, as they no longer correspond to the styles shipped by seaborn. However, they will remain available as 'seaborn-v0_8-<style>'. Alternatively, directly use the seaborn API instead.\n",
      "  plt.style.use('seaborn-poster')\n"
     ]
    },
    {
     "ename": "ZeroDivisionError",
     "evalue": "division by zero",
     "output_type": "error",
     "traceback": [
      "\u001b[1;31m---------------------------------------------------------------------------\u001b[0m",
      "\u001b[1;31mZeroDivisionError\u001b[0m                         Traceback (most recent call last)",
      "Cell \u001b[1;32mIn[14], line 64\u001b[0m\n\u001b[0;32m     60\u001b[0m         coefficients\u001b[39m.\u001b[39mappend(\u001b[39m-\u001b[39mcoeff_i)\n\u001b[0;32m     62\u001b[0m     \u001b[39mreturn\u001b[39;00m coefficients\n\u001b[1;32m---> 64\u001b[0m \u001b[39mprint\u001b[39m(pol_coeff(\u001b[39m2\u001b[39;49m, \u001b[39m1\u001b[39;49m, \u001b[39m1\u001b[39;49m, \u001b[39m0\u001b[39;49m))\n",
      "Cell \u001b[1;32mIn[14], line 59\u001b[0m, in \u001b[0;36mpol_coeff\u001b[1;34m(l, d, *z)\u001b[0m\n\u001b[0;32m     57\u001b[0m     coeff_i \u001b[39m=\u001b[39m \u001b[39m1\u001b[39m\n\u001b[0;32m     58\u001b[0m     \u001b[39mfor\u001b[39;00m j \u001b[39min\u001b[39;00m \u001b[39mrange\u001b[39m(\u001b[39mlen\u001b[39m(z)):\n\u001b[1;32m---> 59\u001b[0m         coeff_i \u001b[39m*\u001b[39m\u001b[39m=\u001b[39m (\u001b[39m1\u001b[39;49m \u001b[39m+\u001b[39;49m z[i]\u001b[39m*\u001b[39;49mz[j] \u001b[39m-\u001b[39;49m d\u001b[39m*\u001b[39;49mz[i]) \u001b[39m/\u001b[39;49m (\u001b[39m1\u001b[39;49m \u001b[39m+\u001b[39;49m z[j]\u001b[39m*\u001b[39;49mz[i] \u001b[39m-\u001b[39;49m d\u001b[39m*\u001b[39;49mz[j]) \u001b[39mif\u001b[39;00m i \u001b[39m!=\u001b[39m j \u001b[39melse\u001b[39;00m \u001b[39m1\u001b[39m\n\u001b[0;32m     60\u001b[0m     coefficients\u001b[39m.\u001b[39mappend(\u001b[39m-\u001b[39mcoeff_i)\n\u001b[0;32m     62\u001b[0m \u001b[39mreturn\u001b[39;00m coefficients\n",
      "\u001b[1;31mZeroDivisionError\u001b[0m: division by zero"
     ]
    }
   ],
   "source": [
    "#Import libraries for plotting (matplotlib) and advanced mathematical operations (using numpy)\n",
    "import numpy as np\n",
    "from mpl_toolkits import mplot3d\n",
    "import matplotlib.pyplot as plt\n",
    "plt.style.use('seaborn-poster')\n",
    "\n",
    "#Step 1: Find the numerical solutions for any n constants\n",
    "\n",
    "#FUNCTION DEFINITION: Accepts parameters delta \"d\" and *z as pointer allowing for any number of z values \n",
    "def compute_coefficient(d, *z):\n",
    "    n = len(z)\n",
    "\n",
    "    #create an empty list to store the coefficients \n",
    "    coeffs = []\n",
    "\n",
    "    for i in range(n):\n",
    "        #initalize numerator and denominator for each element in the computation before updating the values in the second loop \n",
    "        numerator = 1\n",
    "        denominator = 1\n",
    "        for j in range(n):\n",
    "\n",
    "            #compute the numerical solutions for the Bethe equations for the numerator and denominator \n",
    "            numerator *= (1 + z[i]*z[j] - d*z[i])\n",
    "            denominator *= (1 + z[j]*z[i] - d*z[j])\n",
    "\n",
    "        #append numerical solutions to the result and return as apart of the list\n",
    "        coeffs.append(-numerator/denominator)\n",
    "\n",
    "    return coeffs\n",
    "\n",
    "#FUNCTION CALL : Initialize list z and int d, store returned list and print \n",
    "\n",
    "#Works for when 'z' contains two elements!\n",
    "# z = [2, 3]\n",
    "# d = 4\n",
    "\n",
    "#Works for when 'z' contains four elements!\n",
    "z = [2, 3, 4, 5]\n",
    "d = 6\n",
    "\n",
    "coeffs = compute_coefficient(d, *z)\n",
    "print(coeffs)\n",
    "\n",
    "#Check: Product of coefficients (all the elements in the list) should sum to one \n",
    "from functools import reduce\n",
    "import operator\n",
    "product = reduce(operator.mul, coeffs)\n",
    "print(product)\n",
    "\n",
    "\n",
    "#Step 2: Define the polynomial as the list of coefficients (FIX HERE!!!!)\n",
    "def pol_coeff(l, d, *z):\n",
    "\n",
    "    coeffs = [1] + [0] * (l - 1)\n",
    "    \n",
    "    for i in range(l):\n",
    "        coeff_i = 1\n",
    "        for j in range(len(z)):\n",
    "            coeff_i *= (1 + z[i]*z[j] - d*z[i]) / (1 + z[j]*z[i] - d*z[j])\n",
    "        coeffs.append(-coeff_i)\n",
    "    \n",
    "    return coeffs\n",
    "\n",
    "print(pol_coeff(5, 2, 3, 4))\n",
    "print(pol_coeff(2, 1, 1, 0))"
   ]
  }
 ],
 "metadata": {
  "kernelspec": {
   "display_name": "Python 3",
   "language": "python",
   "name": "python3"
  },
  "language_info": {
   "codemirror_mode": {
    "name": "ipython",
    "version": 3
   },
   "file_extension": ".py",
   "mimetype": "text/x-python",
   "name": "python",
   "nbconvert_exporter": "python",
   "pygments_lexer": "ipython3",
   "version": "3.10.2"
  },
  "orig_nbformat": 4
 },
 "nbformat": 4,
 "nbformat_minor": 2
}
