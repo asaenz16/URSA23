{
 "cells": [
  {
   "cell_type": "code",
   "execution_count": null,
   "metadata": {},
   "outputs": [],
   "source": [
    "#Packages and setup to for plotting\n",
    "import numpy as np\n",
    "from mpl_toolkits import mplot3d\n",
    "import matplotlib.pyplot as plt\n",
    "plt.style.use('seaborn-poster')"
   ]
  },
  {
   "cell_type": "code",
   "execution_count": 4,
   "metadata": {},
   "outputs": [
    {
     "name": "stdout",
     "output_type": "stream",
     "text": [
      "-0.004784688995215311\n",
      "-0.16544117647058826\n",
      "-1.2637362637362637\n",
      "-35.65\n",
      "0.0356626249137859\n"
     ]
    }
   ],
   "source": [
    "#Computing ci through cn when i = 1 and n = 4 \n",
    "\n",
    "def c1(z1, z2, z3, z4, d): #Function to compute Z1L\n",
    "    return -((1 + z1*z2 - d*z1)/(1 + z1*z2 - d*z2)) * ((1 + z1*z3 - d*z1)/(1 + z1*z3 - d*z3)) * ((1 + z1*z4 - d*z1)/(1 + z1*z4 - d*z4)) #where do the parenthesis around the negative sign go \n",
    "\n",
    "def c2(z1, z2, z3, z4, d): #Function to compute Z2L \n",
    "    return -((1 + z1*z2 - d*z2)/(1 + z1*z2 - d*z1)) * ((1 + z2*z3 - d*z2)/(1 + z2*z3 - d*z3)) * ((1 + z2*z4 - d*z2)/(1 + z2*z4 - d*z4))\n",
    "\n",
    "def c3(z1, z2, z3, z4, d): #Function to compute Z3L\n",
    "    return -((1 + z1*z3 - d*z3)/(1 + z1*z3 - d*z1)) * ((1 + z2*z3 - d*z2)/(1 + z2*z3 - d*z2)) * ((1 + z3*z4 - d*z3)/(1 + z3*z4 - d*z4))\n",
    "\n",
    "def c4(z1, z2, z3, z4, d): #Function to compute Z4L \n",
    "   return -((1 + z1*z4 - d*z4)/(1+z1*z4 - d*z1)) * ((1 + z2*z4 - d*z4)/(1 + z2*z4 - d*z2)) * ((1 + z4*z4 - d*z4)/(1 + z4*z4 - d*z4)) #Check for incorrect statement\n",
    "\n",
    "#Functions calls for testing \n",
    "#Arguments: z1, z2, z3, z4, and d \n",
    "#Note: variable d is shortened for \"delta\"\n",
    "\n",
    "print(c1(2, 3, 4, 5, 6))\n",
    "print(c2(3, 4, 5, 6, 7))\n",
    "print(c3(4, 5, 6, 7, 8))\n",
    "print(c4(5, 6, 7, 8, 9))\n",
    "\n",
    "#Check if the product of coefficients is one:\n",
    "print((c1(2, 3, 4, 5, 6)) * (c2(3, 4, 5, 6, 7)) * (c3(4, 5, 6, 7, 8)) * (c4(5, 6, 7, 8, 9)))\n"
   ]
  }
 ],
 "metadata": {
  "kernelspec": {
   "display_name": "Python 3",
   "language": "python",
   "name": "python3"
  },
  "language_info": {
   "codemirror_mode": {
    "name": "ipython",
    "version": 3
   },
   "file_extension": ".py",
   "mimetype": "text/x-python",
   "name": "python",
   "nbconvert_exporter": "python",
   "pygments_lexer": "ipython3",
   "version": "3.9.13"
  },
  "orig_nbformat": 4
 },
 "nbformat": 4,
 "nbformat_minor": 2
}
